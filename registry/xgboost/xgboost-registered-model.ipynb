{
 "cells": [
  {
   "attachments": {},
   "cell_type": "markdown",
   "metadata": {},
   "source": [
    "# Registering a XGBoost model on Verta\n",
    "\n",
    "Within Verta, a \"Model\" can be any arbitrary function: a traditional ML model (e.g., sklearn, PyTorch, TF, etc); a function (e.g., squaring a number, making a DB function etc.); or a mixture of the above (e.g., pre-processing code, a DB call, and then a model application.) See more [here](https://docs.verta.ai/verta/registry/concepts).\n",
    "\n",
    "This notebook provides an example of how to register a XGBoost model on Verta as a Verta Standard Model via convenience functions."
   ]
  },
  {
   "attachments": {},
   "cell_type": "markdown",
   "metadata": {},
   "source": [
    "<a href=\"https://colab.research.google.com/github/VertaAI/examples/blob/registry_examples/registry/xgboost/xgboost-registered-model.ipynb\" target=\"_parent\"><img src=\"https://colab.research.google.com/assets/colab-badge.svg\" alt=\"Open In Colab\"/></a>"
   ]
  },
  {
   "cell_type": "markdown",
   "metadata": {},
   "source": [
    "## 0. Imports"
   ]
  },
  {
   "cell_type": "code",
   "execution_count": null,
   "metadata": {},
   "outputs": [],
   "source": [
    "!pip install wget  # you may need pip3\n",
    "!pip install verta # restart colab if prompted\n",
    "!pip install xgboost"
   ]
  },
  {
   "cell_type": "code",
   "execution_count": null,
   "metadata": {},
   "outputs": [],
   "source": [
    "import warnings\n",
    "warnings.filterwarnings(\"ignore\", category=FutureWarning)\n",
    "\n",
    "import numpy as np\n",
    "import pandas as pd\n",
    "\n",
    "import xgboost as xgb"
   ]
  },
  {
   "cell_type": "markdown",
   "metadata": {},
   "source": [
    "---"
   ]
  },
  {
   "attachments": {},
   "cell_type": "markdown",
   "metadata": {},
   "source": [
    "## 1. Register Model"
   ]
  },
  {
   "attachments": {},
   "cell_type": "markdown",
   "metadata": {},
   "source": [
    "### 1.1 (Optional) Model Training \n",
    "\n",
    "A model has to exist before we can register, so we will also train one here in our notebook.\n",
    "\n",
    "If you already have a trained xgboost model pickled into a file, you can skip this step and directly register it on the catalog"
   ]
  },
  {
   "attachments": {},
   "cell_type": "markdown",
   "metadata": {},
   "source": [
    "#### 1.1.1 Load Training Data"
   ]
  },
  {
   "cell_type": "code",
   "execution_count": null,
   "metadata": {},
   "outputs": [],
   "source": [
    "from sklearn import datasets\n",
    "\n",
    "data = datasets.load_wine()\n",
    "\n",
    "X = data['data']\n",
    "y = data['target']\n",
    "\n",
    "dtrain = xgb.DMatrix(X, label=y)"
   ]
  },
  {
   "cell_type": "code",
   "execution_count": null,
   "metadata": {},
   "outputs": [],
   "source": [
    "df = pd.DataFrame(np.hstack((X, y.reshape(-1, 1))),\n",
    "                  columns=data['feature_names'] + ['species'])\n",
    "\n",
    "df.head()"
   ]
  },
  {
   "attachments": {},
   "cell_type": "markdown",
   "metadata": {},
   "source": [
    "#### 1.1.2 Train/Test code"
   ]
  },
  {
   "attachments": {},
   "cell_type": "markdown",
   "metadata": {},
   "source": [
    "**Model Info**\n",
    "\n",
    "We'll be training an XGBoost Regressor on the [Wine-Quality](https://archive.ics.uci.edu/ml/datasets/wine+quality) dataset to predict a score from 0-10 based physiochemical features of each."
   ]
  },
  {
   "cell_type": "code",
   "execution_count": null,
   "metadata": {},
   "outputs": [],
   "source": [
    "hyperparams =  {\n",
    "    'eta': 0.5,\n",
    "    'max_depth' : 2,\n",
    "}\n",
    "\n",
    "model = xgb.XGBRegressor(**hyperparams)\n",
    "model.fit(X, y)"
   ]
  },
  {
   "cell_type": "code",
   "execution_count": null,
   "metadata": {},
   "outputs": [],
   "source": [
    "# Calculate and Log Accuracy on Full Training Set\n",
    "train_acc = model.score(X, y)\n",
    "print(\"Training accuracy: {:.4f}\".format(train_acc))"
   ]
  },
  {
   "attachments": {},
   "cell_type": "markdown",
   "metadata": {},
   "source": [
    "### 1.2 Register Model to Verta Model Catalog"
   ]
  },
  {
   "attachments": {},
   "cell_type": "markdown",
   "metadata": {},
   "source": [
    "Now that the model is in a good shape, we can register it into the Verta platform.\n",
    "\n",
    "We'll connect to Verta through the [Verta Python Client](https://verta.readthedocs.io/en/main/_autogen/verta.Client.html), \n",
    "create a [registered model](https://verta.readthedocs.io/en/master/_autogen/verta.registry.entities.RegisteredModel.html) for our XGBoost model \n",
    "and a [version](https://verta.readthedocs.io/en/master/_autogen/verta.registry.entities.RegisteredModelVersion.html) to associate this particular model with on the catalog.\n",
    "\n",
    "All of these can be viewed in the Verta web app once they are created."
   ]
  },
  {
   "cell_type": "code",
   "execution_count": null,
   "metadata": {},
   "outputs": [],
   "source": [
    "# Paste your credentials in this cell or anywhere above this along with the code snippet to connect to Verta Platform\n",
    "\n",
    "from verta import Client\n",
    "\n",
    "client = Client(\n",
    "        #   host=\"app.verta.ai\",\n",
    "        #   email=\"user@verta.ai\",\n",
    "        #   dev_key=\"a765b2de-786d-466c-b2d8-thiye06f80d5\",\n",
    "        )"
   ]
  },
  {
   "cell_type": "code",
   "execution_count": null,
   "metadata": {},
   "outputs": [],
   "source": [
    "# Create/Get a Verta registered model\n",
    "\n",
    "from verta.registry import data_type, task_type\n",
    "\n",
    "registered_model = client.get_or_create_registered_model(\n",
    "    name=\"wine-xgboost-example\", # Name to identify on the catalog\n",
    "    desc=\"Models trained to predict a score from 0-10 given physiochemical features of a wine\", # Small description to show on Model Card\n",
    "    data_type=data_type.Tabular(), # Data Type of the Model\n",
    "    task_type=task_type.Regression(), # Task Type of the Model\n",
    "    labels=[\"tabular\", \"xgboost\"]) # tags/labels to filter, search and categorize"
   ]
  },
  {
   "attachments": {},
   "cell_type": "markdown",
   "metadata": {},
   "source": [
    "#### 1.2.1 Register from the model object\n",
    " \n",
    "If you are in the same file where you have the model object (can be loaded through joblib/cloudpickle if saved into a pickle file) handy, use the code below to package the model"
   ]
  },
  {
   "cell_type": "code",
   "execution_count": null,
   "metadata": {},
   "outputs": [],
   "source": [
    "from verta.environment import Python\n",
    "from verta.utils import ModelAPI\n",
    "\n",
    "# uncommment the below if you want to load it from a pickled object\n",
    "# import cloudpickle\n",
    "# model = cloudpickle.load(open(\"<filepath_to_model.pkl>\", \"rb\"))\n",
    "\n",
    "model_version = registered_model.create_standard_model_from_xgboost(\n",
    "    model, \n",
    "    environment=Python(requirements=[\"xgboost\", \"sklearn\"]), \n",
    "    name=\"v1\", # Name to identify the version in the model versions tab\n",
    "    labels=[\"std_model_xgboost\"], # tags/labels to filter, search and categorize\n",
    "    model_api=ModelAPI(X, y), # (Optional) To Populate the Model API\n",
    "    )"
   ]
  },
  {
   "cell_type": "markdown",
   "metadata": {},
   "source": [
    "---"
   ]
  },
  {
   "attachments": {},
   "cell_type": "markdown",
   "metadata": {},
   "source": [
    "And that's it! You should be able to see your model in the Model Catalog"
   ]
  }
 ],
 "metadata": {
  "kernelspec": {
   "display_name": "Python 3",
   "language": "python",
   "name": "python3"
  },
  "language_info": {
   "codemirror_mode": {
    "name": "ipython",
    "version": 3
   },
   "file_extension": ".py",
   "mimetype": "text/x-python",
   "name": "python",
   "nbconvert_exporter": "python",
   "pygments_lexer": "ipython3",
   "version": "3.9.13"
  }
 },
 "nbformat": 4,
 "nbformat_minor": 2
}
