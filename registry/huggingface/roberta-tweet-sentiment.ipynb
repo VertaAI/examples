{
 "cells": [
  {
   "attachments": {},
   "cell_type": "markdown",
   "metadata": {},
   "source": [
    "# Registering a Hugging Face (roBERTa Sentiment Classification) model on Verta\n",
    "\n",
    "Within Verta, a \"Model\" can be any arbitrary function: a traditional ML model (e.g., sklearn, PyTorch, TF, etc); a function (e.g., squaring a number, making a DB function etc.); or a mixture of the above (e.g., pre-processing code, a DB call, and then a model application.) See more [here](https://docs.verta.ai/verta/registry/concepts).\n",
    "\n",
    "This notebook provides an example of how to catalog a Hugging Face model on Verta as a Verta Standard Model by extending [VertaModelBase](https://verta.readthedocs.io/en/master/_autogen/verta.registry.VertaModelBase.html?highlight=VertaModelBase#verta.registry.VertaModelBase).\n",
    "\n",
    "Updated for Verta version: 0.21.0"
   ]
  },
  {
   "attachments": {},
   "cell_type": "markdown",
   "metadata": {},
   "source": [
    "This notebook walks through initializing roBERTa sentiment classification model through huggingface, and cataloging them to the Verta platform."
   ]
  },
  {
   "attachments": {},
   "cell_type": "markdown",
   "metadata": {},
   "source": [
    "<a href=\"https://colab.research.google.com/github/VertaAI/examples/blob/registry_examples/registry/huggingface/roberta-tweet-sentiment.ipynb\" target=\"_parent\"><img src=\"https://colab.research.google.com/assets/colab-badge.svg\" alt=\"Open In Colab\"/></a>"
   ]
  },
  {
   "attachments": {},
   "cell_type": "markdown",
   "metadata": {},
   "source": [
    "## 0. Imports"
   ]
  },
  {
   "cell_type": "code",
   "execution_count": null,
   "metadata": {},
   "outputs": [],
   "source": [
    "!python -m pip install verta\n",
    "!python -m pip install transformers"
   ]
  },
  {
   "cell_type": "code",
   "execution_count": null,
   "metadata": {},
   "outputs": [],
   "source": [
    "from transformers import (\n",
    "    pipeline,\n",
    "    AutoModelForSequenceClassification,\n",
    "    AutoTokenizer,\n",
    ")"
   ]
  },
  {
   "attachments": {},
   "cell_type": "markdown",
   "metadata": {},
   "source": [
    "## 1. Register model"
   ]
  },
  {
   "attachments": {},
   "cell_type": "markdown",
   "metadata": {},
   "source": [
    "### 1.1 Define Model"
   ]
  },
  {
   "attachments": {},
   "cell_type": "markdown",
   "metadata": {},
   "source": [
    "A model has to exist before we can register, so we will instantiate one here in our notebook.\n",
    "\n",
    "This model class will be an extensible wrapper over a [pre-trained Hugging Face classifier](https://huggingface.co/transformers/index.html)."
   ]
  },
  {
   "attachments": {},
   "cell_type": "markdown",
   "metadata": {},
   "source": [
    "**Model Info**\n",
    "\n",
    "This is a RoBERTa-base model trained on ~124M tweets from January 2018 to December 2021, and finetuned for sentiment analysis with the TweetEval benchmark. The original Twitter-based RoBERTa model can be found here and the original reference paper is [TweetEval](https://github.com/cardiffnlp/tweeteval). This model is suitable for English.\n",
    "\n",
    "Reference Paper: [TimeLMs paper](https://arxiv.org/abs/2202.03829).\n",
    "Git Repo: [TimeLMs official repository](https://github.com/cardiffnlp/timelms).\n",
    "\n",
    "Labels: 0 -> Negative; 1 -> Neutral; 2 -> Positive"
   ]
  },
  {
   "cell_type": "code",
   "execution_count": null,
   "metadata": {},
   "outputs": [],
   "source": [
    "from verta.registry import VertaModelBase, verify_io\n",
    "from verta.utils import ModelAPI\n",
    "\n",
    "class roBERTa(VertaModelBase):\n",
    "    MODEL = \"cardiffnlp/twitter-roberta-base-sentiment-latest\"\n",
    "\n",
    "    def __init__(self, artifacts=None):\n",
    "        self.model = pipeline(\n",
    "            task=\"sentiment-analysis\",\n",
    "            model=AutoModelForSequenceClassification.from_pretrained(self.MODEL),\n",
    "            tokenizer=AutoTokenizer.from_pretrained(self.MODEL),\n",
    "        )\n",
    "\n",
    "    @verify_io\n",
    "    def predict(self, texts):\n",
    "        return self.model(texts)\n",
    "\n",
    "    def example(self):\n",
    "        return [\n",
    "            \"I like you\",\n",
    "            \"I don't like this film\",\n",
    "        ]"
   ]
  },
  {
   "cell_type": "markdown",
   "metadata": {},
   "source": [
    "As a sanity check, we can validate that our model is instantiable and can produce predictions."
   ]
  },
  {
   "cell_type": "code",
   "execution_count": null,
   "metadata": {},
   "outputs": [],
   "source": [
    "roberta = roBERTa()\n",
    "\n",
    "texts = roberta.example()\n",
    "prediction = roberta.predict(texts)\n",
    "\n",
    "print(texts)\n",
    "print(prediction)"
   ]
  },
  {
   "attachments": {},
   "cell_type": "markdown",
   "metadata": {},
   "source": [
    "### 1.2. Register Model to Verta Model Catalog"
   ]
  },
  {
   "attachments": {},
   "cell_type": "markdown",
   "metadata": {},
   "source": [
    "Now that the model is in a good shape, we can register it into the Verta platform.\n",
    "\n",
    "We'll connect to Verta through the [Verta Python Client](https://verta.readthedocs.io/en/main/_autogen/verta.Client.html)\n",
    "create a [registered model](https://verta.readthedocs.io/en/master/_autogen/verta.registry.entities.RegisteredModel.html) for our roBERTa text classification model  \n",
    "and a [version](https://verta.readthedocs.io/en/master/_autogen/verta.registry.entities.RegisteredModelVersion.html) to associate this particular model with.\n",
    "\n",
    "All of these can be viewed in the Verta web app once they are created."
   ]
  },
  {
   "cell_type": "code",
   "execution_count": null,
   "metadata": {},
   "outputs": [],
   "source": [
    "# Paste your credentials in this cell or anywhere above this along with the code snippet to connect to Verta Platform\n",
    "\n",
    "from verta import Client\n",
    "\n",
    "client = Client(\n",
    "        #   host=\"app.verta.ai\",\n",
    "        #   email=\"user@verta.ai\",\n",
    "        #   dev_key=\"a765b2de-786d-466c-b2d8-thiye06f80d5\",\n",
    "        )"
   ]
  },
  {
   "cell_type": "code",
   "execution_count": null,
   "metadata": {},
   "outputs": [],
   "source": [
    "# Create/Get a Verta registered model\n",
    "\n",
    "from verta.registry import data_type, task_type\n",
    "\n",
    "registered_model = client.get_or_create_registered_model(\n",
    "    name=\"Twitter-roBERTa-base-example\", # Name to identify on the catalog\n",
    "    desc=\"Model for Sentiment Analysis on Tweets\", # Small description to show on Model Card\n",
    "    data_type=data_type.Text(), # Data Type of the Model\n",
    "    task_type=task_type.Classification(), # Task Type of the Model\n",
    "    labels=[\"NLP\", \"Neural Net\"], # tags/labels to filter, search and categorize\n",
    ")"
   ]
  },
  {
   "cell_type": "code",
   "execution_count": null,
   "metadata": {},
   "outputs": [],
   "source": [
    "from verta.environment import Python\n",
    "\n",
    "distilbert_model = registered_model.create_standard_model(\n",
    "    model_cls=roBERTa,  # Model class defined over VertaModelBase\n",
    "    name=\"v1\", # Name to identify the version in the model versions tab\n",
    "    environment=Python([\n",
    "        \"dill\",  # used by torch internally for serialization\n",
    "        \"torch\",\n",
    "        \"transformers\",\n",
    "    ]),\n",
    "    labels=[\"std_model_verta_model_base\"], # tags/labels to filter, search and categorize\n",
    "    model_api=ModelAPI(texts, prediction), # (Optional) To Populate the Model API\n",
    ")"
   ]
  },
  {
   "attachments": {},
   "cell_type": "markdown",
   "metadata": {},
   "source": [
    "And that's it! You should be able to see your model in the Model Catalog"
   ]
  }
 ],
 "metadata": {
  "kernelspec": {
   "display_name": "base",
   "language": "python",
   "name": "python3"
  },
  "language_info": {
   "codemirror_mode": {
    "name": "ipython",
    "version": 3
   },
   "file_extension": ".py",
   "mimetype": "text/x-python",
   "name": "python",
   "nbconvert_exporter": "python",
   "pygments_lexer": "ipython3",
   "version": "3.9.13"
  },
  "orig_nbformat": 4
 },
 "nbformat": 4,
 "nbformat_minor": 2
}
