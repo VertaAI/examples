{
 "cells": [
  {
   "cell_type": "markdown",
   "source": [
    "# Import MLflow Models into Verta\n",
    "\n",
    "Whether moving models selectively or in bulk, it is possible to import your MLflow models directly into Verta. The following notebook demonstrates how."
   ],
   "metadata": {
    "collapsed": false
   }
  },
  {
   "cell_type": "markdown",
   "source": [
    "# Environment Setup"
   ],
   "metadata": {
    "collapsed": false
   }
  },
  {
   "cell_type": "code",
   "execution_count": null,
   "outputs": [],
   "source": [
    "!pip install verta mlflow"
   ],
   "metadata": {
    "collapsed": false
   }
  },
  {
   "cell_type": "code",
   "execution_count": null,
   "outputs": [],
   "source": [
    "import os\n",
    "from typing import Dict, List\n",
    "\n",
    "import verta\n",
    "from verta.registry.stage_change import Archived, Staging, Production\n",
    "\n",
    "import mlflow\n",
    "from mlflow import MlflowClient\n",
    "from mlflow.entities.model_registry import RegisteredModel as MLflow_RegisteredModel\n",
    "from mlflow.store.entities.paged_list import PagedList"
   ],
   "metadata": {
    "collapsed": false
   }
  },
  {
   "cell_type": "markdown",
   "source": [
    "## Verta Client\n",
    " These values will be pulled from your local environment variables, or you can set them manually by uncommenting the lines below and replacing the values with your own."
   ],
   "metadata": {
    "collapsed": false
   }
  },
  {
   "cell_type": "code",
   "execution_count": null,
   "outputs": [],
   "source": [
    "# os.environ['VERTA_EMAIL'] = \"\"\n",
    "# os.environ['VERTA_DEV_KEY'] = \"\"\n",
    "# os.environ['VERTA_HOST'] = \"\"\n",
    "\n",
    "verta_client = verta.Client()"
   ],
   "metadata": {
    "collapsed": false
   }
  },
  {
   "cell_type": "markdown",
   "source": [
    "## MLflow Client\n",
    "These values will be pulled from your default MLflow settings, or you can set them manually by uncommenting the lines below and replacing the values with your own.  This example assumes a Databricks MLflow tracking server, and some configurations may require different environment variables."
   ],
   "metadata": {
    "collapsed": false
   }
  },
  {
   "cell_type": "code",
   "execution_count": null,
   "outputs": [],
   "source": [
    "# os.environ[\"MLFLOW_TRACKING_URI\"] = \"\"\n",
    "# os.environ[\"DATABRICKS_HOST\"] = \"\"\n",
    "# os.environ[\"DATABRICKS_TOKEN\"] = \"\"\n",
    "\n",
    "mlflow_client = MlflowClient()"
   ],
   "metadata": {
    "collapsed": false
   }
  },
  {
   "cell_type": "markdown",
   "source": [
    "## Fetch MLflow Models\n",
    "Get a list of models registered in MLFLow and print them out for inspection.  This entire result set can be passed along to be imported to Verta, or pared down to any desired subset.  This can be achieved by passing search criteria to the `search_registered_models` method (see [MLflow API Docs](https://mlflow.org/docs/latest/python_api/mlflow.client.html?highlight=search_registered_models#mlflow.client.MlflowClient.search_registered_models)), or by filtering the results after they are returned."
   ],
   "metadata": {
    "collapsed": false
   }
  },
  {
   "cell_type": "code",
   "execution_count": null,
   "outputs": [],
   "source": [
    "mlflow_models: List[MLflow_RegisteredModel] = list()\n",
    "\n",
    "result: PagedList = mlflow_client.search_registered_models()\n",
    "mlflow_models += result.to_list()\n",
    "while result.token:  # handle paginated results\n",
    "    result: PagedList = mlflow_client.search_registered_models(page_token=result.token)\n",
    "    mlflow_models += result.to_list()\n",
    "\n",
    "mlflow_models.sort(key=lambda x: x.name)\n",
    "for mv in mlflow_models:\n",
    "    print(f\"name={mv.name}; version={mv.version}\")"
   ],
   "metadata": {
    "collapsed": false
   }
  },
  {
   "cell_type": "markdown",
   "source": [
    "Reduce the list if desired"
   ],
   "metadata": {
    "collapsed": false
   }
  },
  {
   "cell_type": "code",
   "execution_count": null,
   "outputs": [],
   "source": [
    "# Example: filter out models with \"test\" in the name\n",
    "models_for_import = [model for model in mlflow_models if \"test\" not in model.name]"
   ],
   "metadata": {
    "collapsed": false
   }
  },
  {
   "cell_type": "markdown",
   "source": [
    "# Import Models to Verta"
   ],
   "metadata": {
    "collapsed": false
   }
  },
  {
   "cell_type": "code",
   "execution_count": null,
   "outputs": [],
   "source": [
    "failed_model_imports: List[MLflow_RegisteredModel] = list()\n",
    "successful_model_imports: List[MLflow_RegisteredModel] = list()\n",
    "model_messages: Dict[MLflow_RegisteredModel, List[str]] = dict()\n",
    "\n",
    "for rm in models_for_import:\n",
    "    model_messages[rm] = list()\n",
    "\n",
    "    try:\n",
    "        verta_rm = verta_client.create_registered_model(\n",
    "            name=rm.name,\n",
    "            desc=rm.description,\n",
    "            labels=[\n",
    "                \"mlflow_import\",\n",
    "                \"mlflow_creation_time:\" + str(rm.creation_timestamp),\n",
    "                \"mlflow_last_updated_time:\" + str(rm.last_updated_timestamp),\n",
    "                \"mlflow_tags:\" + \",\".join(rm.tags),\n",
    "            ],\n",
    "        )\n",
    "        model_messages[rm].append(\n",
    "            f\"created new registered model in Verta for {rm.name}\"\n",
    "        )\n",
    "    except ValueError:\n",
    "        model_messages[rm].append(\n",
    "            f'a registered model named \"{rm.name}\" already exists in Verta. Skipping import.'\n",
    "        )\n",
    "        failed_model_imports.append(rm)\n",
    "        continue\n",
    "\n",
    "    try:\n",
    "        rm_versions = mlflow_client.search_model_versions(f\"name='{rm.name}'\")\n",
    "        if not rm_versions:\n",
    "            failed_model_imports.append(rm)\n",
    "            model_messages[rm].append(\n",
    "                f\"unable to find any model versions for {rm.name}.  Skipping import.\"\n",
    "            )\n",
    "            continue\n",
    "    except Exception as err:\n",
    "        model_messages[rm].append(\n",
    "            f'failed to fetch versions for registered model \"{rm.name}\". Skipping import. Error: {err}'\n",
    "        )\n",
    "        failed_model_imports.append(rm)\n",
    "        continue\n",
    "\n",
    "    successful_versions = list()\n",
    "    for version in rm_versions:\n",
    "        try:\n",
    "            verta_version = verta_rm.create_version(\n",
    "                name=str(version.version),\n",
    "                attrs={\n",
    "                    \"er_id\": version.run_id,\n",
    "                    \"mlflow_source\": version.source,\n",
    "                    \"mlflow_user_id\": version.user_id,\n",
    "                    \"mlflow_run_link\": version.run_link,\n",
    "                    \"mlflow_creation_time\": version.creation_timestamp,\n",
    "                    \"mlflow_last_updated_time\": version.last_updated_timestamp,\n",
    "                    \"mlflow_status\": version.status,\n",
    "                    \"mlflow_current_stage\": version.current_stage,\n",
    "                    \"mlflow_tags\": version.tags,\n",
    "                },\n",
    "                labels=[\"mlflow_import\"],\n",
    "            )\n",
    "            model_messages[rm].append(f\"successfully created version {version.version}\")\n",
    "        except Exception as err:\n",
    "            model_messages[rm].append(\n",
    "                f\"failed to create model version in Verta for {rm.name} - version: {version.version} due to {err}\"\n",
    "            )\n",
    "            continue\n",
    "\n",
    "        # Import artifacts for the model version\n",
    "        try:\n",
    "            outpath = mlflow.artifacts.download_artifacts(run_id=version.run_id)\n",
    "        except Exception as err:\n",
    "            model_messages[rm].append(\n",
    "                f\"unable to download artifacts from {rm.name} - version run id; {version.run_id} due to {err}\"\n",
    "            )\n",
    "        else:\n",
    "            for file_name in os.listdir(outpath):\n",
    "                try:\n",
    "                    verta_version.log_artifact(\n",
    "                        file_name, os.path.join(outpath, file_name)\n",
    "                    )\n",
    "                    model_messages[rm].append(f\"artifact logged in Verta: {file_name}\")\n",
    "                except ValueError as err:\n",
    "                    model_messages[rm].append(\n",
    "                        f\"cannot upload artifact {file_name} for {rm.name} due to {err}\"\n",
    "                    )\n",
    "\n",
    "        # Set model version's current stage\n",
    "        stage_error_message = f\"unable to set stage in Verta for {rm.name} - version: {version}, current_stage: {version.current_stage}\"\n",
    "        try:\n",
    "            if version.current_stage != \"None\":\n",
    "                if version.current_stage == \"Staging\":\n",
    "                    verta_version.change_stage(Staging())\n",
    "                if version.current_stage == \"Production\":\n",
    "                    verta_version.change_stage(Production())\n",
    "                if version.current_stage == \"Archived\":\n",
    "                    verta_version.change_stage(Archived())\n",
    "                else:\n",
    "                    model_messages[rm].append(stage_error_message)\n",
    "            else:\n",
    "                model_messages[rm].append(stage_error_message)\n",
    "        except Exception as err:\n",
    "            model_messages[rm].append(f\"{stage_error_message}, due to: {str(err)}\")\n",
    "\n",
    "        successful_model_imports.append(rm)"
   ],
   "metadata": {
    "collapsed": false
   }
  },
  {
   "cell_type": "markdown",
   "source": [
    "## Print Results"
   ],
   "metadata": {
    "collapsed": false
   }
  },
  {
   "cell_type": "code",
   "execution_count": null,
   "outputs": [],
   "source": [
    "print(\"IMPORTED SUCCESSFULLY:\\n\")\n",
    "for m in successful_model_imports:\n",
    "    print(f\"\\n{m.name}\\n---------------------\")\n",
    "    for message in model_messages[m]:\n",
    "        print(f\"  - {message}\")\n",
    "\n",
    "print(\"\\nFAILED TO IMPORT:\\n\")\n",
    "for m in failed_model_imports:\n",
    "    print(f\"\\n{m.name}\\n---------------------\")\n",
    "    for message in model_messages[m]:\n",
    "        print(f\"  - {message}\")"
   ],
   "metadata": {
    "collapsed": false
   }
  }
 ],
 "metadata": {
  "kernelspec": {
   "display_name": "Python 3",
   "language": "python",
   "name": "python3"
  },
  "language_info": {
   "codemirror_mode": {
    "name": "ipython",
    "version": 2
   },
   "file_extension": ".py",
   "mimetype": "text/x-python",
   "name": "python",
   "nbconvert_exporter": "python",
   "pygments_lexer": "ipython2",
   "version": "2.7.6"
  }
 },
 "nbformat": 4,
 "nbformat_minor": 0
}
