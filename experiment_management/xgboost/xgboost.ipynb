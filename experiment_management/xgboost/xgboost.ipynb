{
 "cells": [
  {
   "cell_type": "markdown",
   "metadata": {},
   "source": [
    "# Tracking XGBoost models using Verta\n",
    "\n",
    "Verta's experiment management system enables data scientists to track rich information about their modeling experiments including data such as metrics, hyperparameters, confusion matrices, examples of input and output data, and many others.\n",
    "\n",
    "This notebook shows how to use Verta's experiment management system with models developed in XGBoost. See Verta [documentation](https://docs.verta.ai/verta/experiment-management) for full details on Verta's experiment management capabilities.\n",
    "\n",
    "Updated for Verta version: 0.18.2"
   ]
  },
  {
   "cell_type": "markdown",
   "metadata": {},
   "source": [
    "This example features:\n",
    "- **XGBoost**'s native API for cross-validating and training gradient-boosted trees\n",
    "- **scikit-learn**'s `ParameterGrid` utility for iterating over a hyperparameter grid\n",
    "- **verta**'s Python client integrated into the grid search loop\n",
    "- **verta**'s Python client retrieving the best run from the grid search to calculate and log full training accuracy"
   ]
  },
  {
   "cell_type": "markdown",
   "metadata": {},
   "source": [
    "<a href=\"https://colab.research.google.com/github/VertaAI/modeldb/blob/master/client/workflows/examples/xgboost.ipynb\" target=\"_parent\"><img src=\"https://colab.research.google.com/assets/colab-badge.svg\" alt=\"Open In Colab\"/></a>"
   ]
  },
  {
   "cell_type": "markdown",
   "metadata": {},
   "source": [
    "## 0. Imports"
   ]
  },
  {
   "cell_type": "code",
   "execution_count": 1,
   "metadata": {},
   "outputs": [],
   "source": [
    "import warnings\n",
    "warnings.filterwarnings(\"ignore\", category=FutureWarning)\n",
    "\n",
    "import itertools\n",
    "import time\n",
    "\n",
    "import six\n",
    "\n",
    "import numpy as np\n",
    "import pandas as pd\n",
    "\n",
    "import sklearn\n",
    "from sklearn import datasets\n",
    "from sklearn import model_selection\n",
    "\n",
    "import xgboost as xgb"
   ]
  },
  {
   "cell_type": "markdown",
   "metadata": {},
   "source": [
    "### 0.1 Verta import and setup"
   ]
  },
  {
   "cell_type": "code",
   "execution_count": 2,
   "metadata": {},
   "outputs": [],
   "source": [
    "# restart your notebook if prompted on Colab\n",
    "try:\n",
    "    import verta\n",
    "except ImportError:\n",
    "    !pip install verta"
   ]
  },
  {
   "cell_type": "code",
   "execution_count": 3,
   "metadata": {},
   "outputs": [],
   "source": [
    "# import os\n",
    "# os.environ['VERTA_EMAIL'] = \n",
    "# os.environ['VERTA_DEV_KEY'] = \n",
    "# os.environ['VERTA_HOST']"
   ]
  },
  {
   "cell_type": "code",
   "execution_count": 4,
   "metadata": {},
   "outputs": [],
   "source": [
    "from verta import Client\n",
    "from verta.utils import ModelAPI\n",
    "import os\n",
    "\n",
    "client = Client(os.environ['VERTA_HOST'])"
   ]
  },
  {
   "cell_type": "markdown",
   "metadata": {},
   "source": [
    "---"
   ]
  },
  {
   "cell_type": "markdown",
   "metadata": {},
   "source": [
    "## 1. Model Training"
   ]
  },
  {
   "cell_type": "markdown",
   "metadata": {},
   "source": [
    "### 1.1 Prepare Data"
   ]
  },
  {
   "cell_type": "code",
   "execution_count": 5,
   "metadata": {},
   "outputs": [],
   "source": [
    "data = datasets.load_wine()\n",
    "\n",
    "X = data['data']\n",
    "y = data['target']\n",
    "labels = data['target_names'].tolist()\n",
    "\n",
    "dtrain = xgb.DMatrix(X, label=y)"
   ]
  },
  {
   "cell_type": "code",
   "execution_count": 6,
   "metadata": {},
   "outputs": [],
   "source": [
    "df = pd.DataFrame(np.hstack((X, y.reshape(-1, 1))),\n",
    "                  columns=data['feature_names'] + ['species'])\n",
    "\n",
    "df.head()"
   ]
  },
  {
   "cell_type": "markdown",
   "metadata": {},
   "source": [
    "### 1.2 Prepare Hyperparameters"
   ]
  },
  {
   "cell_type": "code",
   "execution_count": 7,
   "metadata": {},
   "outputs": [],
   "source": [
    "grid = model_selection.ParameterGrid({\n",
    "    'eta': [0.5, 0.7],\n",
    "    'max_depth': [1, 2, 3],\n",
    "    'num_class': [10],\n",
    "})"
   ]
  },
  {
   "cell_type": "markdown",
   "metadata": {},
   "source": [
    "### 1.3 Train model"
   ]
  },
  {
   "cell_type": "code",
   "execution_count": 8,
   "metadata": {},
   "outputs": [],
   "source": [
    "proj = client.set_project(\"Wine Classification\")\n",
    "expt = client.set_experiment(\"Boosted Trees\")\n",
    "\n",
    "def run_experiment(hyperparams):\n",
    "    run = client.set_experiment_run()\n",
    "    \n",
    "    # log hyperparameters\n",
    "    run.log_hyperparameters(hyperparams)\n",
    "    \n",
    "    # run cross validation on hyperparameters\n",
    "    cv_history = xgb.cv(hyperparams, dtrain,\n",
    "                        nfold=5,\n",
    "                        metrics=(\"merror\", \"mlogloss\"))\n",
    "\n",
    "    # log observations from each iteration\n",
    "    for _, iteration in cv_history.iterrows():\n",
    "        for obs, val in iteration.iteritems():\n",
    "            run.log_observation(obs, val)\n",
    "            \n",
    "    # log error from final iteration\n",
    "    final_val_error = iteration['test-merror-mean']\n",
    "    run.log_metric(\"val_error\", final_val_error)\n",
    "    print(\"{} Mean error: {:.4f}\".format(hyperparams, final_val_error))\n",
    "    \n",
    "# NOTE: run_experiment() could also be defined in a module, and executed in parallel\n",
    "for hyperparams in grid:\n",
    "    run_experiment(hyperparams)"
   ]
  },
  {
   "cell_type": "markdown",
   "metadata": {},
   "source": [
    "---"
   ]
  },
  {
   "cell_type": "markdown",
   "metadata": {},
   "source": [
    "## 2. Retrieve logged metadata"
   ]
  },
  {
   "cell_type": "code",
   "execution_count": 9,
   "metadata": {},
   "outputs": [],
   "source": [
    "best_run = expt.expt_runs.sort(\"metrics.val_error\", descending=False)[0]\n",
    "print(\"Validation Error: {:.4f}\".format(best_run.get_metric(\"val_error\")))\n",
    "\n",
    "best_hyperparams = best_run.get_hyperparameters()\n",
    "print(\"Hyperparameters: {}\".format(best_hyperparams))"
   ]
  },
  {
   "cell_type": "markdown",
   "metadata": {},
   "source": [
    "## 3. Train on Full Dataset using best hyperparams"
   ]
  },
  {
   "cell_type": "code",
   "execution_count": 10,
   "metadata": {},
   "outputs": [],
   "source": [
    "model = xgb.XGBClassifier(**best_hyperparams)\n",
    "model.fit(X, y)"
   ]
  },
  {
   "cell_type": "code",
   "execution_count": 11,
   "metadata": {},
   "outputs": [],
   "source": [
    "train_acc = model.score(X, y)\n",
    "best_run.log_metric(\"full_train_acc\", train_acc)\n",
    "best_run.log_tag(\"best-run\")\n",
    "\n",
    "# compute and log confusion matrix\n",
    "from sklearn.metrics import confusion_matrix\n",
    "from verta.data_types import ConfusionMatrix\n",
    "confusion_matrix = confusion_matrix(y, model.predict(X))\n",
    "best_run.log_attribute(\"confusion_matrix\", ConfusionMatrix(confusion_matrix.tolist(), labels))\n",
    "\n",
    "\n",
    "# log additional info for reproducibility\n",
    "from verta.code import Notebook\n",
    "from verta.environment import Python\n",
    "best_run.log_artifact(\"notebook\", \"xgboost.ipynb\")\n",
    "best_run.log_environment(Python([\"xgboost\", \"sklearn\", \"numpy\", \"pandas\"]))\n",
    "best_run.log_artifact(\"data\", df)\n",
    "\n",
    "print(\"Training accuracy: {:.4f}\".format(train_acc))"
   ]
  },
  {
   "cell_type": "code",
   "execution_count": 12,
   "metadata": {},
   "outputs": [],
   "source": [
    "best_run"
   ]
  },
  {
   "cell_type": "markdown",
   "metadata": {},
   "source": [
    "---"
   ]
  }
 ],
 "metadata": {
  "kernelspec": {
   "display_name": "Python 3",
   "language": "python",
   "name": "python3"
  },
  "language_info": {
   "codemirror_mode": {
    "name": "ipython",
    "version": 3
   },
   "file_extension": ".py",
   "mimetype": "text/x-python",
   "name": "python",
   "nbconvert_exporter": "python",
   "pygments_lexer": "ipython3",
   "version": "3.6.8"
  }
 },
 "nbformat": 4,
 "nbformat_minor": 2
}
