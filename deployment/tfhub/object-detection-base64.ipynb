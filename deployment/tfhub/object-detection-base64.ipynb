{
  "cells": [
    {
      "cell_type": "markdown",
      "metadata": {
        "id": "rKn_w61SNijN"
      },
      "source": [
        "# Object Detection - SSD Mobilenet V2 from TensorFlow Hub (Base64 Images)"
      ]
    },
    {
      "cell_type": "markdown",
      "metadata": {
        "id": "DF3TUJI2VfYt"
      },
      "source": [
        "This model identifies objects present in images, returning its scores, labels and bounding boxes.\n",
        "\n",
        "We are using a dataset from [UCF](https://www.crcv.ucf.edu/data/GMCP_Geolocalization/#Dataset) and the model [SSD Mobilenet V2](https://tfhub.dev/google/openimages_v4/ssd/mobilenet_v2/1) from [TensorFlow Hub](https://www.tensorflow.org/hub)."
      ]
    },
    {
      "attachments": {},
      "cell_type": "markdown",
      "metadata": {
        "id": "vTeFMlSIVic0"
      },
      "source": [
        "<a href=\"https://colab.research.google.com/github/VertaAI/examples/blob/main/deployment/tfhub/object-detection-base64.ipynb\" target=\"_parent\"><img src=\"https://colab.research.google.com/assets/colab-badge.svg\" alt=\"Open In Colab\"/></a>"
      ]
    },
    {
      "cell_type": "markdown",
      "metadata": {
        "id": "wvqC2djzNijQ"
      },
      "source": [
        "## 1. Dependencies"
      ]
    },
    {
      "cell_type": "markdown",
      "metadata": {
        "id": "0flMWU41BY2W"
      },
      "source": [
        "This notebook has been tested with **Python 3.8.15** and the following package versions:"
      ]
    },
    {
      "cell_type": "code",
      "execution_count": null,
      "metadata": {
        "id": "2T-GZ3zUNijQ"
      },
      "outputs": [],
      "source": [
        "%%capture\n",
        "!pip install beautifulsoup4==4.6.3\n",
        "!pip install dill==0.3.6\n",
        "!pip install numpy==1.23.5\n",
        "!pip install Pillow==7.1.2\n",
        "!pip install requests==2.28.1\n",
        "!pip install tensorflow==2.11.0\n",
        "!pip install tensorflow-hub==0.12.0\n",
        "!pip install verta==0.21.1\n",
        "!pip install wget==3.2"
      ]
    },
    {
      "cell_type": "markdown",
      "metadata": {
        "id": "CtIgsA4aB2ga"
      },
      "source": [
        "## 2. Imports"
      ]
    },
    {
      "cell_type": "code",
      "execution_count": null,
      "metadata": {
        "id": "7SuugL_lOuaN"
      },
      "outputs": [],
      "source": [
        "import base64\n",
        "import concurrent.futures\n",
        "import io\n",
        "import json\n",
        "import numpy as np\n",
        "import os\n",
        "import pandas as pd\n",
        "import requests\n",
        "import tempfile\n",
        "import tensorflow as tf\n",
        "import tensorflow_hub as hub\n",
        "import time\n",
        "import wget\n",
        "\n",
        "from bs4 import BeautifulSoup\n",
        "from PIL import Image, ImageOps\n",
        "from verta import Client\n",
        "from verta.endpoint.autoscaling import Autoscaling\n",
        "from verta.endpoint.autoscaling.metrics import CpuUtilizationTarget, MemoryUtilizationTarget, RequestsPerWorkerTarget\n",
        "from verta.endpoint.resources import Resources\n",
        "from verta.endpoint.update import DirectUpdateStrategy\n",
        "from verta.environment import Python\n",
        "from verta.registry import VertaModelBase, verify_io\n",
        "from verta.utils import ModelAPI"
      ]
    },
    {
      "cell_type": "markdown",
      "metadata": {
        "id": "LB20pSYuXcCD"
      },
      "source": [
        "## 3. Verta Set Up"
      ]
    },
    {
      "cell_type": "code",
      "execution_count": null,
      "metadata": {
        "id": "hGwbnFGlXgJh"
      },
      "outputs": [],
      "source": [
        "os.environ['VERTA_HOST'] = ''\n",
        "os.environ['VERTA_EMAIL'] = ''\n",
        "os.environ['VERTA_DEV_KEY'] = ''"
      ]
    },
    {
      "cell_type": "code",
      "execution_count": null,
      "metadata": {
        "colab": {
          "base_uri": "https://localhost:8080/"
        },
        "id": "wVcbn1_3Xhtm",
        "outputId": "122e3770-9a69-471e-f00f-dbf11aeeffd7"
      },
      "outputs": [],
      "source": [
        "client = Client(os.environ['VERTA_HOST'])"
      ]
    },
    {
      "cell_type": "markdown",
      "metadata": {
        "id": "5bBHXvKnX_Je"
      },
      "source": [
        "## 4. Model Class"
      ]
    },
    {
      "cell_type": "code",
      "execution_count": null,
      "metadata": {
        "id": "o3YNlqVMEi6c"
      },
      "outputs": [],
      "source": [
        "class DetectObject(VertaModelBase):\n",
        "    def __init__(self, artifacts=None):\n",
        "        module_handle = 'https://tfhub.dev/google/openimages_v4/ssd/mobilenet_v2/1'\n",
        "        self.detector = hub.load(module_handle).signatures['default']\n",
        "    \n",
        "    def handle_img(self, img, width=640, height=480):\n",
        "        _, path = tempfile.mkstemp(suffix='.jpg')\n",
        "        img_str = json.loads(img)\n",
        "        img_bytes = img_str.encode('utf-8')\n",
        "        img_bytes = io.BytesIO(base64.b64decode(img_bytes))\n",
        "        img_arr = np.array(Image.open(img_bytes), dtype=np.uint8)\n",
        "        img = Image.fromarray(img_arr)\n",
        "        img = ImageOps.grayscale(img)\n",
        "        img.thumbnail((width, height), Image.LANCZOS)\n",
        "        img.save(path)\n",
        "        \n",
        "        print(f\"Image downloaded to {path}.\")\n",
        "        return path\n",
        "\n",
        "    def load_img(self, path):\n",
        "        img = tf.io.read_file(path)\n",
        "        img = tf.image.decode_jpeg(img, channels=3)\n",
        "        \n",
        "        return img\n",
        "\n",
        "    def filter_results(self, file, response, entity='Car', min_score=.2):\n",
        "        unused_keys = ['detection_class_labels', 'detection_class_names']\n",
        "        response = {key: value.numpy().tolist() for key, value in response.items()}\n",
        "        response = {key: val for key, val in response.items() if key not in unused_keys}\n",
        "        response['detection_class_entities'] = [v.decode() for v in response['detection_class_entities']]\n",
        "\n",
        "        entities = response['detection_class_entities']\n",
        "        scores = response['detection_scores']\n",
        "        bboxes = response['detection_boxes']\n",
        "        result = {}\n",
        "\n",
        "        for i in range(len(entities)):\n",
        "            if entities[i] == entity and scores[i] >= min_score:\n",
        "                ymin, xmin, ymax, xmax = bboxes[i]\n",
        "                result = {\n",
        "                    'file': file,\n",
        "                    'has_car': True,\n",
        "                    'score': scores[i],\n",
        "                    'bboxes': {'ymin': ymin, 'xmin': xmin, 'ymax': ymax, 'xmax': xmax}\n",
        "                }\n",
        "                break\n",
        "\n",
        "        if len(result) == 0:\n",
        "            result = {\n",
        "                'file': file,\n",
        "                'has_car': False,\n",
        "                'score': 0,\n",
        "                'bboxes': {'ymin': 0, 'xmin': 0, 'ymax': 0, 'xmax': 0}\n",
        "            }\n",
        "        \n",
        "        print(f\"Found {result['has_car']} object(s).\")\n",
        "        return result\n",
        "\n",
        "    def run_detector(self, file, image_path):\n",
        "        img = self.load_img(image_path)\n",
        "        img = tf.image.convert_image_dtype(img, tf.float32)[tf.newaxis, ...]\n",
        "        \n",
        "        response = self.detector(img)\n",
        "        result = self.filter_results(file, response)\n",
        "        \n",
        "        return result\n",
        "\n",
        "    def detect_objects(self, file, img_arr):\n",
        "        start_time = time.time()\n",
        "        image_path = self.handle_img(img_arr)\n",
        "        result = self.run_detector(file, image_path)\n",
        "        end_time = time.time()\n",
        "\n",
        "        print(f\"Inference time: {end_time - start_time}.\")\n",
        "        return result\n",
        "\n",
        "    @verify_io\n",
        "    def predict(self, data):\n",
        "        file, img_arr = data\n",
        "        result = self.detect_objects(file, img_arr)\n",
        "\n",
        "        return result"
      ]
    },
    {
      "cell_type": "markdown",
      "metadata": {
        "id": "5SvthV9gd4lk"
      },
      "source": [
        "## 5. Model Register"
      ]
    },
    {
      "cell_type": "code",
      "execution_count": null,
      "metadata": {
        "colab": {
          "base_uri": "https://localhost:8080/"
        },
        "id": "UR7XtPNOHTgO",
        "outputId": "43f4c6f0-a059-46bf-f89c-c541a3d34f94"
      },
      "outputs": [],
      "source": [
        "registered_model = client.get_or_create_registered_model(name='Object Detection - TF Hub')"
      ]
    },
    {
      "cell_type": "code",
      "execution_count": null,
      "metadata": {
        "id": "-RctZHJ8MMi5"
      },
      "outputs": [],
      "source": [
        "input = {\n",
        "    \"file_name\": \"\",\n",
        "    \"image_str\": \"\"\n",
        "}\n",
        "output = {\n",
        "    \"file_name\": \"\",\n",
        "    \"has_car\": False,\n",
        "    \"score\": 0,\n",
        "    \"ymin\": 0,\n",
        "    \"xmin\": 0,\n",
        "    \"ymax\": 0,\n",
        "    \"xmax\": 0\n",
        "}"
      ]
    },
    {
      "cell_type": "code",
      "execution_count": null,
      "metadata": {
        "colab": {
          "base_uri": "https://localhost:8080/"
        },
        "id": "vFlrCL2EWnJR",
        "outputId": "5eaad4c4-d170-45c9-8d38-b2f037ed017f"
      },
      "outputs": [],
      "source": [
        "model = registered_model.create_standard_model(\n",
        "    name = 'base64',\n",
        "    model_cls = DetectObject,\n",
        "    model_api = ModelAPI([input], [output]),\n",
        "    environment = Python(requirements = ['tensorflow', 'tensorflow_hub', 'dill', 'Pillow', 'wget'])\n",
        ")"
      ]
    },
    {
      "cell_type": "markdown",
      "metadata": {
        "id": "60NCs0j8KHvg"
      },
      "source": [
        "## 6. Auto Scaling and Resources"
      ]
    },
    {
      "cell_type": "code",
      "execution_count": null,
      "metadata": {
        "id": "LBLEtVauKBNP"
      },
      "outputs": [],
      "source": [
        "autoscaling = Autoscaling(min_replicas=1, max_replicas=20, min_scale=0.1, max_scale=10)\n",
        "autoscaling.add_metric(CpuUtilizationTarget(0.6))\n",
        "autoscaling.add_metric(MemoryUtilizationTarget(0.7))\n",
        "autoscaling.add_metric(RequestsPerWorkerTarget(1))\n",
        "resources = Resources(cpu=1., memory='4Gi')     "
      ]
    },
    {
      "cell_type": "markdown",
      "metadata": {
        "id": "Y0gm6fOse6BP"
      },
      "source": [
        "## 7. Model Endpoint"
      ]
    },
    {
      "cell_type": "code",
      "execution_count": null,
      "metadata": {
        "id": "wZi8X-LoCORa"
      },
      "outputs": [],
      "source": [
        "endpoint = client.get_or_create_endpoint('object-detection-base64')"
      ]
    },
    {
      "cell_type": "code",
      "execution_count": null,
      "metadata": {
        "colab": {
          "base_uri": "https://localhost:8080/"
        },
        "id": "F4-9M2_xKF7R",
        "outputId": "480d56f8-6e46-455a-8e46-25f798cd71d2"
      },
      "outputs": [],
      "source": [
        "%%time\n",
        "endpoint.update(\n",
        "    model, \n",
        "    strategy = DirectUpdateStrategy(),\n",
        "    autoscaling = autoscaling,\n",
        "    resources = resources,\n",
        "    wait = True\n",
        ")"
      ]
    },
    {
      "cell_type": "code",
      "execution_count": null,
      "metadata": {
        "id": "0Zgc18ocXbCE"
      },
      "outputs": [],
      "source": [
        "deployed_model = endpoint.get_deployed_model()"
      ]
    },
    {
      "cell_type": "markdown",
      "metadata": {
        "id": "NbxYiJJsX5oL"
      },
      "source": [
        "## 8. Predictions"
      ]
    },
    {
      "cell_type": "code",
      "execution_count": null,
      "metadata": {
        "id": "p7x7dfWoCNxK"
      },
      "outputs": [],
      "source": [
        "url = 'http://www.cs.ucf.edu/~aroshan/index_files/Dataset_PitOrlManh/images/'"
      ]
    },
    {
      "cell_type": "code",
      "execution_count": null,
      "metadata": {
        "id": "4nS6rzzyK58c"
      },
      "outputs": [],
      "source": [
        "req = requests.get(url)"
      ]
    },
    {
      "cell_type": "code",
      "execution_count": null,
      "metadata": {
        "id": "gH_5iPC84jmu"
      },
      "outputs": [],
      "source": [
        "soup = BeautifulSoup(req.text, 'lxml')"
      ]
    },
    {
      "cell_type": "code",
      "execution_count": null,
      "metadata": {
        "id": "Hl_MzSFXX2oo"
      },
      "outputs": [],
      "source": [
        "urls = []\n",
        "\n",
        "for link in soup.find_all('a'):\n",
        "    href = link.get('href')\n",
        "  \n",
        "    if href.endswith('.jpg'):\n",
        "        url = f\"http://www.cs.ucf.edu/~aroshan/index_files/Dataset_PitOrlManh/images/{href}\"\n",
        "        urls.append(url)"
      ]
    },
    {
      "cell_type": "code",
      "execution_count": null,
      "metadata": {
        "id": "Ifi5nJeBX_1G"
      },
      "outputs": [],
      "source": [
        "urls = urls[:10]"
      ]
    },
    {
      "cell_type": "code",
      "execution_count": null,
      "metadata": {
        "id": "6puNawPEYBJl"
      },
      "outputs": [],
      "source": [
        "def process_image(url):\n",
        "    file_name = os.path.basename(url)\n",
        "    wget.download(url, file_name)\n",
        "\n",
        "    with open(file_name, 'rb') as img:\n",
        "        img_bytes = base64.b64encode(img.read())\n",
        "        img_str = img_bytes.decode('utf-8')\n",
        "        img_str = json.dumps(img_str)\n",
        "    \n",
        "    return deployed_model.predict([file_name, img_str])"
      ]
    },
    {
      "cell_type": "code",
      "execution_count": null,
      "metadata": {
        "id": "5msNtuwt8AXa"
      },
      "outputs": [],
      "source": [
        "results = []\n",
        "start_time = time.time()\n",
        "\n",
        "with concurrent.futures.ThreadPoolExecutor() as executor:\n",
        "    for result in executor.map(process_image, urls):\n",
        "        results.append(result)\n",
        "\n",
        "end_time = time.time()"
      ]
    },
    {
      "cell_type": "code",
      "execution_count": null,
      "metadata": {
        "id": "jGY1FLwWYBXq"
      },
      "outputs": [],
      "source": [
        "total_time = end_time - start_time\n",
        "total_time = time.strftime('%Hh %Mm %Ss', time.gmtime(total_time))"
      ]
    },
    {
      "cell_type": "code",
      "execution_count": null,
      "metadata": {
        "colab": {
          "base_uri": "https://localhost:8080/"
        },
        "id": "-k2mErxvYBdZ",
        "outputId": "e2b67d7f-d951-4efd-d292-0fa6fbd1432a"
      },
      "outputs": [],
      "source": [
        "print(f\"Processing Time: {total_time} for {len(urls)} images.\")"
      ]
    },
    {
      "cell_type": "code",
      "execution_count": null,
      "metadata": {
        "id": "sy8guzzgA5df"
      },
      "outputs": [],
      "source": [
        "results_dfs = []\n",
        "\n",
        "for img_result in results:\n",
        "    cols = list(img_result.keys())[:-1]\n",
        "    bboxes = list(img_result['bboxes'].keys())\n",
        "    cols.extend(bboxes)\n",
        "    data = []\n",
        "\n",
        "    for k, v in img_result.items():\n",
        "        data.extend(list(v.values())) if k == 'bboxes' else data.append(v)\n",
        "\n",
        "    results_dfs.append(pd.DataFrame([data], columns = cols))"
      ]
    },
    {
      "cell_type": "code",
      "execution_count": null,
      "metadata": {
        "id": "XOKZr5qBJqup"
      },
      "outputs": [],
      "source": [
        "df = pd.concat(results_dfs)"
      ]
    },
    {
      "cell_type": "code",
      "execution_count": null,
      "metadata": {
        "colab": {
          "base_uri": "https://localhost:8080/",
          "height": 363
        },
        "id": "pi546PBJJqj9",
        "outputId": "3aa37b44-15b7-4f45-f836-16b27ebad203"
      },
      "outputs": [],
      "source": [
        "df"
      ]
    },
    {
      "cell_type": "code",
      "execution_count": null,
      "metadata": {
        "id": "VeV_oVzddA0m"
      },
      "outputs": [],
      "source": [
        "endpoint.delete()"
      ]
    }
  ],
  "metadata": {
    "colab": {
      "collapsed_sections": [
        "wvqC2djzNijQ",
        "CtIgsA4aB2ga",
        "5bBHXvKnX_Je"
      ],
      "provenance": []
    },
    "kernelspec": {
      "display_name": "Python 3",
      "language": "python",
      "name": "python3"
    },
    "language_info": {
      "codemirror_mode": {
        "name": "ipython",
        "version": 3
      },
      "file_extension": ".py",
      "mimetype": "text/x-python",
      "name": "python",
      "nbconvert_exporter": "python",
      "pygments_lexer": "ipython3",
      "version": "3.10.6 (main, Nov 14 2022, 16:10:14) [GCC 11.3.0]"
    },
    "vscode": {
      "interpreter": {
        "hash": "916dbcbb3f70747c44a77c7bcd40155683ae19c65e1c03b4aa3499c5328201f1"
      }
    }
  },
  "nbformat": 4,
  "nbformat_minor": 0
}
