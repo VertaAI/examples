{
  "cells": [
    {
      "cell_type": "markdown",
      "metadata": {
        "id": "99FgJuGtHbK-"
      },
      "source": [
        "# Object Detection - SSD Mobilenet V2 from TensorFlow Hub (Base64 Images)"
      ]
    },
    {
      "cell_type": "markdown",
      "metadata": {
        "id": "aYVICIPxIqAM"
      },
      "source": [
        "This model identifies objects present in images, returning its scores, labels and bounding boxes.\n",
        "\n",
        "We are using a dataset from [UCF](https://www.crcv.ucf.edu/data/GMCP_Geolocalization/#Dataset) and the model [SSD Mobilenet V2](https://tfhub.dev/google/openimages_v4/ssd/mobilenet_v2/1) from [TensorFlow Hub](https://www.tensorflow.org/hub)."
      ]
    },
    {
      "cell_type": "markdown",
      "metadata": {
        "id": "Wh9NwPMRIu5n"
      },
      "source": [
        "<a href=\"https://colab.research.google.com/github/VertaAI/examples/blob/main/deployment/tfhub/object-detection/base64/object-detection-base64-predict.ipynb\" target=\"_parent\"><img src=\"https://colab.research.google.com/assets/colab-badge.svg\" alt=\"Open In Colab\"/></a>"
      ]
    },
    {
      "cell_type": "markdown",
      "metadata": {
        "id": "Fm0ffqV_Iuw_"
      },
      "source": [
        "## Dependencies"
      ]
    },
    {
      "cell_type": "markdown",
      "metadata": {
        "id": "qJSXlocsIuln"
      },
      "source": [
        "This notebook has been tested with **Python 3.8.15** and the following package versions:"
      ]
    },
    {
      "cell_type": "code",
      "execution_count": null,
      "metadata": {
        "id": "YVkBoQBGzdd-"
      },
      "outputs": [],
      "source": [
        "%%capture\n",
        "!pip install numpy==1.23.5\n",
        "!pip install verta==0.21.1"
      ]
    },
    {
      "cell_type": "markdown",
      "metadata": {
        "id": "8aNS5l4PJ__e"
      },
      "source": [
        "## Imports"
      ]
    },
    {
      "cell_type": "code",
      "execution_count": null,
      "metadata": {
        "id": "ASXSPO_ezkT-"
      },
      "outputs": [],
      "source": [
        "import base64\n",
        "import concurrent.futures\n",
        "import numpy as np\n",
        "import os\n",
        "import requests\n",
        "import time\n",
        "import json\n",
        "\n",
        "from verta import Client"
      ]
    },
    {
      "cell_type": "markdown",
      "metadata": {
        "id": "p-JtMXyhKK83"
      },
      "source": [
        "## Verta Set Up"
      ]
    },
    {
      "cell_type": "code",
      "execution_count": null,
      "metadata": {
        "id": "cXeEZ9yRKKXf"
      },
      "outputs": [],
      "source": [
        "os.environ['VERTA_HOST'] = 'app.verta.ai'\n",
        "os.environ['VERTA_EMAIL'] = 'caio@verta.ai'\n",
        "os.environ['VERTA_DEV_KEY'] = '68b041eb-553f-4009-acb6-51a533755324'"
      ]
    },
    {
      "cell_type": "code",
      "execution_count": null,
      "metadata": {
        "colab": {
          "base_uri": "https://localhost:8080/"
        },
        "id": "4eRAOufkKRw7",
        "outputId": "64a6a46c-6827-4cbf-e96f-d279654276ee"
      },
      "outputs": [],
      "source": [
        "client = Client(os.environ['VERTA_HOST'] , debug=True)"
      ]
    },
    {
      "cell_type": "code",
      "execution_count": null,
      "metadata": {
        "colab": {
          "base_uri": "https://localhost:8080/"
        },
        "id": "EkNeEp3xKR8p",
        "outputId": "42d72205-c7b6-4300-9c53-be39282a2759"
      },
      "outputs": [],
      "source": [
        "endpoint = client.get_or_create_endpoint('object-detection-base64')"
      ]
    },
    {
      "cell_type": "code",
      "execution_count": null,
      "metadata": {
        "id": "XVXBGHy4KSFp"
      },
      "outputs": [],
      "source": [
        "model = endpoint.get_deployed_model()"
      ]
    },
    {
      "cell_type": "markdown",
      "metadata": {
        "id": "PDjbzDv3KudR"
      },
      "source": [
        "## Show Process Metrics"
      ]
    },
    {
      "cell_type": "code",
      "execution_count": null,
      "metadata": {
        "id": "O0g5m4R0AOy7"
      },
      "outputs": [],
      "source": [
        "def show_metrics(images, start_time, end_time):\n",
        "    total_time = end_time - start_time\n",
        "    total_time = time.strftime('%Hh %Mm %Ss', time.gmtime(total_time))\n",
        "    \n",
        "    print(f\"Processing Time: {total_time} for {images} images.\")"
      ]
    },
    {
      "cell_type": "markdown",
      "metadata": {
        "id": "jgJjn6HmLLAI"
      },
      "source": [
        "## Predict"
      ]
    },
    {
      "cell_type": "code",
      "execution_count": null,
      "metadata": {},
      "outputs": [],
      "source": [
        "def process_image(image):\n",
        "    with open(f\"images/{image}\", 'rb') as img:\n",
        "        img_bytes = base64.b64encode(img.read())\n",
        "        img_str = img_bytes.decode('utf-8')\n",
        "        img_str = json.dumps(img_str)\n",
        "    \n",
        "    return model.predict([image, img_str])"
      ]
    },
    {
      "cell_type": "code",
      "execution_count": null,
      "metadata": {
        "id": "PWjaM6bY_h-R"
      },
      "outputs": [],
      "source": [
        "# n_imgs = 100\n",
        "# n_imgs = 1000\n",
        "n_imgs = 10000"
      ]
    },
    {
      "cell_type": "code",
      "execution_count": null,
      "metadata": {
        "id": "wXkyYWjbLT_-"
      },
      "outputs": [],
      "source": [
        "images = os.listdir('images')"
      ]
    },
    {
      "cell_type": "code",
      "execution_count": null,
      "metadata": {},
      "outputs": [],
      "source": [
        "images = images[:n_imgs]"
      ]
    },
    {
      "cell_type": "code",
      "execution_count": null,
      "metadata": {},
      "outputs": [],
      "source": [
        "results = []\n",
        "start_time = time.time()\n",
        "\n",
        "with concurrent.futures.ThreadPoolExecutor() as executor:\n",
        "    for image, result in zip(images, executor.map(process_image, images)):\n",
        "        results.append([image, result])\n",
        "\n",
        "end_time = time.time()"
      ]
    },
    {
      "cell_type": "code",
      "execution_count": null,
      "metadata": {
        "id": "-S-PLBMA6PVw"
      },
      "outputs": [],
      "source": [
        "show_metrics(n_imgs, start_time, end_time)"
      ]
    }
  ],
  "metadata": {
    "colab": {
      "provenance": []
    },
    "kernelspec": {
      "display_name": ".env",
      "language": "python",
      "name": "python3"
    },
    "language_info": {
      "codemirror_mode": {
        "name": "ipython",
        "version": 3
      },
      "file_extension": ".py",
      "mimetype": "text/x-python",
      "name": "python",
      "nbconvert_exporter": "python",
      "pygments_lexer": "ipython3",
      "version": "3.8.15 (default, Oct 12 2022, 19:15:16) \n[GCC 11.2.0]"
    },
    "vscode": {
      "interpreter": {
        "hash": "8fcee05e428355ba9289075b405db6efadfd667fc0be61680b205b2b303cc40a"
      }
    }
  },
  "nbformat": 4,
  "nbformat_minor": 0
}
