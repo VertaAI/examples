{
  "cells": [
    {
      "cell_type": "markdown",
      "metadata": {
        "id": "T_372O3v8AgD"
      },
      "source": [
        "# Object Detection - SSD Mobilenet V2 from TensorFlow Hub (Image URLs)"
      ]
    },
    {
      "cell_type": "markdown",
      "metadata": {
        "id": "GdstcWzK8Cyq"
      },
      "source": [
        "This model identifies objects present in images, returning its scores, labels and bounding boxes.\n",
        "\n",
        "We are using a dataset from [UCF](https://www.crcv.ucf.edu/data/GMCP_Geolocalization/#Dataset) and the model [SSD Mobilenet V2](https://tfhub.dev/google/openimages_v4/ssd/mobilenet_v2/1) from [TensorFlow Hub](https://www.tensorflow.org/hub)."
      ]
    },
    {
      "cell_type": "markdown",
      "metadata": {
        "id": "KXQgCuyZ8EjH"
      },
      "source": [
        "<a href=\"https://colab.research.google.com/github/VertaAI/examples/blob/main/deployment/tfhub/object-detection/url/object-detection-url-predict.ipynb\" target=\"_parent\"><img src=\"https://colab.research.google.com/assets/colab-badge.svg\" alt=\"Open In Colab\"/></a>"
      ]
    },
    {
      "cell_type": "markdown",
      "metadata": {
        "id": "Pv2-AZ4e8HSD"
      },
      "source": [
        "## Dependencies"
      ]
    },
    {
      "cell_type": "markdown",
      "metadata": {
        "id": "9TiG3wNl8Jh8"
      },
      "source": [
        "This notebook has been tested with **Python 3.8.15** and the following package versions:"
      ]
    },
    {
      "cell_type": "code",
      "execution_count": null,
      "metadata": {
        "id": "NR5sKeNHxFop"
      },
      "outputs": [],
      "source": [
        "%%capture\n",
        "!pip install beautifulsoup4==4.6.3\n",
        "!pip install requests==2.28.1\n",
        "!pip install verta==0.21.1"
      ]
    },
    {
      "cell_type": "markdown",
      "metadata": {
        "id": "GkgXFQSa8cfu"
      },
      "source": [
        "## Imports"
      ]
    },
    {
      "cell_type": "code",
      "execution_count": null,
      "metadata": {
        "id": "eUAUz5woxZi_"
      },
      "outputs": [],
      "source": [
        "import concurrent.futures\n",
        "import os\n",
        "import requests\n",
        "import time\n",
        "\n",
        "from bs4 import BeautifulSoup\n",
        "from verta import Client"
      ]
    },
    {
      "cell_type": "markdown",
      "metadata": {
        "id": "pLRRGesZ8fkU"
      },
      "source": [
        "## Verta Set Up"
      ]
    },
    {
      "cell_type": "code",
      "execution_count": null,
      "metadata": {
        "id": "wH6CuXT9xZ7_"
      },
      "outputs": [],
      "source": [
        "os.environ['VERTA_HOST'] = ''\n",
        "os.environ['VERTA_EMAIL'] = ''\n",
        "os.environ['VERTA_DEV_KEY'] = ''"
      ]
    },
    {
      "cell_type": "code",
      "execution_count": null,
      "metadata": {
        "colab": {
          "base_uri": "https://localhost:8080/"
        },
        "id": "lrnX6fRI72sR",
        "outputId": "f7e6e24c-ac3a-4988-e364-512b314f9756"
      },
      "outputs": [],
      "source": [
        "client = Client(os.environ['VERTA_HOST'])"
      ]
    },
    {
      "cell_type": "code",
      "execution_count": null,
      "metadata": {
        "colab": {
          "base_uri": "https://localhost:8080/"
        },
        "id": "pfob_qhs726Z",
        "outputId": "42b4b21f-5072-480d-a5c1-5541d74cb571"
      },
      "outputs": [],
      "source": [
        "endpoint = client.get_endpoint('object-detection-url')"
      ]
    },
    {
      "cell_type": "code",
      "execution_count": null,
      "metadata": {
        "id": "ERJ4GU0w73Hw"
      },
      "outputs": [],
      "source": [
        "model = endpoint.get_deployed_model()"
      ]
    },
    {
      "cell_type": "markdown",
      "metadata": {
        "id": "B9dFUfLe9GCC"
      },
      "source": [
        "## Get URLs"
      ]
    },
    {
      "cell_type": "code",
      "execution_count": null,
      "metadata": {
        "id": "GPLAVDNA9HE7"
      },
      "outputs": [],
      "source": [
        "url = 'http://www.cs.ucf.edu/~aroshan/index_files/Dataset_PitOrlManh/images/'"
      ]
    },
    {
      "cell_type": "code",
      "execution_count": null,
      "metadata": {
        "id": "2XmwxmQU9Io6"
      },
      "outputs": [],
      "source": [
        "req = requests.get(url)"
      ]
    },
    {
      "cell_type": "code",
      "execution_count": null,
      "metadata": {
        "id": "5uN2lPRV9IyB"
      },
      "outputs": [],
      "source": [
        "soup = BeautifulSoup(req.text, 'lxml')"
      ]
    },
    {
      "cell_type": "code",
      "execution_count": null,
      "metadata": {
        "id": "gH4BVlH_9I6g"
      },
      "outputs": [],
      "source": [
        "urls = []\n",
        "\n",
        "for link in soup.find_all('a'):\n",
        "    href = link.get('href')\n",
        "  \n",
        "    if href.endswith('.jpg'):\n",
        "      url = f\"http://www.cs.ucf.edu/~aroshan/index_files/Dataset_PitOrlManh/images/{href}\"\n",
        "      urls.append(url)"
      ]
    },
    {
      "cell_type": "markdown",
      "metadata": {
        "id": "nTIgnAsR7-OX"
      },
      "source": [
        "## Show Process Metrics"
      ]
    },
    {
      "cell_type": "code",
      "execution_count": null,
      "metadata": {
        "id": "BeqejBmJ73eE"
      },
      "outputs": [],
      "source": [
        "def show_metrics(urls, start_time, end_time):\n",
        "    total_time = end_time - start_time\n",
        "    total_time = time.strftime('%Hh %Mm %Ss', time.gmtime(total_time))\n",
        "    \n",
        "    print(f\"Processing Time: {total_time} for {len(urls)} URLs.\")"
      ]
    },
    {
      "cell_type": "markdown",
      "metadata": {
        "id": "llnSmebt8kMY"
      },
      "source": [
        "## Predict"
      ]
    },
    {
      "cell_type": "code",
      "execution_count": null,
      "metadata": {
        "id": "5wOeo8Q9_GIM"
      },
      "outputs": [],
      "source": [
        "def process_image(data):\n",
        "    return model.predict(data)"
      ]
    },
    {
      "cell_type": "code",
      "execution_count": null,
      "metadata": {
        "id": "0BuVkQo-9TTC"
      },
      "outputs": [],
      "source": [
        "# urls = urls[:100]\n",
        "# urls = urls[:1000]\n",
        "urls = urls[:10000]"
      ]
    },
    {
      "cell_type": "code",
      "execution_count": null,
      "metadata": {
        "id": "Dk6Vg_6pAnGu"
      },
      "outputs": [],
      "source": [
        "data = [[os.path.basename(url), url] for url in urls]"
      ]
    },
    {
      "cell_type": "code",
      "execution_count": null,
      "metadata": {
        "colab": {
          "base_uri": "https://localhost:8080/"
        },
        "id": "zRGrVu36xaHU",
        "outputId": "02380b02-f7df-4c11-8884-8af4ec6f6cd2"
      },
      "outputs": [],
      "source": [
        "results = []\n",
        "start_time = time.time()\n",
        "\n",
        "with concurrent.futures.ThreadPoolExecutor() as executor:\n",
        "    for result in zip(data, executor.map(process_image, data)):\n",
        "        results.append(result[1])\n",
        "\n",
        "end_time = time.time()"
      ]
    },
    {
      "cell_type": "code",
      "execution_count": null,
      "metadata": {
        "colab": {
          "base_uri": "https://localhost:8080/"
        },
        "id": "w1eQBPtuxaJ-",
        "outputId": "7cc943e9-ccb3-453a-dc81-01656c020e82"
      },
      "outputs": [],
      "source": [
        "show_metrics(urls, start_time, end_time)"
      ]
    }
  ],
  "metadata": {
    "colab": {
      "provenance": []
    },
    "kernelspec": {
      "display_name": "Python 3",
      "language": "python",
      "name": "python3"
    },
    "language_info": {
      "name": "python",
      "version": "3.8.15 (default, Oct 12 2022, 19:15:16) \n[GCC 11.2.0]"
    },
    "vscode": {
      "interpreter": {
        "hash": "df0893f56f349688326838aaeea0de204df53a132722cbd565e54b24a8fec5f6"
      }
    }
  },
  "nbformat": 4,
  "nbformat_minor": 0
}
