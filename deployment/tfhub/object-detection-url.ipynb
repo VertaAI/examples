{
  "cells": [
    {
      "cell_type": "markdown",
      "metadata": {
        "id": "rKn_w61SNijN"
      },
      "source": [
        "# Object Detection - SSD Mobilenet V2 from TensorFlow Hub (Image URLS)"
      ]
    },
    {
      "cell_type": "markdown",
      "metadata": {
        "id": "DF3TUJI2VfYt"
      },
      "source": [
        "This model identifies objects present in images, returning its scores, labels and bounding boxes.\n",
        "\n",
        "We are using a dataset from [UCF](https://www.crcv.ucf.edu/data/GMCP_Geolocalization/#Dataset) and the model [SSD Mobilenet V2](https://tfhub.dev/google/openimages_v4/ssd/mobilenet_v2/1) from [TensorFlow Hub](https://www.tensorflow.org/hub)."
      ]
    },
    {
      "attachments": {},
      "cell_type": "markdown",
      "metadata": {
        "id": "vTeFMlSIVic0"
      },
      "source": [
        "<a href=\"https://colab.research.google.com/github/VertaAI/examples/blob/main/deployment/tfhub/object-detection-url.ipynb\" target=\"_parent\"><img src=\"https://colab.research.google.com/assets/colab-badge.svg\" alt=\"Open In Colab\"/></a>"
      ]
    },
    {
      "cell_type": "markdown",
      "metadata": {
        "id": "wvqC2djzNijQ"
      },
      "source": [
        "## 1. Dependencies"
      ]
    },
    {
      "cell_type": "markdown",
      "metadata": {
        "id": "0flMWU41BY2W"
      },
      "source": [
        "This notebook has been tested with **Python 3.8.15** and the following package versions:"
      ]
    },
    {
      "cell_type": "code",
      "execution_count": null,
      "metadata": {
        "id": "2T-GZ3zUNijQ"
      },
      "outputs": [],
      "source": [
        "%%capture\n",
        "!pip install beautifulsoup4==4.6.3\n",
        "!pip install dill==0.3.6\n",
        "!pip install Pillow==7.1.2\n",
        "!pip install requests==2.28.1\n",
        "!pip install tensorflow==2.11.0\n",
        "!pip install tensorflow-hub==0.12.0\n",
        "!pip install verta==0.21.1"
      ]
    },
    {
      "cell_type": "markdown",
      "metadata": {
        "id": "CtIgsA4aB2ga"
      },
      "source": [
        "## 2. Imports"
      ]
    },
    {
      "cell_type": "code",
      "execution_count": null,
      "metadata": {
        "id": "7SuugL_lOuaN"
      },
      "outputs": [],
      "source": [
        "import concurrent.futures\n",
        "import os\n",
        "import pandas as pd\n",
        "import requests\n",
        "import tempfile\n",
        "import tensorflow as tf\n",
        "import tensorflow_hub as hub\n",
        "import time\n",
        "import urllib.request\n",
        "\n",
        "from bs4 import BeautifulSoup\n",
        "from PIL import Image, ImageOps\n",
        "from verta import Client\n",
        "from verta.endpoint.autoscaling import Autoscaling\n",
        "from verta.endpoint.autoscaling.metrics import CpuUtilizationTarget, MemoryUtilizationTarget, RequestsPerWorkerTarget\n",
        "from verta.endpoint.resources import Resources\n",
        "from verta.endpoint.update import DirectUpdateStrategy\n",
        "from verta.environment import Python\n",
        "from verta.registry import VertaModelBase, verify_io\n",
        "from verta.utils import ModelAPI"
      ]
    },
    {
      "cell_type": "markdown",
      "metadata": {
        "id": "LB20pSYuXcCD"
      },
      "source": [
        "## 3. Verta Set Up"
      ]
    },
    {
      "cell_type": "code",
      "execution_count": null,
      "metadata": {
        "id": "hGwbnFGlXgJh"
      },
      "outputs": [],
      "source": [
        "os.environ['VERTA_HOST'] = ''\n",
        "os.environ['VERTA_EMAIL'] = ''\n",
        "os.environ['VERTA_DEV_KEY'] = ''"
      ]
    },
    {
      "cell_type": "code",
      "execution_count": null,
      "metadata": {
        "colab": {
          "base_uri": "https://localhost:8080/"
        },
        "id": "wVcbn1_3Xhtm",
        "outputId": "ad2bb3bf-32ce-499e-8b2c-a2efa6a7c45a"
      },
      "outputs": [],
      "source": [
        "client = Client(os.environ['VERTA_HOST'])"
      ]
    },
    {
      "cell_type": "markdown",
      "metadata": {
        "id": "5bBHXvKnX_Je"
      },
      "source": [
        "## 4. Model Class"
      ]
    },
    {
      "cell_type": "code",
      "execution_count": null,
      "metadata": {
        "id": "o3YNlqVMEi6c"
      },
      "outputs": [],
      "source": [
        "class DetectObject(VertaModelBase):\n",
        "    def __init__(self, artifacts=None):\n",
        "        module_handle = 'https://tfhub.dev/google/openimages_v4/ssd/mobilenet_v2/1'\n",
        "        self.detector = hub.load(module_handle).signatures['default']\n",
        "    \n",
        "    def handle_img(self, file_name, url, width=640, height=480):\n",
        "        _, path = tempfile.mkstemp(suffix='.jpg')\n",
        "        file_path = f\"{tempfile.gettempdir()}/{file_name}\"\n",
        "        urllib.request.urlretrieve(url, file_path)\n",
        "        img = Image.open(file_path)\n",
        "        img = ImageOps.grayscale(img)\n",
        "        img.thumbnail((width, height), Image.LANCZOS)\n",
        "        img.save(path)\n",
        "\n",
        "        return path\n",
        "\n",
        "    def load_img(self, path):\n",
        "        img = tf.io.read_file(path)\n",
        "        img = tf.image.decode_jpeg(img, channels=3)\n",
        "        \n",
        "        return img\n",
        "\n",
        "    def filter_results(self, file_name, response, entity='Car', min_score=.2):\n",
        "        unused_keys = ['detection_class_labels', 'detection_class_names']\n",
        "        response = {key: value.numpy().tolist() for key, value in response.items()}\n",
        "        response = {key: val for key, val in response.items() if key not in unused_keys}\n",
        "        response['detection_class_entities'] = [v.decode() for v in response['detection_class_entities']]\n",
        "\n",
        "        entities = response['detection_class_entities']\n",
        "        scores = response['detection_scores']\n",
        "        bboxes = response['detection_boxes']\n",
        "        result = {}\n",
        "\n",
        "        for i in range(len(entities)):\n",
        "            if entities[i] == entity and scores[i] >= min_score:\n",
        "                ymin, xmin, ymax, xmax = bboxes[i]\n",
        "                result = {\n",
        "                    'file_name': file_name,\n",
        "                    'has_car': True,\n",
        "                    'score': scores[i],\n",
        "                    'bboxes': {'ymin': ymin, 'xmin': xmin, 'ymax': ymax, 'xmax': xmax}\n",
        "                }\n",
        "                break\n",
        "\n",
        "        if len(result) == 0:\n",
        "            result = {\n",
        "                'file_name': file_name,\n",
        "                'has_car': False,\n",
        "                'score': 0,\n",
        "                'bboxes': {'ymin': 0, 'xmin': 0, 'ymax': 0, 'xmax': 0}\n",
        "            }\n",
        "            \n",
        "        return result\n",
        "\n",
        "    def run_detector(self, file_name, image_path):\n",
        "        img = self.load_img(image_path)\n",
        "        img = tf.image.convert_image_dtype(img, tf.float32)[tf.newaxis, ...]\n",
        "        \n",
        "        response = self.detector(img)\n",
        "        result = self.filter_results(file_name, response)\n",
        "        \n",
        "        return result\n",
        "\n",
        "    def detect_objects(self, file_name, url):\n",
        "        start_time = time.time()\n",
        "        image_path = self.handle_img(file_name, url)\n",
        "        result = self.run_detector(file_name, image_path)\n",
        "        end_time = time.time()\n",
        "        \n",
        "        return result\n",
        "\n",
        "    @verify_io\n",
        "    def predict(self, data):\n",
        "        file_name, url  = data\n",
        "        result = self.detect_objects(file_name, url)\n",
        "\n",
        "        return result\n",
        "\n",
        "    def describe(self):\n",
        "        return {\n",
        "            'method': 'predict',\n",
        "            'args': f\"{self.example()}\",\n",
        "            'returns': [{\n",
        "                'file_name': '',\n",
        "                'has_car': False,\n",
        "                'score': 0,\n",
        "                'bboxes': {\n",
        "                    'ymin': 0, \n",
        "                    'xmin': 0, \n",
        "                    'ymax': 0, \n",
        "                    'xmax': 0\n",
        "                }\n",
        "            }],\n",
        "            'description': 'Identify whether a given object is present in the URL image, with its score and bounding boxes.',\n",
        "            'input_description': 'A list with image URLs.',\n",
        "            'output_description': \"\"\"\n",
        "                A CSV file with information about all the processed images.\n",
        "                The columns presents the file names, if the object was found (boolean), its score and bounding boxes.\n",
        "            \"\"\"\n",
        "        }\n",
        "    \n",
        "    def example(self):\n",
        "        return [\"000001_0.jpg\", \"http://s3.amazonaws.com/verta-starter/street-view-images/000001_0.jpg\"]"
      ]
    },
    {
      "cell_type": "markdown",
      "metadata": {
        "id": "5SvthV9gd4lk"
      },
      "source": [
        "## 5. Model Register"
      ]
    },
    {
      "cell_type": "code",
      "execution_count": null,
      "metadata": {
        "colab": {
          "base_uri": "https://localhost:8080/"
        },
        "id": "UR7XtPNOHTgO",
        "outputId": "17a97dc4-6755-4d3e-f20e-3d0d36d658c8"
      },
      "outputs": [],
      "source": [
        "registered_model = client.get_or_create_registered_model(name='Object Detection - TF Hub')"
      ]
    },
    {
      "cell_type": "code",
      "execution_count": null,
      "metadata": {
        "colab": {
          "base_uri": "https://localhost:8080/"
        },
        "id": "vFlrCL2EWnJR",
        "outputId": "fc33882d-7ea0-4a94-f9f1-b898446ba27c"
      },
      "outputs": [],
      "source": [
        "model = registered_model.create_standard_model(\n",
        "    name = 'url',\n",
        "    model_cls = DetectObject,\n",
        "    model_api = ModelAPI(\n",
        "        [{'file_name': '', 'url': ''}],\n",
        "        [{\n",
        "            'file_name': '',\n",
        "            'has_car': False,\n",
        "            'score': 0,\n",
        "            'bboxes': {\n",
        "                'ymin': 0,\n",
        "                'xmin': 0,\n",
        "                'ymax': 0,\n",
        "                'xmax': 0\n",
        "            }\n",
        "        }]\n",
        "    ),\n",
        "    environment = Python(requirements = ['tensorflow', 'tensorflow_hub', 'dill', 'Pillow'])\n",
        ")"
      ]
    },
    {
      "cell_type": "markdown",
      "metadata": {
        "id": "60NCs0j8KHvg"
      },
      "source": [
        "## 6. Auto Scaling and Resources"
      ]
    },
    {
      "cell_type": "code",
      "execution_count": null,
      "metadata": {
        "id": "LBLEtVauKBNP"
      },
      "outputs": [],
      "source": [
        "autoscaling = Autoscaling(min_replicas=1, max_replicas=20, min_scale=0.1, max_scale=10)\n",
        "autoscaling.add_metric(CpuUtilizationTarget(0.6))\n",
        "autoscaling.add_metric(MemoryUtilizationTarget(0.7))\n",
        "autoscaling.add_metric(RequestsPerWorkerTarget(1))\n",
        "resources = Resources(cpu=1., memory='4Gi')"
      ]
    },
    {
      "cell_type": "markdown",
      "metadata": {
        "id": "Y0gm6fOse6BP"
      },
      "source": [
        "## 7. Model Endpoint"
      ]
    },
    {
      "cell_type": "code",
      "execution_count": null,
      "metadata": {
        "id": "wZi8X-LoCORa"
      },
      "outputs": [],
      "source": [
        "endpoint = client.get_or_create_endpoint('object-detection-url')"
      ]
    },
    {
      "cell_type": "code",
      "execution_count": null,
      "metadata": {
        "colab": {
          "base_uri": "https://localhost:8080/"
        },
        "id": "F4-9M2_xKF7R",
        "outputId": "6664462e-6fd1-4512-ab18-c0ff5a7fd64a"
      },
      "outputs": [],
      "source": [
        "%%time\n",
        "endpoint.update(\n",
        "    model, \n",
        "    strategy = DirectUpdateStrategy(),\n",
        "    autoscaling = autoscaling,\n",
        "    resources = resources,\n",
        "    wait = True\n",
        ")"
      ]
    },
    {
      "cell_type": "code",
      "execution_count": null,
      "metadata": {
        "id": "0Zgc18ocXbCE"
      },
      "outputs": [],
      "source": [
        "deployed_model = endpoint.get_deployed_model()"
      ]
    },
    {
      "cell_type": "markdown",
      "metadata": {
        "id": "NbxYiJJsX5oL"
      },
      "source": [
        "## 8. Predictions"
      ]
    },
    {
      "cell_type": "code",
      "execution_count": null,
      "metadata": {
        "id": "p7x7dfWoCNxK"
      },
      "outputs": [],
      "source": [
        "url = 'http://www.cs.ucf.edu/~aroshan/index_files/Dataset_PitOrlManh/images/'"
      ]
    },
    {
      "cell_type": "code",
      "execution_count": null,
      "metadata": {
        "id": "4nS6rzzyK58c"
      },
      "outputs": [],
      "source": [
        "req = requests.get(url)"
      ]
    },
    {
      "cell_type": "code",
      "execution_count": null,
      "metadata": {
        "id": "gH_5iPC84jmu"
      },
      "outputs": [],
      "source": [
        "soup = BeautifulSoup(req.text, 'lxml')"
      ]
    },
    {
      "cell_type": "code",
      "execution_count": null,
      "metadata": {
        "id": "Hl_MzSFXX2oo"
      },
      "outputs": [],
      "source": [
        "urls = []\n",
        "\n",
        "for link in soup.find_all('a'):\n",
        "    href = link.get('href')\n",
        "  \n",
        "    if href.endswith('.jpg'):\n",
        "        url = f\"http://www.cs.ucf.edu/~aroshan/index_files/Dataset_PitOrlManh/images/{href}\"\n",
        "        urls.append(url)"
      ]
    },
    {
      "cell_type": "code",
      "execution_count": null,
      "metadata": {
        "id": "Ifi5nJeBX_1G"
      },
      "outputs": [],
      "source": [
        "urls = urls[:10]"
      ]
    },
    {
      "cell_type": "code",
      "execution_count": null,
      "metadata": {
        "id": "LHtSYi5zq0bq"
      },
      "outputs": [],
      "source": [
        "urls = [[os.path.basename(url), url] for url in urls]"
      ]
    },
    {
      "cell_type": "code",
      "execution_count": null,
      "metadata": {
        "id": "6puNawPEYBJl"
      },
      "outputs": [],
      "source": [
        "def process_image(url):\n",
        "    return deployed_model.predict(url)"
      ]
    },
    {
      "cell_type": "code",
      "execution_count": null,
      "metadata": {
        "id": "twDxykU5YBSp"
      },
      "outputs": [],
      "source": [
        "results = []\n",
        "start_time = time.time()\n",
        "\n",
        "with concurrent.futures.ThreadPoolExecutor() as executor:\n",
        "    for result in executor.map(process_image, urls):\n",
        "        results.append(result)\n",
        "        \n",
        "end_time = time.time()"
      ]
    },
    {
      "cell_type": "code",
      "execution_count": null,
      "metadata": {
        "id": "jGY1FLwWYBXq"
      },
      "outputs": [],
      "source": [
        "total_time = end_time - start_time\n",
        "total_time = time.strftime('%Hh %Mm %Ss', time.gmtime(total_time))"
      ]
    },
    {
      "cell_type": "code",
      "execution_count": null,
      "metadata": {
        "colab": {
          "base_uri": "https://localhost:8080/"
        },
        "id": "-k2mErxvYBdZ",
        "outputId": "f56ea8f1-486f-4575-d8fe-c63b0b0800ab"
      },
      "outputs": [],
      "source": [
        "print(f\"Processing Time: {total_time} for {len(urls)} images.\")"
      ]
    },
    {
      "cell_type": "code",
      "execution_count": null,
      "metadata": {
        "id": "lHUymxy2Img1"
      },
      "outputs": [],
      "source": [
        "results_rows = []\n",
        "\n",
        "for img_result in results:\n",
        "    img_result = img_result.copy()\n",
        "    img_result.update(img_result.pop('bboxes'))\n",
        "    results_rows.append(pd.Series(img_result))"
      ]
    },
    {
      "cell_type": "code",
      "execution_count": null,
      "metadata": {
        "id": "XOKZr5qBJqup"
      },
      "outputs": [],
      "source": [
        "df = pd.concat(results_rows, axis=1).T"
      ]
    },
    {
      "cell_type": "code",
      "execution_count": null,
      "metadata": {
        "colab": {
          "base_uri": "https://localhost:8080/",
          "height": 363
        },
        "id": "pi546PBJJqj9",
        "outputId": "b61475b4-492d-4a4f-babd-db057a442c70"
      },
      "outputs": [],
      "source": [
        "df"
      ]
    },
    {
      "cell_type": "code",
      "execution_count": null,
      "metadata": {
        "id": "VeV_oVzddA0m"
      },
      "outputs": [],
      "source": [
        "endpoint.delete()"
      ]
    }
  ],
  "metadata": {
    "colab": {
      "collapsed_sections": [
        "wvqC2djzNijQ",
        "5bBHXvKnX_Je"
      ],
      "provenance": []
    },
    "kernelspec": {
      "display_name": "Python 3",
      "language": "python",
      "name": "python3"
    },
    "language_info": {
      "codemirror_mode": {
        "name": "ipython",
        "version": 3
      },
      "file_extension": ".py",
      "mimetype": "text/x-python",
      "name": "python",
      "nbconvert_exporter": "python",
      "pygments_lexer": "ipython3",
      "version": "3.10.6 (main, Nov 14 2022, 16:10:14) [GCC 11.3.0]"
    },
    "vscode": {
      "interpreter": {
        "hash": "916dbcbb3f70747c44a77c7bcd40155683ae19c65e1c03b4aa3499c5328201f1"
      }
    }
  },
  "nbformat": 4,
  "nbformat_minor": 0
}
