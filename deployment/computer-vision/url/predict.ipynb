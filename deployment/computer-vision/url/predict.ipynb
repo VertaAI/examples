{
 "cells": [
  {
   "cell_type": "code",
   "execution_count": 1,
   "metadata": {},
   "outputs": [
    {
     "name": "stdout",
     "output_type": "stream",
     "text": [
      "Requirement already satisfied: dill==0.3.6 in ./.env/lib/python3.10/site-packages (from -r requirements.txt (line 1)) (0.3.6)\n",
      "Requirement already satisfied: pandas==1.5.2 in ./.env/lib/python3.10/site-packages (from -r requirements.txt (line 2)) (1.5.2)\n",
      "Requirement already satisfied: Pillow==9.3.0 in ./.env/lib/python3.10/site-packages (from -r requirements.txt (line 3)) (9.3.0)\n",
      "Requirement already satisfied: tensorflow==2.11.0 in ./.env/lib/python3.10/site-packages (from -r requirements.txt (line 4)) (2.11.0)\n",
      "Requirement already satisfied: tensorflow-hub==0.12.0 in ./.env/lib/python3.10/site-packages (from -r requirements.txt (line 5)) (0.12.0)\n",
      "Requirement already satisfied: urllib3==1.26.13 in ./.env/lib/python3.10/site-packages (from -r requirements.txt (line 6)) (1.26.13)\n",
      "Requirement already satisfied: verta==0.21.1 in ./.env/lib/python3.10/site-packages (from -r requirements.txt (line 7)) (0.21.1)\n",
      "Requirement already satisfied: python-dateutil>=2.8.1 in ./.env/lib/python3.10/site-packages (from pandas==1.5.2->-r requirements.txt (line 2)) (2.8.2)\n",
      "Requirement already satisfied: numpy>=1.21.0 in ./.env/lib/python3.10/site-packages (from pandas==1.5.2->-r requirements.txt (line 2)) (1.23.5)\n",
      "Requirement already satisfied: pytz>=2020.1 in ./.env/lib/python3.10/site-packages (from pandas==1.5.2->-r requirements.txt (line 2)) (2022.6)\n",
      "Requirement already satisfied: packaging in ./.env/lib/python3.10/site-packages (from tensorflow==2.11.0->-r requirements.txt (line 4)) (21.3)\n",
      "Requirement already satisfied: libclang>=13.0.0 in ./.env/lib/python3.10/site-packages (from tensorflow==2.11.0->-r requirements.txt (line 4)) (14.0.6)\n",
      "Requirement already satisfied: astunparse>=1.6.0 in ./.env/lib/python3.10/site-packages (from tensorflow==2.11.0->-r requirements.txt (line 4)) (1.6.3)\n",
      "Requirement already satisfied: wrapt>=1.11.0 in ./.env/lib/python3.10/site-packages (from tensorflow==2.11.0->-r requirements.txt (line 4)) (1.14.1)\n",
      "Requirement already satisfied: flatbuffers>=2.0 in ./.env/lib/python3.10/site-packages (from tensorflow==2.11.0->-r requirements.txt (line 4)) (22.11.23)\n",
      "Requirement already satisfied: google-pasta>=0.1.1 in ./.env/lib/python3.10/site-packages (from tensorflow==2.11.0->-r requirements.txt (line 4)) (0.2.0)\n",
      "Requirement already satisfied: tensorflow-estimator<2.12,>=2.11.0 in ./.env/lib/python3.10/site-packages (from tensorflow==2.11.0->-r requirements.txt (line 4)) (2.11.0)\n",
      "Requirement already satisfied: protobuf<3.20,>=3.9.2 in ./.env/lib/python3.10/site-packages (from tensorflow==2.11.0->-r requirements.txt (line 4)) (3.19.6)\n",
      "Requirement already satisfied: opt-einsum>=2.3.2 in ./.env/lib/python3.10/site-packages (from tensorflow==2.11.0->-r requirements.txt (line 4)) (3.3.0)\n",
      "Requirement already satisfied: gast<=0.4.0,>=0.2.1 in ./.env/lib/python3.10/site-packages (from tensorflow==2.11.0->-r requirements.txt (line 4)) (0.4.0)\n",
      "Requirement already satisfied: typing-extensions>=3.6.6 in ./.env/lib/python3.10/site-packages (from tensorflow==2.11.0->-r requirements.txt (line 4)) (4.4.0)\n",
      "Requirement already satisfied: absl-py>=1.0.0 in ./.env/lib/python3.10/site-packages (from tensorflow==2.11.0->-r requirements.txt (line 4)) (1.3.0)\n",
      "Requirement already satisfied: six>=1.12.0 in ./.env/lib/python3.10/site-packages (from tensorflow==2.11.0->-r requirements.txt (line 4)) (1.16.0)\n",
      "Requirement already satisfied: tensorflow-io-gcs-filesystem>=0.23.1 in ./.env/lib/python3.10/site-packages (from tensorflow==2.11.0->-r requirements.txt (line 4)) (0.28.0)\n",
      "Requirement already satisfied: keras<2.12,>=2.11.0 in ./.env/lib/python3.10/site-packages (from tensorflow==2.11.0->-r requirements.txt (line 4)) (2.11.0)\n",
      "Requirement already satisfied: h5py>=2.9.0 in ./.env/lib/python3.10/site-packages (from tensorflow==2.11.0->-r requirements.txt (line 4)) (3.7.0)\n",
      "Requirement already satisfied: setuptools in ./.env/lib/python3.10/site-packages (from tensorflow==2.11.0->-r requirements.txt (line 4)) (59.6.0)\n",
      "Requirement already satisfied: tensorboard<2.12,>=2.11 in ./.env/lib/python3.10/site-packages (from tensorflow==2.11.0->-r requirements.txt (line 4)) (2.11.0)\n",
      "Requirement already satisfied: grpcio<2.0,>=1.24.3 in ./.env/lib/python3.10/site-packages (from tensorflow==2.11.0->-r requirements.txt (line 4)) (1.51.1)\n",
      "Requirement already satisfied: termcolor>=1.1.0 in ./.env/lib/python3.10/site-packages (from tensorflow==2.11.0->-r requirements.txt (line 4)) (2.1.1)\n",
      "Requirement already satisfied: pyyaml<7.0,>=5.1 in ./.env/lib/python3.10/site-packages (from verta==0.21.1->-r requirements.txt (line 7)) (6.0)\n",
      "Requirement already satisfied: cloudpickle<3.0,>=1.0 in ./.env/lib/python3.10/site-packages (from verta==0.21.1->-r requirements.txt (line 7)) (2.2.0)\n",
      "Requirement already satisfied: requests<3.0,>=2.21 in ./.env/lib/python3.10/site-packages (from verta==0.21.1->-r requirements.txt (line 7)) (2.28.1)\n",
      "Requirement already satisfied: googleapis-common-protos<2.0,>=1.5 in ./.env/lib/python3.10/site-packages (from verta==0.21.1->-r requirements.txt (line 7)) (1.57.0)\n",
      "Requirement already satisfied: pytimeparse<2.0,>=1.1.8 in ./.env/lib/python3.10/site-packages (from verta==0.21.1->-r requirements.txt (line 7)) (1.1.8)\n",
      "Requirement already satisfied: click<9.0,>=7.0 in ./.env/lib/python3.10/site-packages (from verta==0.21.1->-r requirements.txt (line 7)) (8.1.3)\n",
      "Requirement already satisfied: wheel<1.0,>=0.23.0 in ./.env/lib/python3.10/site-packages (from astunparse>=1.6.0->tensorflow==2.11.0->-r requirements.txt (line 4)) (0.38.4)\n",
      "Requirement already satisfied: certifi>=2017.4.17 in ./.env/lib/python3.10/site-packages (from requests<3.0,>=2.21->verta==0.21.1->-r requirements.txt (line 7)) (2022.9.24)\n",
      "Requirement already satisfied: idna<4,>=2.5 in ./.env/lib/python3.10/site-packages (from requests<3.0,>=2.21->verta==0.21.1->-r requirements.txt (line 7)) (3.4)\n",
      "Requirement already satisfied: charset-normalizer<3,>=2 in ./.env/lib/python3.10/site-packages (from requests<3.0,>=2.21->verta==0.21.1->-r requirements.txt (line 7)) (2.1.1)\n",
      "Requirement already satisfied: google-auth-oauthlib<0.5,>=0.4.1 in ./.env/lib/python3.10/site-packages (from tensorboard<2.12,>=2.11->tensorflow==2.11.0->-r requirements.txt (line 4)) (0.4.6)\n",
      "Requirement already satisfied: markdown>=2.6.8 in ./.env/lib/python3.10/site-packages (from tensorboard<2.12,>=2.11->tensorflow==2.11.0->-r requirements.txt (line 4)) (3.4.1)\n",
      "Requirement already satisfied: google-auth<3,>=1.6.3 in ./.env/lib/python3.10/site-packages (from tensorboard<2.12,>=2.11->tensorflow==2.11.0->-r requirements.txt (line 4)) (2.14.1)\n",
      "Requirement already satisfied: tensorboard-plugin-wit>=1.6.0 in ./.env/lib/python3.10/site-packages (from tensorboard<2.12,>=2.11->tensorflow==2.11.0->-r requirements.txt (line 4)) (1.8.1)\n",
      "Requirement already satisfied: tensorboard-data-server<0.7.0,>=0.6.0 in ./.env/lib/python3.10/site-packages (from tensorboard<2.12,>=2.11->tensorflow==2.11.0->-r requirements.txt (line 4)) (0.6.1)\n",
      "Requirement already satisfied: werkzeug>=1.0.1 in ./.env/lib/python3.10/site-packages (from tensorboard<2.12,>=2.11->tensorflow==2.11.0->-r requirements.txt (line 4)) (2.2.2)\n",
      "Requirement already satisfied: pyparsing!=3.0.5,>=2.0.2 in ./.env/lib/python3.10/site-packages (from packaging->tensorflow==2.11.0->-r requirements.txt (line 4)) (3.0.9)\n",
      "Requirement already satisfied: rsa<5,>=3.1.4 in ./.env/lib/python3.10/site-packages (from google-auth<3,>=1.6.3->tensorboard<2.12,>=2.11->tensorflow==2.11.0->-r requirements.txt (line 4)) (4.9)\n",
      "Requirement already satisfied: cachetools<6.0,>=2.0.0 in ./.env/lib/python3.10/site-packages (from google-auth<3,>=1.6.3->tensorboard<2.12,>=2.11->tensorflow==2.11.0->-r requirements.txt (line 4)) (5.2.0)\n",
      "Requirement already satisfied: pyasn1-modules>=0.2.1 in ./.env/lib/python3.10/site-packages (from google-auth<3,>=1.6.3->tensorboard<2.12,>=2.11->tensorflow==2.11.0->-r requirements.txt (line 4)) (0.2.8)\n",
      "Requirement already satisfied: requests-oauthlib>=0.7.0 in ./.env/lib/python3.10/site-packages (from google-auth-oauthlib<0.5,>=0.4.1->tensorboard<2.12,>=2.11->tensorflow==2.11.0->-r requirements.txt (line 4)) (1.3.1)\n",
      "Requirement already satisfied: MarkupSafe>=2.1.1 in ./.env/lib/python3.10/site-packages (from werkzeug>=1.0.1->tensorboard<2.12,>=2.11->tensorflow==2.11.0->-r requirements.txt (line 4)) (2.1.1)\n",
      "Requirement already satisfied: pyasn1<0.5.0,>=0.4.6 in ./.env/lib/python3.10/site-packages (from pyasn1-modules>=0.2.1->google-auth<3,>=1.6.3->tensorboard<2.12,>=2.11->tensorflow==2.11.0->-r requirements.txt (line 4)) (0.4.8)\n",
      "Requirement already satisfied: oauthlib>=3.0.0 in ./.env/lib/python3.10/site-packages (from requests-oauthlib>=0.7.0->google-auth-oauthlib<0.5,>=0.4.1->tensorboard<2.12,>=2.11->tensorflow==2.11.0->-r requirements.txt (line 4)) (3.2.2)\n"
     ]
    }
   ],
   "source": [
    "!pip install -r requirements.txt"
   ]
  },
  {
   "cell_type": "code",
   "execution_count": 2,
   "metadata": {},
   "outputs": [],
   "source": [
    "import configparser\n",
    "import multiprocessing as mp\n",
    "import os\n",
    "import pandas as pd\n",
    "import time\n",
    "\n",
    "from verta import Client"
   ]
  },
  {
   "cell_type": "code",
   "execution_count": 3,
   "metadata": {},
   "outputs": [],
   "source": [
    "def load_urls():\n",
    "    with open('urls.txt', 'r') as f:\n",
    "        return [[line.strip().split('/')[-1], line.strip()] for line in f]"
   ]
  },
  {
   "cell_type": "code",
   "execution_count": 4,
   "metadata": {},
   "outputs": [],
   "source": [
    "def show_metrics(n_urls, n_threads, start_time, end_time):\n",
    "    total_time = end_time - start_time\n",
    "    total_time = time.strftime('%Mm %Ss', time.gmtime(total_time))\n",
    "    \n",
    "    print(f'URLs processed: {n_urls}.')\n",
    "    print(f'Threads: {n_threads}.')\n",
    "    print(f'Total time: {total_time}.')"
   ]
  },
  {
   "cell_type": "code",
   "execution_count": 5,
   "metadata": {},
   "outputs": [],
   "source": [
    "def save_results(results, n_urls):\n",
    "    cols = list(results[0].keys())[:-1]\n",
    "    cols.extend(list(results[0]['bboxes'].keys()))\n",
    "    data = []\n",
    "\n",
    "    for item in results:\n",
    "        values = list(item.values())[0:3]\n",
    "        values.extend(list(item['bboxes'].values()))\n",
    "        data.append(values)\n",
    "\n",
    "    df = pd.DataFrame(data, columns = cols)\n",
    "    df.to_csv(f\"results/{n_urls}.csv\", index = False)"
   ]
  },
  {
   "cell_type": "code",
   "execution_count": 6,
   "metadata": {},
   "outputs": [],
   "source": [
    "def main():\n",
    "    config = configparser.ConfigParser()\n",
    "    config.read('config.ini')\n",
    "\n",
    "    VERTA_HOST = config['APP']['VERTA_HOST']\n",
    "    ENDPOINT_NAME = config['APP']['ENDPOINT_NAME']\n",
    "\n",
    "    os.environ['VERTA_EMAIL'] = config['APP']['VERTA_EMAIL']\n",
    "    os.environ['VERTA_DEV_KEY'] = config['APP']['VERTA_DEV_KEY']\n",
    "\n",
    "    client = Client(VERTA_HOST, debug=True)\n",
    "    endpoint = client.get_or_create_endpoint(ENDPOINT_NAME)\n",
    "    model = endpoint.get_deployed_model()\n",
    "\n",
    "    n_threads = int(mp.cpu_count())\n",
    "    n_urls = 5\n",
    "    urls = load_urls()[:n_urls]\n",
    "\n",
    "    start_time = time.time()\n",
    "    pool = mp.Pool(n_threads)\n",
    "    map_results = pool.map_async(model.predict, urls, chunksize=1)\n",
    "\n",
    "    while not map_results.ready():\n",
    "        print(f\"URLs remaining: {map_results._number_left}\")\n",
    "        time.sleep(1.5)\n",
    "\n",
    "    results = map_results.get()\n",
    "    pool.close()\n",
    "    pool.join()\n",
    "    end_time = time.time()\n",
    "\n",
    "    show_metrics(n_urls, n_threads, start_time, end_time)\n",
    "    save_results(results, n_urls)"
   ]
  },
  {
   "cell_type": "code",
   "execution_count": 7,
   "metadata": {},
   "outputs": [
    {
     "name": "stdout",
     "output_type": "stream",
     "text": [
      "got VERTA_EMAIL from environment\n",
      "got VERTA_DEV_KEY from environment\n",
      "[DEBUG] using credentials: EmailCredentials(caio@verta.ai, 68b041eb-****-****-****-************)\n",
      "connection successfully established\n",
      "got existing Endpoint: object-detection-url\n",
      "URLs remaining: 5\n"
     ]
    },
    {
     "name": "stderr",
     "output_type": "stream",
     "text": [
      "2022-11-30 08:59:41.160867: I tensorflow/core/platform/cpu_feature_guard.cc:193] This TensorFlow binary is optimized with oneAPI Deep Neural Network Library (oneDNN) to use the following CPU instructions in performance-critical operations:  AVX2 FMA\n",
      "To enable them in other operations, rebuild TensorFlow with the appropriate compiler flags.\n",
      "2022-11-30 08:59:41.160941: I tensorflow/core/platform/cpu_feature_guard.cc:193] This TensorFlow binary is optimized with oneAPI Deep Neural Network Library (oneDNN) to use the following CPU instructions in performance-critical operations:  AVX2 FMA\n",
      "To enable them in other operations, rebuild TensorFlow with the appropriate compiler flags.\n",
      "2022-11-30 08:59:41.160944: I tensorflow/core/platform/cpu_feature_guard.cc:193] This TensorFlow binary is optimized with oneAPI Deep Neural Network Library (oneDNN) to use the following CPU instructions in performance-critical operations:  AVX2 FMA\n",
      "To enable them in other operations, rebuild TensorFlow with the appropriate compiler flags.\n",
      "2022-11-30 08:59:41.161026: I tensorflow/core/platform/cpu_feature_guard.cc:193] This TensorFlow binary is optimized with oneAPI Deep Neural Network Library (oneDNN) to use the following CPU instructions in performance-critical operations:  AVX2 FMA\n",
      "To enable them in other operations, rebuild TensorFlow with the appropriate compiler flags.\n",
      "2022-11-30 08:59:41.161279: I tensorflow/core/platform/cpu_feature_guard.cc:193] This TensorFlow binary is optimized with oneAPI Deep Neural Network Library (oneDNN) to use the following CPU instructions in performance-critical operations:  AVX2 FMA\n",
      "To enable them in other operations, rebuild TensorFlow with the appropriate compiler flags.\n",
      "2022-11-30 08:59:42.154034: W tensorflow/compiler/xla/stream_executor/platform/default/dso_loader.cc:64] Could not load dynamic library 'libnvinfer.so.7'; dlerror: libnvinfer.so.7: cannot open shared object file: No such file or directory\n",
      "2022-11-30 08:59:42.154088: W tensorflow/compiler/xla/stream_executor/platform/default/dso_loader.cc:64] Could not load dynamic library 'libnvinfer_plugin.so.7'; dlerror: libnvinfer_plugin.so.7: cannot open shared object file: No such file or directory\n",
      "2022-11-30 08:59:42.154093: W tensorflow/compiler/tf2tensorrt/utils/py_utils.cc:38] TF-TRT Warning: Cannot dlopen some TensorRT libraries. If you would like to use Nvidia GPU with TensorRT, please make sure the missing libraries mentioned above are installed properly.\n",
      "2022-11-30 08:59:42.176951: W tensorflow/compiler/xla/stream_executor/platform/default/dso_loader.cc:64] Could not load dynamic library 'libnvinfer.so.7'; dlerror: libnvinfer.so.7: cannot open shared object file: No such file or directory\n",
      "2022-11-30 08:59:42.177012: W tensorflow/compiler/xla/stream_executor/platform/default/dso_loader.cc:64] Could not load dynamic library 'libnvinfer_plugin.so.7'; dlerror: libnvinfer_plugin.so.7: cannot open shared object file: No such file or directory\n",
      "2022-11-30 08:59:42.177018: W tensorflow/compiler/tf2tensorrt/utils/py_utils.cc:38] TF-TRT Warning: Cannot dlopen some TensorRT libraries. If you would like to use Nvidia GPU with TensorRT, please make sure the missing libraries mentioned above are installed properly.\n",
      "2022-11-30 08:59:42.177079: W tensorflow/compiler/xla/stream_executor/platform/default/dso_loader.cc:64] Could not load dynamic library 'libnvinfer.so.7'; dlerror: libnvinfer.so.7: cannot open shared object file: No such file or directory\n",
      "2022-11-30 08:59:42.177150: W tensorflow/compiler/xla/stream_executor/platform/default/dso_loader.cc:64] Could not load dynamic library 'libnvinfer_plugin.so.7'; dlerror: libnvinfer_plugin.so.7: cannot open shared object file: No such file or directory\n",
      "2022-11-30 08:59:42.177159: W tensorflow/compiler/tf2tensorrt/utils/py_utils.cc:38] TF-TRT Warning: Cannot dlopen some TensorRT libraries. If you would like to use Nvidia GPU with TensorRT, please make sure the missing libraries mentioned above are installed properly.\n",
      "2022-11-30 08:59:42.177421: W tensorflow/compiler/xla/stream_executor/platform/default/dso_loader.cc:64] Could not load dynamic library 'libnvinfer.so.7'; dlerror: libnvinfer.so.7: cannot open shared object file: No such file or directory\n",
      "2022-11-30 08:59:42.177488: W tensorflow/compiler/xla/stream_executor/platform/default/dso_loader.cc:64] Could not load dynamic library 'libnvinfer_plugin.so.7'; dlerror: libnvinfer_plugin.so.7: cannot open shared object file: No such file or directory\n",
      "2022-11-30 08:59:42.177495: W tensorflow/compiler/tf2tensorrt/utils/py_utils.cc:38] TF-TRT Warning: Cannot dlopen some TensorRT libraries. If you would like to use Nvidia GPU with TensorRT, please make sure the missing libraries mentioned above are installed properly.\n",
      "2022-11-30 08:59:42.194962: W tensorflow/compiler/xla/stream_executor/platform/default/dso_loader.cc:64] Could not load dynamic library 'libnvinfer.so.7'; dlerror: libnvinfer.so.7: cannot open shared object file: No such file or directory\n",
      "2022-11-30 08:59:42.195022: W tensorflow/compiler/xla/stream_executor/platform/default/dso_loader.cc:64] Could not load dynamic library 'libnvinfer_plugin.so.7'; dlerror: libnvinfer_plugin.so.7: cannot open shared object file: No such file or directory\n",
      "2022-11-30 08:59:42.195028: W tensorflow/compiler/tf2tensorrt/utils/py_utils.cc:38] TF-TRT Warning: Cannot dlopen some TensorRT libraries. If you would like to use Nvidia GPU with TensorRT, please make sure the missing libraries mentioned above are installed properly.\n"
     ]
    },
    {
     "name": "stdout",
     "output_type": "stream",
     "text": [
      "URLs remaining: 5\n",
      "URLs remaining: 3\n",
      "URLs processed: 5.\n",
      "Threads: 16.\n",
      "Total time: 00m 04s.\n"
     ]
    }
   ],
   "source": [
    "if __name__ == '__main__':\n",
    "    main()"
   ]
  }
 ],
 "metadata": {
  "kernelspec": {
   "display_name": "Python 3.10.6 ('.env': venv)",
   "language": "python",
   "name": "python3"
  },
  "language_info": {
   "codemirror_mode": {
    "name": "ipython",
    "version": 3
   },
   "file_extension": ".py",
   "mimetype": "text/x-python",
   "name": "python",
   "nbconvert_exporter": "python",
   "pygments_lexer": "ipython3",
   "version": "3.10.6"
  },
  "orig_nbformat": 4,
  "vscode": {
   "interpreter": {
    "hash": "a88be0c350f3368d00cb8cbcc8a29525670c96bbb38149ff34103f663f5a90a2"
   }
  }
 },
 "nbformat": 4,
 "nbformat_minor": 2
}
