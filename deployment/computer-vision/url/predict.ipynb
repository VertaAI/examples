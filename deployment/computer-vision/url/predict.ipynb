{
 "cells": [
  {
   "cell_type": "markdown",
   "metadata": {},
   "source": [
    "# Object Identification (TensorFlow Hub) - Images URLs"
   ]
  },
  {
   "cell_type": "markdown",
   "metadata": {},
   "source": [
    "This notebook identifies whether a given object is present in a set of images. If the object is found, it returns a dataframe with the file name, score and bounding boxes.\n",
    "We are using a dataset from [UCF](https://www.crcv.ucf.edu/data/GMCP_Geolocalization/#Dataset) that contains 62,058 high quality Google Street View images, and [TensorFlow Hub](https://www.tensorflow.org/hub), a library and platform for transfer learning."
   ]
  },
  {
   "cell_type": "markdown",
   "metadata": {},
   "source": [
    "## Dependencies"
   ]
  },
  {
   "cell_type": "markdown",
   "metadata": {},
   "source": [
    "This notebook has been tested with Python 3.10.6 and the following package versions:\n",
    "\n",
    "- pandas==1.5.2\n",
    "- verta==0.21.1"
   ]
  },
  {
   "cell_type": "code",
   "execution_count": null,
   "metadata": {},
   "outputs": [],
   "source": [
    "!pip install pandas==1.5.2\n",
    "!pip install verta==0.21.1"
   ]
  },
  {
   "cell_type": "markdown",
   "metadata": {},
   "source": [
    "## Imports"
   ]
  },
  {
   "cell_type": "code",
   "execution_count": null,
   "metadata": {},
   "outputs": [],
   "source": [
    "import multiprocessing as mp\n",
    "import os\n",
    "import pandas as pd\n",
    "import time\n",
    "\n",
    "from verta import Client"
   ]
  },
  {
   "cell_type": "markdown",
   "metadata": {},
   "source": [
    "## Helper Functions"
   ]
  },
  {
   "cell_type": "code",
   "execution_count": null,
   "metadata": {},
   "outputs": [],
   "source": [
    "def load_urls():\n",
    "    urls = [\n",
    "        'http://s3.amazonaws.com/verta-starter/street-view-images/000001_0.jpg',\n",
    "        'http://s3.amazonaws.com/verta-starter/street-view-images/000001_1.jpg',\n",
    "        'http://s3.amazonaws.com/verta-starter/street-view-images/000001_2.jpg',\n",
    "        'http://s3.amazonaws.com/verta-starter/street-view-images/000001_3.jpg',\n",
    "        'http://s3.amazonaws.com/verta-starter/street-view-images/000001_4.jpg',\n",
    "        'http://s3.amazonaws.com/verta-starter/street-view-images/000001_5.jpg',\n",
    "        'http://s3.amazonaws.com/verta-starter/street-view-images/000002_0.jpg',\n",
    "        'http://s3.amazonaws.com/verta-starter/street-view-images/000002_1.jpg',\n",
    "        'http://s3.amazonaws.com/verta-starter/street-view-images/000002_2.jpg',\n",
    "        'http://s3.amazonaws.com/verta-starter/street-view-images/000002_3.jpg'\n",
    "    ]\n",
    "    \n",
    "    return [[url.strip().split('/')[-1], url.strip()] for url in urls]"
   ]
  },
  {
   "cell_type": "code",
   "execution_count": null,
   "metadata": {},
   "outputs": [],
   "source": [
    "def show_metrics(n_urls, n_threads, start_time, end_time):\n",
    "    total_time = end_time - start_time\n",
    "    total_time = time.strftime('%Mm %Ss', time.gmtime(total_time))\n",
    "    \n",
    "    print(f'URLs processed: {n_urls}.')\n",
    "    print(f'Threads: {n_threads}.')\n",
    "    print(f'Total time: {total_time}.')"
   ]
  },
  {
   "cell_type": "code",
   "execution_count": null,
   "metadata": {},
   "outputs": [],
   "source": [
    "def show_results(results):\n",
    "    cols = list(results[0].keys())[:-1]\n",
    "    cols.extend(list(results[0]['bboxes'].keys()))\n",
    "    data = []\n",
    "\n",
    "    for item in results:\n",
    "        values = list(item.values())[0:3]\n",
    "        values.extend(list(item['bboxes'].values()))\n",
    "        data.append(values)\n",
    "\n",
    "    df = pd.DataFrame(data, columns = cols)\n",
    "    print(df)"
   ]
  },
  {
   "cell_type": "markdown",
   "metadata": {},
   "source": [
    "## Main Function\n",
    "After setting up Verta, it processes the images in parallel, presents metrics and saves the result to a CSV file."
   ]
  },
  {
   "cell_type": "code",
   "execution_count": null,
   "metadata": {},
   "outputs": [],
   "source": [
    "def main():\n",
    "    VERTA_HOST = 'app.verta.ai'\n",
    "    ENDPOINT_NAME = 'object-detection-url'\n",
    "\n",
    "    os.environ['VERTA_EMAIL'] = ''\n",
    "    os.environ['VERTA_DEV_KEY'] = ''\n",
    "\n",
    "    client = Client(VERTA_HOST, debug=True)\n",
    "    endpoint = client.get_or_create_endpoint(ENDPOINT_NAME)\n",
    "    model = endpoint.get_deployed_model()\n",
    "\n",
    "    n_threads = int(mp.cpu_count())\n",
    "    n_urls = 5\n",
    "    urls = load_urls()[:n_urls]\n",
    "\n",
    "    start_time = time.time()\n",
    "    pool = mp.Pool(n_threads)\n",
    "    map_results = pool.map_async(model.predict, urls, chunksize=1)\n",
    "\n",
    "    while not map_results.ready():\n",
    "        print(f\"URLs remaining: {map_results._number_left}\")\n",
    "        time.sleep(1.5)\n",
    "\n",
    "    results = map_results.get()\n",
    "    pool.close()\n",
    "    pool.join()\n",
    "    end_time = time.time()\n",
    "\n",
    "    show_metrics(n_urls, n_threads, start_time, end_time)\n",
    "    show_results(results)"
   ]
  },
  {
   "cell_type": "markdown",
   "metadata": {},
   "source": [
    "## Execution"
   ]
  },
  {
   "cell_type": "code",
   "execution_count": null,
   "metadata": {},
   "outputs": [],
   "source": [
    "if __name__ == '__main__':\n",
    "    main()"
   ]
  }
 ],
 "metadata": {
  "kernelspec": {
   "display_name": "Python 3.10.6 ('.env': venv)",
   "language": "python",
   "name": "python3"
  },
  "language_info": {
   "codemirror_mode": {
    "name": "ipython",
    "version": 3
   },
   "file_extension": ".py",
   "mimetype": "text/x-python",
   "name": "python",
   "nbconvert_exporter": "python",
   "pygments_lexer": "ipython3",
   "version": "3.10.6"
  },
  "orig_nbformat": 4,
  "vscode": {
   "interpreter": {
    "hash": "a88be0c350f3368d00cb8cbcc8a29525670c96bbb38149ff34103f663f5a90a2"
   }
  }
 },
 "nbformat": 4,
 "nbformat_minor": 2
}
