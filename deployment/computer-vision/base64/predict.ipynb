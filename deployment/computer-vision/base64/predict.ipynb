{
 "cells": [
  {
   "cell_type": "code",
   "execution_count": null,
   "metadata": {},
   "outputs": [],
   "source": [
    "!pip install -r requirements.txt"
   ]
  },
  {
   "cell_type": "code",
   "execution_count": null,
   "metadata": {},
   "outputs": [],
   "source": [
    "import base64\n",
    "import configparser\n",
    "import multiprocessing as mp\n",
    "import numpy as np\n",
    "import os\n",
    "import pandas as pd\n",
    "import time\n",
    "import json\n",
    "\n",
    "from verta import Client"
   ]
  },
  {
   "cell_type": "code",
   "execution_count": null,
   "metadata": {},
   "outputs": [],
   "source": [
    "def load_imgs(n_imgs):\n",
    "    path = 'images/'\n",
    "    files = [file for file in sorted(os.listdir(path))][:n_imgs]\n",
    "    data = []\n",
    "\n",
    "    for file in files:\n",
    "        with open(f\"{path}{file}\", 'rb') as img:\n",
    "            img_bytes = base64.b64encode(img.read())\n",
    "            img_str = img_bytes.decode('utf-8')\n",
    "            img_str = json.dumps(img_str)\n",
    "            img_str = np.array(img_str).tolist()\n",
    "        \n",
    "        data.append([file, img_str])\n",
    "\n",
    "    return data"
   ]
  },
  {
   "cell_type": "code",
   "execution_count": null,
   "metadata": {},
   "outputs": [],
   "source": [
    "def show_metrics(n_imgs, n_threads, start_time, end_time):\n",
    "    total_time = end_time - start_time\n",
    "    total_time = time.strftime('%Mm %Ss', time.gmtime(total_time))\n",
    "    \n",
    "    print(f'Images processed: {n_imgs}.')\n",
    "    print(f'Threads: {n_threads}.')\n",
    "    print(f'Total time: {total_time}.')"
   ]
  },
  {
   "cell_type": "code",
   "execution_count": null,
   "metadata": {},
   "outputs": [],
   "source": [
    "def save_results(results, n_imgs):\n",
    "    cols = list(results[0].keys())[:-1]\n",
    "    cols.extend(list(results[0]['bboxes'].keys()))\n",
    "    data = []\n",
    "\n",
    "    for item in results:\n",
    "        values = list(item.values())[0:3]\n",
    "        values.extend(list(item['bboxes'].values()))\n",
    "        data.append(values)\n",
    "\n",
    "    df = pd.DataFrame(data, columns=cols)\n",
    "    df.to_csv(f\"results/{n_imgs}.csv\", index=False)"
   ]
  },
  {
   "cell_type": "code",
   "execution_count": null,
   "metadata": {},
   "outputs": [],
   "source": [
    "def main():\n",
    "    config = configparser.ConfigParser()\n",
    "    config.read('config.ini')\n",
    "\n",
    "    VERTA_HOST = config['APP']['VERTA_HOST']\n",
    "    ENDPOINT_NAME = config['APP']['ENDPOINT_NAME']\n",
    "\n",
    "    os.environ['VERTA_EMAIL'] = config['APP']['VERTA_EMAIL']\n",
    "    os.environ['VERTA_DEV_KEY'] = config['APP']['VERTA_DEV_KEY']\n",
    "\n",
    "    client = Client(VERTA_HOST, debug=True)\n",
    "    endpoint = client.get_or_create_endpoint(ENDPOINT_NAME)\n",
    "    model = endpoint.get_deployed_model()\n",
    "\n",
    "    n_threads = int(mp.cpu_count())\n",
    "    n_imgs = 5  \n",
    "    imgs = load_imgs(n_imgs)\n",
    "        \n",
    "    start_time = time.time()\n",
    "    pool = mp.Pool(n_threads)\n",
    "    map_results = pool.map_async(model.predict, imgs, chunksize=1)\n",
    "\n",
    "    while not map_results.ready():\n",
    "        print(f\"Images remaining: {map_results._number_left}\")\n",
    "        time.sleep(5)\n",
    "\n",
    "    results = map_results.get()\n",
    "    pool.close()\n",
    "    pool.join()\n",
    "    end_time = time.time()\n",
    "\n",
    "    show_metrics(n_imgs, n_threads, start_time, end_time)\n",
    "    save_results(results, n_imgs)"
   ]
  },
  {
   "cell_type": "code",
   "execution_count": null,
   "metadata": {},
   "outputs": [],
   "source": [
    "if __name__ == '__main__':\n",
    "    main()"
   ]
  }
 ],
 "metadata": {
  "kernelspec": {
   "display_name": "Python 3.10.6 ('.env': venv)",
   "language": "python",
   "name": "python3"
  },
  "language_info": {
   "codemirror_mode": {
    "name": "ipython",
    "version": 3
   },
   "file_extension": ".py",
   "mimetype": "text/x-python",
   "name": "python",
   "nbconvert_exporter": "python",
   "pygments_lexer": "ipython3",
   "version": "3.10.6"
  },
  "orig_nbformat": 4,
  "vscode": {
   "interpreter": {
    "hash": "2bb62b3221a3e8eb4d56ef3abf33b59c1166039d4d316f70559cb86bddd6b450"
   }
  }
 },
 "nbformat": 4,
 "nbformat_minor": 2
}
