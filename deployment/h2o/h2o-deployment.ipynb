{
 "cells": [
  {
   "cell_type": "markdown",
   "id": "8bb80f20",
   "metadata": {},
   "source": [
    "# Deploying an H2O model on Verta\n",
    "\n",
    "Within Verta, a \"Model\" can be any arbitrary function: a traditional ML model (e.g., sklearn, PyTorch, TF, etc); a function (e.g., squaring a number, making a DB function etc.); or a mixture of the above (e.g., pre-processing code, a DB call, and then a model application.) See more [here](https://docs.verta.ai/verta/registry/concepts).\n",
    "\n",
    "This notebook provides an example of how to deploy an H2O model on Verta as a Verta Standard Model by extending [VertaModelBase](https://verta.readthedocs.io/en/master/_autogen/verta.registry.VertaModelBase.html?highlight=VertaModelBase#verta.registry.VertaModelBase)."
   ]
  },
  {
   "cell_type": "markdown",
   "id": "fcc9dbb4",
   "metadata": {},
   "source": [
    "## 0. Imports"
   ]
  },
  {
   "cell_type": "code",
   "execution_count": 1,
   "id": "03a5f04f",
   "metadata": {},
   "outputs": [
    {
     "name": "stdout",
     "output_type": "stream",
     "text": [
      "Requirement already satisfied: verta in /Users/hmacdonald/workspace/modeldb/client/verta (0.20.3)\n",
      "Requirement already satisfied: click<9.0,>=7.0 in /Library/Frameworks/Python.framework/Versions/3.7/lib/python3.7/site-packages (from verta) (7.0)\n",
      "Requirement already satisfied: cloudpickle~=1.0 in /Library/Frameworks/Python.framework/Versions/3.7/lib/python3.7/site-packages (from verta) (1.6.0)\n",
      "Requirement already satisfied: googleapis-common-protos<2.0,>=1.5 in /Library/Frameworks/Python.framework/Versions/3.7/lib/python3.7/site-packages (from verta) (1.54.0)\n",
      "Requirement already satisfied: pathlib2<3.0,>=2.2 in /Library/Frameworks/Python.framework/Versions/3.7/lib/python3.7/site-packages (from verta) (2.3.7.post1)\n",
      "Requirement already satisfied: protobuf<4.0,>=3.8 in /Library/Frameworks/Python.framework/Versions/3.7/lib/python3.7/site-packages (from verta) (3.17.3)\n",
      "Requirement already satisfied: pytimeparse<2.0,>=1.1.8 in /Library/Frameworks/Python.framework/Versions/3.7/lib/python3.7/site-packages (from verta) (1.1.8)\n",
      "Requirement already satisfied: pyyaml<6.0,>=5.1 in /Library/Frameworks/Python.framework/Versions/3.7/lib/python3.7/site-packages (from verta) (5.3.1)\n",
      "Requirement already satisfied: requests<3.0,>=2.21 in /Library/Frameworks/Python.framework/Versions/3.7/lib/python3.7/site-packages (from verta) (2.25.0)\n",
      "Requirement already satisfied: six in /Library/Frameworks/Python.framework/Versions/3.7/lib/python3.7/site-packages (from pathlib2<3.0,>=2.2->verta) (1.16.0)\n",
      "Requirement already satisfied: chardet<4,>=3.0.2 in /Library/Frameworks/Python.framework/Versions/3.7/lib/python3.7/site-packages (from requests<3.0,>=2.21->verta) (3.0.4)\n",
      "Requirement already satisfied: idna<3,>=2.5 in /Library/Frameworks/Python.framework/Versions/3.7/lib/python3.7/site-packages (from requests<3.0,>=2.21->verta) (2.10)\n",
      "Requirement already satisfied: urllib3<1.27,>=1.21.1 in /Library/Frameworks/Python.framework/Versions/3.7/lib/python3.7/site-packages (from requests<3.0,>=2.21->verta) (1.26.9)\n",
      "Requirement already satisfied: certifi>=2017.4.17 in /Library/Frameworks/Python.framework/Versions/3.7/lib/python3.7/site-packages (from requests<3.0,>=2.21->verta) (2021.10.8)\n"
     ]
    }
   ],
   "source": [
    "# restart your notebook if prompted on Colab\n",
    "!python -m pip install verta"
   ]
  },
  {
   "cell_type": "code",
   "execution_count": 2,
   "id": "53f19c15",
   "metadata": {},
   "outputs": [
    {
     "name": "stdout",
     "output_type": "stream",
     "text": [
      "Checking whether there is an H2O instance running at http://localhost:54321 ..... not found.\n",
      "Attempting to start a local H2O server...\n",
      "  Java Version: openjdk version \"1.8.0_282\"; OpenJDK Runtime Environment (AdoptOpenJDK)(build 1.8.0_282-b08); OpenJDK 64-Bit Server VM (AdoptOpenJDK)(build 25.282-b08, mixed mode)\n",
      "  Starting server from /Library/Frameworks/Python.framework/Versions/3.7/lib/python3.7/site-packages/h2o/backend/bin/h2o.jar\n",
      "  Ice root: /var/folders/f7/r9486pbd77j4bppmmcpnxw6c0000gp/T/tmpbdpfwiza\n",
      "  JVM stdout: /var/folders/f7/r9486pbd77j4bppmmcpnxw6c0000gp/T/tmpbdpfwiza/h2o_hmacdonald_started_from_python.out\n",
      "  JVM stderr: /var/folders/f7/r9486pbd77j4bppmmcpnxw6c0000gp/T/tmpbdpfwiza/h2o_hmacdonald_started_from_python.err\n",
      "  Server is running at http://127.0.0.1:54321\n",
      "Connecting to H2O server at http://127.0.0.1:54321 ... successful.\n"
     ]
    },
    {
     "data": {
      "text/html": [
       "<div style=\"overflow:auto\"><table style=\"width:50%\"><tr><td>H2O_cluster_uptime:</td>\n",
       "<td>02 secs</td></tr>\n",
       "<tr><td>H2O_cluster_timezone:</td>\n",
       "<td>America/Los_Angeles</td></tr>\n",
       "<tr><td>H2O_data_parsing_timezone:</td>\n",
       "<td>UTC</td></tr>\n",
       "<tr><td>H2O_cluster_version:</td>\n",
       "<td>3.36.1.4</td></tr>\n",
       "<tr><td>H2O_cluster_version_age:</td>\n",
       "<td>1 month and 2 days </td></tr>\n",
       "<tr><td>H2O_cluster_name:</td>\n",
       "<td>H2O_from_python_hmacdonald_l74g03</td></tr>\n",
       "<tr><td>H2O_cluster_total_nodes:</td>\n",
       "<td>1</td></tr>\n",
       "<tr><td>H2O_cluster_free_memory:</td>\n",
       "<td>1.778 Gb</td></tr>\n",
       "<tr><td>H2O_cluster_total_cores:</td>\n",
       "<td>8</td></tr>\n",
       "<tr><td>H2O_cluster_allowed_cores:</td>\n",
       "<td>8</td></tr>\n",
       "<tr><td>H2O_cluster_status:</td>\n",
       "<td>locked, healthy</td></tr>\n",
       "<tr><td>H2O_connection_url:</td>\n",
       "<td>http://127.0.0.1:54321</td></tr>\n",
       "<tr><td>H2O_connection_proxy:</td>\n",
       "<td>{\"http\": null, \"https\": null}</td></tr>\n",
       "<tr><td>H2O_internal_security:</td>\n",
       "<td>False</td></tr>\n",
       "<tr><td>Python_version:</td>\n",
       "<td>3.7.9 final</td></tr></table></div>"
      ],
      "text/plain": [
       "--------------------------  ---------------------------------\n",
       "H2O_cluster_uptime:         02 secs\n",
       "H2O_cluster_timezone:       America/Los_Angeles\n",
       "H2O_data_parsing_timezone:  UTC\n",
       "H2O_cluster_version:        3.36.1.4\n",
       "H2O_cluster_version_age:    1 month and 2 days\n",
       "H2O_cluster_name:           H2O_from_python_hmacdonald_l74g03\n",
       "H2O_cluster_total_nodes:    1\n",
       "H2O_cluster_free_memory:    1.778 Gb\n",
       "H2O_cluster_total_cores:    8\n",
       "H2O_cluster_allowed_cores:  8\n",
       "H2O_cluster_status:         locked, healthy\n",
       "H2O_connection_url:         http://127.0.0.1:54321\n",
       "H2O_connection_proxy:       {\"http\": null, \"https\": null}\n",
       "H2O_internal_security:      False\n",
       "Python_version:             3.7.9 final\n",
       "--------------------------  ---------------------------------"
      ]
     },
     "metadata": {},
     "output_type": "display_data"
    }
   ],
   "source": [
    "import h2o\n",
    "from h2o.estimators import H2OGradientBoostingEstimator\n",
    "\n",
    "h2o.init()"
   ]
  },
  {
   "cell_type": "markdown",
   "id": "a60b1e33",
   "metadata": {},
   "source": [
    "### 0.1 Verta import and setup"
   ]
  },
  {
   "cell_type": "code",
   "execution_count": 3,
   "id": "ac11288f",
   "metadata": {},
   "outputs": [
    {
     "name": "stdout",
     "output_type": "stream",
     "text": [
      "got VERTA_EMAIL from environment\n",
      "got VERTA_DEV_KEY from environment\n",
      "connection successfully established\n"
     ]
    }
   ],
   "source": [
    "import os\n",
    "\n",
    "# Ensure credentials are set up, if not, use below\n",
    "# os.environ['VERTA_EMAIL'] = \"\"\n",
    "# os.environ['VERTA_DEV_KEY'] = \"\"\n",
    "# os.environ['VERTA_HOST'] = \"\"\n",
    "\n",
    "from verta import Client\n",
    "client = Client(os.environ['VERTA_HOST'])"
   ]
  },
  {
   "cell_type": "markdown",
   "id": "3bc5176f",
   "metadata": {},
   "source": [
    "## 1. Model Training"
   ]
  },
  {
   "cell_type": "markdown",
   "id": "52d66300",
   "metadata": {},
   "source": [
    "### 1.1 Load training data"
   ]
  },
  {
   "cell_type": "code",
   "execution_count": 4,
   "id": "7e50c26e",
   "metadata": {},
   "outputs": [
    {
     "name": "stdout",
     "output_type": "stream",
     "text": [
      "Parse progress: |████████████████████████████████████████████████████████████████| (done) 100%\n"
     ]
    }
   ],
   "source": [
    "h2o_df = h2o.load_dataset(\"prostate.csv\")\n",
    "h2o_df[\"CAPSULE\"] = h2o_df[\"CAPSULE\"].asfactor()\n",
    "h2o_df[\"GLEASON\"] = h2o_df[\"GLEASON\"].asfactor()"
   ]
  },
  {
   "cell_type": "code",
   "execution_count": 5,
   "id": "da09e51f",
   "metadata": {},
   "outputs": [
    {
     "name": "stdout",
     "output_type": "stream",
     "text": [
      "gbm Model Build progress: |██████████████████████████████████████████████████████| (done) 100%\n"
     ]
    },
    {
     "data": {
      "text/plain": [
       "'h2o_model_file1662509276.563005/GBM_model_python_1662509255783_1'"
      ]
     },
     "execution_count": 5,
     "metadata": {},
     "output_type": "execute_result"
    }
   ],
   "source": [
    "import time\n",
    "h2o_model = H2OGradientBoostingEstimator(distribution=\"gaussian\",\n",
    "                                         ntrees=2,\n",
    "                                         max_depth=2,\n",
    "                                         learn_rate=1)\n",
    "h2o_model.train(y=\"AGE\",\n",
    "                x=[\"CAPSULE\", \"RACE\", \"PSA\", \"GLEASON\"],\n",
    "                training_frame=h2o_df)\n",
    "MODEL_PATH = \"h2o_model_file\" + str(time.time())\n",
    "h2o.save_model(model=h2o_model, path=MODEL_PATH, force=True)\n",
    "saved_model_path = os.path.join(MODEL_PATH, os.listdir(MODEL_PATH)[0])\n",
    "saved_model_path"
   ]
  },
  {
   "cell_type": "code",
   "execution_count": null,
   "id": "b4db8fe6",
   "metadata": {},
   "outputs": [],
   "source": [
    "h2o_df.head()"
   ]
  },
  {
   "cell_type": "markdown",
   "id": "d43c278b",
   "metadata": {},
   "source": [
    "## 2. Register Model for deployment"
   ]
  },
  {
   "cell_type": "code",
   "execution_count": 6,
   "id": "7a10a6b7",
   "metadata": {},
   "outputs": [],
   "source": [
    "import h2o\n",
    "import os\n",
    "import subprocess\n",
    "from verta.registry import VertaModelBase, verify_io\n",
    "\n",
    "class H2OModelWrapper(VertaModelBase):\n",
    "    def __init__(self, artifacts):\n",
    "        import h2o\n",
    "        import jdk\n",
    "        h2o.init()\n",
    "        self.model = h2o.load_model(artifacts[\"serialized_model\"])\n",
    "    \n",
    "    @verify_io\n",
    "    def predict(self, model_input):\n",
    "        frame = h2o.H2OFrame(model_input)\n",
    "        model_out1 = self.model.predict(frame)\n",
    "        model_out2 = h2o.as_list(model_out1)[\"predict\"].to_list()[0]\n",
    "        return model_out2"
   ]
  },
  {
   "cell_type": "code",
   "execution_count": 7,
   "id": "c18be7df",
   "metadata": {
    "scrolled": true
   },
   "outputs": [
    {
     "name": "stdout",
     "output_type": "stream",
     "text": [
      "created new RegisteredModel: h2o-model-2 in workspace: hmacdonald_verta_ai\n",
      "created new ModelVersion: 1\n",
      "uploading serialized_model to Registry\n",
      "uploading part 1\n",
      "upload complete\n",
      "uploading model to Registry\n",
      "uploading part 1\n",
      "upload complete\n",
      "uploading model_api.json to Registry\n",
      "uploading part 1\n",
      "upload complete\n",
      "uploading custom_modules to Registry\n",
      "uploading part 1\n",
      "upload complete\n"
     ]
    }
   ],
   "source": [
    "from verta.environment import Python\n",
    "\n",
    "registered_model = client.get_or_create_registered_model(name=\"h2o-model-2\")\n",
    "model_version = registered_model.create_standard_model(\n",
    "    model_cls=H2OModelWrapper,\n",
    "    environment=Python(requirements=['h2o', 'install-jdk==0.3.0']),\n",
    "    artifacts={\"serialized_model\":saved_model_path},\n",
    "    name=\"1\"\n",
    ")"
   ]
  },
  {
   "cell_type": "markdown",
   "id": "d6b9d6d0",
   "metadata": {},
   "source": [
    "## 3. Deploy model to endpoint"
   ]
  },
  {
   "cell_type": "code",
   "execution_count": 8,
   "id": "409288dc",
   "metadata": {},
   "outputs": [
    {
     "name": "stdout",
     "output_type": "stream",
     "text": [
      "waiting for update...............................\n"
     ]
    },
    {
     "data": {
      "text/plain": [
       "{'components': [{'build_id': 4050, 'ratio': 1, 'status': 'running'}],\n",
       " 'creator_request': {'enable_prediction_authz': False, 'name': 'production'},\n",
       " 'date_created': '2022-09-07T00:09:18.000Z',\n",
       " 'date_updated': '2022-09-07T00:10:41.000Z',\n",
       " 'status': 'active',\n",
       " 'stage_id': 4013}"
      ]
     },
     "execution_count": 8,
     "metadata": {},
     "output_type": "execute_result"
    }
   ],
   "source": [
    "# Deploy\n",
    "h2o_endpoint = client.get_or_create_endpoint(path=\"/h2o-2\")\n",
    "h2o_endpoint.update(model_version, wait=True)"
   ]
  },
  {
   "cell_type": "code",
   "execution_count": 10,
   "id": "188e16b1",
   "metadata": {},
   "outputs": [],
   "source": [
    "deployed_model = h2o_endpoint.get_deployed_model()"
   ]
  },
  {
   "cell_type": "code",
   "execution_count": 11,
   "id": "6d1aff0f",
   "metadata": {},
   "outputs": [],
   "source": [
    "data = {\"CAPSULE\":\"0\", \"RACE\":\"2\", \"PSA\":51.9, \"GLEASON\":\"6\"}"
   ]
  },
  {
   "cell_type": "code",
   "execution_count": 12,
   "id": "b6e5086e",
   "metadata": {
    "scrolled": true
   },
   "outputs": [
    {
     "data": {
      "text/plain": [
       "70.88191142835115"
      ]
     },
     "execution_count": 12,
     "metadata": {},
     "output_type": "execute_result"
    }
   ],
   "source": [
    "deployed_model.predict(data)"
   ]
  },
  {
   "cell_type": "code",
   "execution_count": null,
   "id": "f74f066a",
   "metadata": {},
   "outputs": [],
   "source": [
    "h2o_endpoint.delete()"
   ]
  },
  {
   "cell_type": "markdown",
   "id": "c3b201e8",
   "metadata": {},
   "source": [
    "---"
   ]
  }
 ],
 "metadata": {
  "kernelspec": {
   "display_name": "Python 3 (ipykernel)",
   "language": "python",
   "name": "python3"
  },
  "language_info": {
   "codemirror_mode": {
    "name": "ipython",
    "version": 3
   },
   "file_extension": ".py",
   "mimetype": "text/x-python",
   "name": "python",
   "nbconvert_exporter": "python",
   "pygments_lexer": "ipython3",
   "version": "3.7.9"
  },
  "vscode": {
   "interpreter": {
    "hash": "8caf7ff75eee6ef9b5c6741df0ef051dd5c0007c0d117ed024b5aee56d7621ac"
   }
  }
 },
 "nbformat": 4,
 "nbformat_minor": 5
}
