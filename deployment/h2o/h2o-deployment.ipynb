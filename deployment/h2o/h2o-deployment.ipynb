{
 "cells": [
  {
   "cell_type": "markdown",
   "id": "8bb80f20",
   "metadata": {},
   "source": [
    "# Deploying an H2O model on Verta\n",
    "\n",
    "Within Verta, a \"Model\" can be any arbitrary function: a traditional ML model (e.g., sklearn, PyTorch, TF, etc); a function (e.g., squaring a number, making a DB function etc.); or a mixture of the above (e.g., pre-processing code, a DB call, and then a model application.) See more [here](https://docs.verta.ai/verta/registry/concepts).\n",
    "\n",
    "This notebook provides an example of how to deploy an H2O model on Verta as a Verta Standard Model by extending [VertaModelBase](https://verta.readthedocs.io/en/master/_autogen/verta.registry.VertaModelBase.html?highlight=VertaModelBase#verta.registry.VertaModelBase)."
   ]
  },
  {
   "cell_type": "markdown",
   "id": "fcc9dbb4",
   "metadata": {},
   "source": [
    "## 0. Imports"
   ]
  },
  {
   "cell_type": "code",
   "execution_count": null,
   "id": "03a5f04f",
   "metadata": {},
   "outputs": [],
   "source": [
    "# restart your notebook if prompted on Colab\n",
    "!python -m pip install verta"
   ]
  },
  {
   "cell_type": "code",
   "execution_count": null,
   "id": "53f19c15",
   "metadata": {},
   "outputs": [],
   "source": [
    "import h2o\n",
    "from h2o.estimators import H2OGradientBoostingEstimator\n",
    "\n",
    "h2o.init()"
   ]
  },
  {
   "cell_type": "markdown",
   "id": "a60b1e33",
   "metadata": {},
   "source": [
    "### 0.1 Verta import and setup"
   ]
  },
  {
   "cell_type": "code",
   "execution_count": null,
   "id": "ac11288f",
   "metadata": {},
   "outputs": [],
   "source": [
    "import os\n",
    "\n",
    "# Ensure credentials are set up, if not, use below\n",
    "# os.environ['VERTA_EMAIL'] = \"\"\n",
    "# os.environ['VERTA_DEV_KEY'] = \"\"\n",
    "# os.environ['VERTA_HOST'] = \"\"\n",
    "\n",
    "from verta import Client\n",
    "client = Client(os.environ['VERTA_HOST'])"
   ]
  },
  {
   "cell_type": "markdown",
   "id": "3bc5176f",
   "metadata": {},
   "source": [
    "## 1. Model Training"
   ]
  },
  {
   "cell_type": "markdown",
   "id": "52d66300",
   "metadata": {},
   "source": [
    "### 1.1 Load training data"
   ]
  },
  {
   "cell_type": "code",
   "execution_count": null,
   "id": "7e50c26e",
   "metadata": {},
   "outputs": [],
   "source": [
    "h2o_df = h2o.load_dataset(\"prostate.csv\")\n",
    "h2o_df[\"CAPSULE\"] = h2o_df[\"CAPSULE\"].asfactor()\n",
    "h2o_df[\"GLEASON\"] = h2o_df[\"GLEASON\"].asfactor()"
   ]
  },
  {
   "cell_type": "code",
   "execution_count": null,
   "id": "da09e51f",
   "metadata": {},
   "outputs": [],
   "source": [
    "import time\n",
    "\n",
    "h2o_model = H2OGradientBoostingEstimator(\n",
    "    distribution=\"gaussian\",\n",
    "    ntrees=2,\n",
    "    max_depth=2,\n",
    "    learn_rate=1,\n",
    ")\n",
    "predictors = [\"CAPSULE\", \"RACE\", \"PSA\", \"GLEASON\"]\n",
    "response = \"AGE\"\n",
    "train, test = h2o_df.split_frame(ratios=[.75], seed=1234)\n",
    "h2o_model.train(\n",
    "    x=predictors,\n",
    "    y=response,\n",
    "    training_frame=train,\n",
    ")\n",
    "\n",
    "MODEL_PATH = \"h2o_model_file\" + str(time.time())\n",
    "h2o.save_model(model=h2o_model, path=MODEL_PATH, force=True)\n",
    "saved_model_path = os.path.join(MODEL_PATH, os.listdir(MODEL_PATH)[0])"
   ]
  },
  {
   "cell_type": "markdown",
   "id": "d43c278b",
   "metadata": {},
   "source": [
    "## 2. Register Model for deployment"
   ]
  },
  {
   "cell_type": "code",
   "execution_count": null,
   "id": "7a10a6b7",
   "metadata": {},
   "outputs": [],
   "source": [
    "import os\n",
    "import subprocess\n",
    "\n",
    "import h2o\n",
    "import pandas as pd\n",
    "\n",
    "from verta.registry import VertaModelBase, verify_io\n",
    "\n",
    "class H2OModelWrapper(VertaModelBase):\n",
    "    def __init__(self, artifacts):\n",
    "        import h2o\n",
    "        import jdk\n",
    "        # Based on our testing, making predictions requires about this much memory to avoid \"Out Of Memory\" crashes\n",
    "        h2o.init()\n",
    "        self.model = h2o.load_model(artifacts[\"serialized_model\"])\n",
    "    \n",
    "    @verify_io\n",
    "    def predict(self, model_input):\n",
    "        frame = h2o.H2OFrame(pd.DataFrame(model_input))\n",
    "        model_out1 = self.model.predict(frame)\n",
    "        model_out2 = model_out1.as_data_frame().to_dict(\"records\")\n",
    "        return model_out2"
   ]
  },
  {
   "cell_type": "code",
   "execution_count": null,
   "id": "c18be7df",
   "metadata": {
    "scrolled": true
   },
   "outputs": [],
   "source": [
    "from verta.environment import Python\n",
    "\n",
    "model_version = client.get_or_create_registered_model(name=\"h2o_model\").create_standard_model(\n",
    "    model_cls=H2OModelWrapper,\n",
    "    environment=Python(requirements=['h2o', 'install-jdk==0.3.0']),\n",
    "    artifacts={\"serialized_model\":saved_model_path}\n",
    ")"
   ]
  },
  {
   "cell_type": "markdown",
   "id": "d6b9d6d0",
   "metadata": {},
   "source": [
    "## 3. Deploy model to endpoint"
   ]
  },
  {
   "cell_type": "code",
   "execution_count": null,
   "id": "409288dc",
   "metadata": {},
   "outputs": [],
   "source": [
    "from verta.endpoint.resources import Resources\n",
    "\n",
    "h2o_endpoint = client.get_or_create_endpoint(path=\"/h2o\")\n",
    "# Ensure the endpoint has enough memory to handle h2o's 250M requirement\n",
    "resources = Resources(cpu=.25, memory=\"512Mi\")\n",
    "h2o_endpoint.update(model_version, resources=resources, wait=True)"
   ]
  },
  {
   "cell_type": "code",
   "execution_count": null,
   "id": "188e16b1",
   "metadata": {},
   "outputs": [],
   "source": [
    "deployed_model = h2o_endpoint.get_deployed_model()"
   ]
  },
  {
   "cell_type": "markdown",
   "id": "9b4cab61",
   "metadata": {},
   "source": [
    "## 4. Predict"
   ]
  },
  {
   "cell_type": "markdown",
   "id": "8b66c93f",
   "metadata": {},
   "source": [
    "### 4.1 Quick-Predict with Json"
   ]
  },
  {
   "cell_type": "code",
   "execution_count": null,
   "id": "6d1aff0f",
   "metadata": {},
   "outputs": [],
   "source": [
    "data = {\"CAPSULE\":[\"0\"], \"RACE\":[\"2\"], \"PSA\":[51.9], \"GLEASON\":[\"6\"]}\n",
    "deployed_model.predict(data)"
   ]
  },
  {
   "cell_type": "markdown",
   "id": "13b87f3f",
   "metadata": {},
   "source": [
    "### 4.2 (OR) Predict with Test Data"
   ]
  },
  {
   "cell_type": "code",
   "execution_count": null,
   "id": "1fcdbf9a",
   "metadata": {},
   "outputs": [],
   "source": [
    "for i in range(test.nrow):\n",
    "    row = test[i, :].as_data_frame().to_dict(\"records\")\n",
    "    prediction = deployed_model.predict(row)\n",
    "    print(prediction)"
   ]
  },
  {
   "cell_type": "markdown",
   "id": "42b21812",
   "metadata": {},
   "source": [
    "## 5. Cleanup"
   ]
  },
  {
   "cell_type": "code",
   "execution_count": null,
   "id": "f74f066a",
   "metadata": {},
   "outputs": [],
   "source": [
    "h2o.cluster().shutdown()\n",
    "h2o_endpoint.delete()"
   ]
  },
  {
   "cell_type": "markdown",
   "id": "c3b201e8",
   "metadata": {},
   "source": [
    "---"
   ]
  }
 ],
 "metadata": {
  "kernelspec": {
   "display_name": "Python 3 (ipykernel)",
   "language": "python",
   "name": "python3"
  },
  "language_info": {
   "codemirror_mode": {
    "name": "ipython",
    "version": 3
   },
   "file_extension": ".py",
   "mimetype": "text/x-python",
   "name": "python",
   "nbconvert_exporter": "python",
   "pygments_lexer": "ipython3",
   "version": "3.9.2"
  },
  "vscode": {
   "interpreter": {
    "hash": "8caf7ff75eee6ef9b5c6741df0ef051dd5c0007c0d117ed024b5aee56d7621ac"
   }
  }
 },
 "nbformat": 4,
 "nbformat_minor": 5
}
