{
 "cells": [
  {
   "cell_type": "markdown",
   "id": "8bb80f20",
   "metadata": {},
   "source": [
    "# Deploying an H2O model on Verta\n",
    "\n",
    "Within Verta, a \"Model\" can be any arbitrary function: a traditional ML model (e.g., sklearn, PyTorch, TF, etc); a function (e.g., squaring a number, making a DB function etc.); or a mixture of the above (e.g., pre-processing code, a DB call, and then a model application.) See more [here](https://docs.verta.ai/verta/registry/concepts).\n",
    "\n",
    "This notebook provides an example of how to deploy an H2O model on Verta as a Verta Standard Model by extending [VertaModelBase](https://verta.readthedocs.io/en/master/_autogen/verta.registry.VertaModelBase.html?highlight=VertaModelBase#verta.registry.VertaModelBase)."
   ]
  },
  {
   "cell_type": "markdown",
   "id": "fcc9dbb4",
   "metadata": {},
   "source": [
    "## 0. Imports"
   ]
  },
  {
   "cell_type": "code",
   "execution_count": 4,
   "id": "03a5f04f",
   "metadata": {},
   "outputs": [
    {
     "name": "stdout",
     "output_type": "stream",
     "text": [
      "Collecting verta\n",
      "  Using cached verta-0.20.4-py2.py3-none-any.whl (954 kB)\n",
      "Collecting pyyaml<6.0,>=5.1\n",
      "  Downloading PyYAML-5.4.1.tar.gz (175 kB)\n",
      "\u001b[K     |████████████████████████████████| 175 kB 6.8 MB/s eta 0:00:01\n",
      "\u001b[?25h  Installing build dependencies ... \u001b[?25ldone\n",
      "\u001b[?25h  Getting requirements to build wheel ... \u001b[?25ldone\n",
      "\u001b[?25h    Preparing wheel metadata ... \u001b[?25ldone\n",
      "\u001b[?25hCollecting click<9.0,>=7.0\n",
      "  Using cached click-8.1.3-py3-none-any.whl (96 kB)\n",
      "Collecting pytimeparse<2.0,>=1.1.8\n",
      "  Using cached pytimeparse-1.1.8-py2.py3-none-any.whl (10.0 kB)\n",
      "Collecting requests<3.0,>=2.21\n",
      "  Using cached requests-2.28.1-py3-none-any.whl (62 kB)\n",
      "Collecting pathlib2<3.0,>=2.2\n",
      "  Using cached pathlib2-2.3.7.post1-py2.py3-none-any.whl (18 kB)\n",
      "Collecting googleapis-common-protos<2.0,>=1.5\n",
      "  Using cached googleapis_common_protos-1.56.4-py2.py3-none-any.whl (211 kB)\n",
      "Collecting protobuf<4.0,>=3.8\n",
      "  Downloading protobuf-3.20.2-cp310-cp310-macosx_10_9_universal2.whl (1.1 MB)\n",
      "\u001b[K     |████████████████████████████████| 1.1 MB 10.2 MB/s eta 0:00:01\n",
      "\u001b[?25hCollecting cloudpickle~=1.0\n",
      "  Using cached cloudpickle-1.6.0-py3-none-any.whl (23 kB)\n",
      "Collecting six\n",
      "  Using cached six-1.16.0-py2.py3-none-any.whl (11 kB)\n",
      "Collecting idna<4,>=2.5\n",
      "  Using cached idna-3.4-py3-none-any.whl (61 kB)\n",
      "Collecting certifi>=2017.4.17\n",
      "  Downloading certifi-2022.9.24-py3-none-any.whl (161 kB)\n",
      "\u001b[K     |████████████████████████████████| 161 kB 9.4 MB/s eta 0:00:01\n",
      "\u001b[?25hCollecting urllib3<1.27,>=1.21.1\n",
      "  Using cached urllib3-1.26.12-py2.py3-none-any.whl (140 kB)\n",
      "Collecting charset-normalizer<3,>=2\n",
      "  Using cached charset_normalizer-2.1.1-py3-none-any.whl (39 kB)\n",
      "Building wheels for collected packages: pyyaml\n",
      "  Building wheel for pyyaml (PEP 517) ... \u001b[?25ldone\n",
      "\u001b[?25h  Created wheel for pyyaml: filename=PyYAML-5.4.1-cp310-cp310-macosx_12_0_x86_64.whl size=45663 sha256=237758829002bbf4970d201e866052d7e42b275cfe6253ff40ba905b5143cf16\n",
      "  Stored in directory: /Users/hmacdonald/Library/Caches/pip/wheels/c7/0d/22/696ee92245ad710f506eee79bb05c740d8abccd3ecdb778683\n",
      "Successfully built pyyaml\n",
      "Installing collected packages: urllib3, six, protobuf, idna, charset-normalizer, certifi, requests, pyyaml, pytimeparse, pathlib2, googleapis-common-protos, cloudpickle, click, verta\n",
      "Successfully installed certifi-2022.9.24 charset-normalizer-2.1.1 click-8.1.3 cloudpickle-1.6.0 googleapis-common-protos-1.56.4 idna-3.4 pathlib2-2.3.7.post1 protobuf-3.20.2 pytimeparse-1.1.8 pyyaml-5.4.1 requests-2.28.1 six-1.16.0 urllib3-1.26.12 verta-0.20.4\n",
      "\u001b[33mWARNING: You are using pip version 21.2.4; however, version 22.2.2 is available.\n",
      "You should consider upgrading via the '/Users/hmacdonald/.pyenv/versions/verta-3.10.2/bin/python -m pip install --upgrade pip' command.\u001b[0m\n"
     ]
    }
   ],
   "source": [
    "# restart your notebook if prompted on Colab\n",
    "!python -m pip install verta"
   ]
  },
  {
   "cell_type": "code",
   "execution_count": 16,
   "id": "53f19c15",
   "metadata": {},
   "outputs": [
    {
     "name": "stdout",
     "output_type": "stream",
     "text": [
      "Checking whether there is an H2O instance running at http://localhost:54321 ..... not found.\n",
      "Attempting to start a local H2O server...\n",
      "  Java Version: openjdk version \"1.8.0_282\"; OpenJDK Runtime Environment (AdoptOpenJDK)(build 1.8.0_282-b08); OpenJDK 64-Bit Server VM (AdoptOpenJDK)(build 25.282-b08, mixed mode)\n",
      "  Starting server from /Library/Frameworks/Python.framework/Versions/3.7/lib/python3.7/site-packages/h2o/backend/bin/h2o.jar\n",
      "  Ice root: /var/folders/f7/r9486pbd77j4bppmmcpnxw6c0000gp/T/tmpmbqz88f0\n",
      "  JVM stdout: /var/folders/f7/r9486pbd77j4bppmmcpnxw6c0000gp/T/tmpmbqz88f0/h2o_hmacdonald_started_from_python.out\n",
      "  JVM stderr: /var/folders/f7/r9486pbd77j4bppmmcpnxw6c0000gp/T/tmpmbqz88f0/h2o_hmacdonald_started_from_python.err\n",
      "  Server is running at http://127.0.0.1:54321\n",
      "Connecting to H2O server at http://127.0.0.1:54321 ... successful.\n"
     ]
    },
    {
     "data": {
      "text/html": [
       "<div style=\"overflow:auto\"><table style=\"width:50%\"><tr><td>H2O_cluster_uptime:</td>\n",
       "<td>03 secs</td></tr>\n",
       "<tr><td>H2O_cluster_timezone:</td>\n",
       "<td>America/Los_Angeles</td></tr>\n",
       "<tr><td>H2O_data_parsing_timezone:</td>\n",
       "<td>UTC</td></tr>\n",
       "<tr><td>H2O_cluster_version:</td>\n",
       "<td>3.36.1.4</td></tr>\n",
       "<tr><td>H2O_cluster_version_age:</td>\n",
       "<td>1 month and 23 days </td></tr>\n",
       "<tr><td>H2O_cluster_name:</td>\n",
       "<td>H2O_from_python_hmacdonald_ofeofj</td></tr>\n",
       "<tr><td>H2O_cluster_total_nodes:</td>\n",
       "<td>1</td></tr>\n",
       "<tr><td>H2O_cluster_free_memory:</td>\n",
       "<td>1.778 Gb</td></tr>\n",
       "<tr><td>H2O_cluster_total_cores:</td>\n",
       "<td>8</td></tr>\n",
       "<tr><td>H2O_cluster_allowed_cores:</td>\n",
       "<td>8</td></tr>\n",
       "<tr><td>H2O_cluster_status:</td>\n",
       "<td>locked, healthy</td></tr>\n",
       "<tr><td>H2O_connection_url:</td>\n",
       "<td>http://127.0.0.1:54321</td></tr>\n",
       "<tr><td>H2O_connection_proxy:</td>\n",
       "<td>{\"http\": null, \"https\": null}</td></tr>\n",
       "<tr><td>H2O_internal_security:</td>\n",
       "<td>False</td></tr>\n",
       "<tr><td>Python_version:</td>\n",
       "<td>3.7.9 final</td></tr></table></div>"
      ],
      "text/plain": [
       "--------------------------  ---------------------------------\n",
       "H2O_cluster_uptime:         03 secs\n",
       "H2O_cluster_timezone:       America/Los_Angeles\n",
       "H2O_data_parsing_timezone:  UTC\n",
       "H2O_cluster_version:        3.36.1.4\n",
       "H2O_cluster_version_age:    1 month and 23 days\n",
       "H2O_cluster_name:           H2O_from_python_hmacdonald_ofeofj\n",
       "H2O_cluster_total_nodes:    1\n",
       "H2O_cluster_free_memory:    1.778 Gb\n",
       "H2O_cluster_total_cores:    8\n",
       "H2O_cluster_allowed_cores:  8\n",
       "H2O_cluster_status:         locked, healthy\n",
       "H2O_connection_url:         http://127.0.0.1:54321\n",
       "H2O_connection_proxy:       {\"http\": null, \"https\": null}\n",
       "H2O_internal_security:      False\n",
       "Python_version:             3.7.9 final\n",
       "--------------------------  ---------------------------------"
      ]
     },
     "metadata": {},
     "output_type": "display_data"
    }
   ],
   "source": [
    "import h2o\n",
    "from h2o.estimators import H2OGradientBoostingEstimator\n",
    "\n",
    "h2o.init()"
   ]
  },
  {
   "cell_type": "markdown",
   "id": "a60b1e33",
   "metadata": {},
   "source": [
    "### 0.1 Verta import and setup"
   ]
  },
  {
   "cell_type": "code",
   "execution_count": 19,
   "id": "ac11288f",
   "metadata": {},
   "outputs": [
    {
     "name": "stdout",
     "output_type": "stream",
     "text": [
      "got VERTA_EMAIL from environment\n",
      "got VERTA_DEV_KEY from environment\n",
      "connection successfully established\n"
     ]
    }
   ],
   "source": [
    "import os\n",
    "\n",
    "# Ensure credentials are set up, if not, use below\n",
    "# os.environ['VERTA_EMAIL'] = \"\"\n",
    "os.environ['VERTA_DEV_KEY'] = \"3e1e7517-c92c-4d94-bad0-c3f82a1d6a29\"\n",
    "os.environ['VERTA_HOST'] = \"staging.dev.verta.ai\"\n",
    "\n",
    "from verta import Client\n",
    "client = Client(os.environ['VERTA_HOST'])"
   ]
  },
  {
   "cell_type": "markdown",
   "id": "3bc5176f",
   "metadata": {},
   "source": [
    "## 1. Model Training"
   ]
  },
  {
   "cell_type": "markdown",
   "id": "52d66300",
   "metadata": {},
   "source": [
    "### 1.1 Load training data"
   ]
  },
  {
   "cell_type": "code",
   "execution_count": 20,
   "id": "7e50c26e",
   "metadata": {},
   "outputs": [
    {
     "name": "stdout",
     "output_type": "stream",
     "text": [
      "Parse progress: |████████████████████████████████████████████████████████████████| (done) 100%\n"
     ]
    }
   ],
   "source": [
    "h2o_df = h2o.load_dataset(\"prostate.csv\")\n",
    "h2o_df[\"CAPSULE\"] = h2o_df[\"CAPSULE\"].asfactor()\n",
    "h2o_df[\"GLEASON\"] = h2o_df[\"GLEASON\"].asfactor()"
   ]
  },
  {
   "cell_type": "code",
   "execution_count": 21,
   "id": "da09e51f",
   "metadata": {},
   "outputs": [
    {
     "name": "stdout",
     "output_type": "stream",
     "text": [
      "gbm Model Build progress: |██████████████████████████████████████████████████████| (done) 100%\n"
     ]
    }
   ],
   "source": [
    "import time\n",
    "\n",
    "h2o_model = H2OGradientBoostingEstimator(\n",
    "    distribution=\"gaussian\",\n",
    "    ntrees=2,\n",
    "    max_depth=2,\n",
    "    learn_rate=1,\n",
    ")\n",
    "predictors = [\"CAPSULE\", \"RACE\", \"PSA\", \"GLEASON\"]\n",
    "response = \"AGE\"\n",
    "train, test = h2o_df.split_frame(ratios=[.75], seed=1234)\n",
    "h2o_model.train(\n",
    "    x=predictors,\n",
    "    y=response,\n",
    "    training_frame=train,\n",
    ")\n",
    "\n",
    "MODEL_PATH = \"h2o_model_file\" + str(time.time())\n",
    "h2o.save_model(model=h2o_model, path=MODEL_PATH, force=True)\n",
    "saved_model_path = os.path.join(MODEL_PATH, os.listdir(MODEL_PATH)[0])"
   ]
  },
  {
   "cell_type": "markdown",
   "id": "d43c278b",
   "metadata": {},
   "source": [
    "## 2. Register Model for deployment"
   ]
  },
  {
   "cell_type": "code",
   "execution_count": 8,
   "id": "7a10a6b7",
   "metadata": {},
   "outputs": [],
   "source": [
    "import os\n",
    "import subprocess\n",
    "\n",
    "import h2o\n",
    "import pandas as pd\n",
    "\n",
    "from verta.registry import VertaModelBase, verify_io\n",
    "\n",
    "class H2OModelWrapper(VertaModelBase):\n",
    "    def __init__(self, artifacts):\n",
    "        import h2o\n",
    "        h2o.init()\n",
    "        self.model = h2o.load_model(artifacts[\"serialized_model\"])\n",
    "    \n",
    "    @verify_io\n",
    "    def predict(self, model_input):\n",
    "        frame = h2o.H2OFrame(pd.DataFrame(model_input))\n",
    "        model_out1 = self.model.predict(frame)\n",
    "        model_out2 = model_out1.as_data_frame().to_dict(\"records\")\n",
    "        return model_out2"
   ]
  },
  {
   "cell_type": "code",
   "execution_count": 9,
   "id": "c18be7df",
   "metadata": {
    "scrolled": true
   },
   "outputs": [
    {
     "name": "stdout",
     "output_type": "stream",
     "text": [
      "created new RegisteredModel: h2o_model in workspace: OctReleaseTestingOrg\n",
      "created new ModelVersion: ModelVersion 149081664315034294484\n",
      "uploading serialized_model to Registry\n",
      "uploading part 1\n",
      "upload complete\n",
      "uploading model to Registry\n",
      "uploading part 1\n",
      "upload complete\n",
      "uploading model_api.json to Registry\n",
      "uploading part 1\n",
      "upload complete\n",
      "uploading custom_modules to Registry\n",
      "uploading part 1\n",
      "upload complete\n"
     ]
    }
   ],
   "source": [
    "from verta.environment import Python\n",
    "\n",
    "model_version = client.get_or_create_registered_model(name=\"h2o_model\").create_standard_model(\n",
    "    model_cls=H2OModelWrapper,\n",
    "    environment=Python(requirements=['h2o']),\n",
    "    artifacts={\"serialized_model\":saved_model_path}\n",
    ")"
   ]
  },
  {
   "cell_type": "markdown",
   "id": "d6b9d6d0",
   "metadata": {},
   "source": [
    "## 3. Deploy model to endpoint"
   ]
  },
  {
   "cell_type": "code",
   "execution_count": null,
   "id": "409288dc",
   "metadata": {},
   "outputs": [
    {
     "name": "stdout",
     "output_type": "stream",
     "text": [
      "waiting for update......."
     ]
    }
   ],
   "source": [
    "from verta.endpoint.resources import Resources\n",
    "\n",
    "h2o_endpoint = client.get_or_create_endpoint(path=\"/h2o\")\n",
    "# Ensure the endpoint has enough memory to handle h2o's high memory requirements. You may need to increase this number\n",
    "resources = Resources(cpu=.25, memory=\"512Mi\")\n",
    "h2o_endpoint.update(model_version, resources=resources, wait=True)"
   ]
  },
  {
   "cell_type": "code",
   "execution_count": 11,
   "id": "188e16b1",
   "metadata": {},
   "outputs": [],
   "source": [
    "deployed_model = h2o_endpoint.get_deployed_model()"
   ]
  },
  {
   "cell_type": "markdown",
   "id": "9b4cab61",
   "metadata": {},
   "source": [
    "## 4. Predict"
   ]
  },
  {
   "cell_type": "markdown",
   "id": "8b66c93f",
   "metadata": {},
   "source": [
    "### 4.1 Quick-Predict with Json"
   ]
  },
  {
   "cell_type": "code",
   "execution_count": 23,
   "id": "6d1aff0f",
   "metadata": {},
   "outputs": [
    {
     "data": {
      "text/plain": [
       "[{'predict': 64.6670710707533}]"
      ]
     },
     "execution_count": 23,
     "metadata": {},
     "output_type": "execute_result"
    }
   ],
   "source": [
    "data = {\"CAPSULE\":[\"0\"], \"RACE\":[\"2\"], \"PSA\":[51.9], \"GLEASON\":[\"6\"]}\n",
    "deployed_model.predict(data)"
   ]
  },
  {
   "cell_type": "markdown",
   "id": "13b87f3f",
   "metadata": {},
   "source": [
    "### 4.2 (OR) Predict with Test Data"
   ]
  },
  {
   "cell_type": "code",
   "execution_count": 22,
   "id": "1fcdbf9a",
   "metadata": {},
   "outputs": [
    {
     "name": "stdout",
     "output_type": "stream",
     "text": [
      "[{'ID': 4, 'CAPSULE': 0, 'AGE': 76, 'RACE': 2, 'DPROS': 2, 'DCAPS': 1, 'PSA': 51.2, 'VOL': 20, 'GLEASON': 7}]\n",
      "[{'predict': 64.32512482651349}]\n"
     ]
    }
   ],
   "source": [
    "for i in range(1):\n",
    "    row = test[i, :].as_data_frame().to_dict(\"records\")\n",
    "    print(row)\n",
    "    prediction = deployed_model.predict(row)\n",
    "    print(prediction)"
   ]
  },
  {
   "cell_type": "markdown",
   "id": "42b21812",
   "metadata": {},
   "source": [
    "## 5. Cleanup"
   ]
  },
  {
   "cell_type": "code",
   "execution_count": 14,
   "id": "f74f066a",
   "metadata": {},
   "outputs": [
    {
     "name": "stdout",
     "output_type": "stream",
     "text": [
      "H2O session _sid_b4e5 closed.\n"
     ]
    }
   ],
   "source": [
    "h2o.cluster().shutdown()\n",
    "# h2o_endpoint.delete()"
   ]
  },
  {
   "cell_type": "markdown",
   "id": "c3b201e8",
   "metadata": {},
   "source": [
    "---"
   ]
  }
 ],
 "metadata": {
  "kernelspec": {
   "display_name": "Python 3 (ipykernel)",
   "language": "python",
   "name": "python3"
  },
  "language_info": {
   "codemirror_mode": {
    "name": "ipython",
    "version": 3
   },
   "file_extension": ".py",
   "mimetype": "text/x-python",
   "name": "python",
   "nbconvert_exporter": "python",
   "pygments_lexer": "ipython3",
   "version": "3.7.9"
  },
  "vscode": {
   "interpreter": {
    "hash": "8caf7ff75eee6ef9b5c6741df0ef051dd5c0007c0d117ed024b5aee56d7621ac"
   }
  }
 },
 "nbformat": 4,
 "nbformat_minor": 5
}
