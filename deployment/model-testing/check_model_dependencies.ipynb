{
 "cells": [
  {
   "cell_type": "markdown",
   "source": [
    "# Validate a Model's Environment Contains the Required Dependencies\n",
    "This example demonstrates how to check that a model's environment contains all the dependencies it needs to run.\n",
    "This allows developers and data scientists to validate the environment locally before attempting to deploy the\n",
    "model to Verta."
   ],
   "metadata": {
    "collapsed": false
   }
  },
  {
   "cell_type": "markdown",
   "source": [
    "## Imports"
   ],
   "metadata": {
    "collapsed": false
   }
  },
  {
   "cell_type": "code",
   "execution_count": null,
   "outputs": [],
   "source": [
    "import pandas as pd\n",
    "\n",
    "from verta import Client\n",
    "from verta.environment import Python\n",
    "from verta.registry import VertaModelBase, verify_io, check_model_dependencies\n",
    "from verta.registry.entities import RegisteredModel,  RegisteredModelVersion\n",
    "from verta.utils import ModelAPI"
   ],
   "metadata": {
    "collapsed": false
   }
  },
  {
   "cell_type": "markdown",
   "source": [
    "## Verta Client Setup"
   ],
   "metadata": {
    "collapsed": false
   }
  },
  {
   "cell_type": "code",
   "execution_count": null,
   "outputs": [],
   "source": [
    "# Use local env vars or uncomment and fill out the lines below:\n",
    "# os.environ['VERTA_EMAIL'] = ''\n",
    "# os.environ['VERTA_DEV_KEY'] = ''\n",
    "# os.environ['VERTA_HOST'] = ''\n",
    "\n",
    "client = Client()"
   ],
   "metadata": {
    "collapsed": false
   }
  },
  {
   "cell_type": "markdown",
   "source": [
    "# Example Model Class"
   ],
   "metadata": {
    "collapsed": false
   }
  },
  {
   "cell_type": "code",
   "execution_count": null,
   "outputs": [],
   "source": [
    "class ExampleModel(VertaModelBase):\n",
    "    def __init__(self, artifacts):\n",
    "        pass\n",
    "\n",
    "    @verify_io\n",
    "    def predict(self, input):\n",
    "        df = pd.DataFrame(input)\n",
    "        return df.iloc[:1]"
   ],
   "metadata": {
    "collapsed": false
   }
  },
  {
   "cell_type": "markdown",
   "source": [
    "# Check Model Dependencies Manually"
   ],
   "metadata": {
    "collapsed": false
   }
  },
  {
   "cell_type": "code",
   "execution_count": null,
   "outputs": [],
   "source": [
    "assumed_environment = Python(requirements=[\"numpy\"])  # incorrect package to support `pandas` dependency in model\n",
    "\n",
    "# Raises a warning by default\n",
    "check_model_dependencies(model_cls=ExampleModel, environment=assumed_environment)\n",
    "\n",
    "# Raises an exception if `raise_for_missing=True`\n",
    "check_model_dependencies(model_cls=ExampleModel, environment=assumed_environment, raise_for_missing=True)"
   ],
   "metadata": {
    "collapsed": false
   }
  },
  {
   "cell_type": "markdown",
   "source": [
    "# Check Dependencies While Creating a Registered Model Version"
   ],
   "metadata": {
    "collapsed": false
   }
  },
  {
   "cell_type": "markdown",
   "source": [
    "## Create a Registered Model"
   ],
   "metadata": {
    "collapsed": false
   }
  },
  {
   "cell_type": "code",
   "execution_count": null,
   "outputs": [],
   "source": [
    "registered_model: RegisteredModel = client.get_or_create_registered_model(\n",
    "    name=\"pandas_dependent_model_example\", labels=[\"examples\"])"
   ],
   "metadata": {
    "collapsed": false
   }
  },
  {
   "cell_type": "markdown",
   "source": [
    "## Create a Registered Model Version\n",
    "_Note the addition of the argument `check_model_dependencies=True` to trigger the dependency check._\n",
    "\n",
    "This is the equivalent of running:\n",
    "```python\n",
    "verta.registry.check_model_dependencies(model_cls=ExampleModel, environment=Python([]), raise_for_missing=True)\n",
    "```"
   ],
   "metadata": {
    "collapsed": false
   }
  },
  {
   "cell_type": "code",
   "execution_count": null,
   "outputs": [],
   "source": [
    "model_api = ModelAPI(\n",
    "    inputs=\"dataframe\",\n",
    "    outputs=\"dataframe\",\n",
    ")\n",
    "\n",
    "model_version: RegisteredModelVersion = registered_model.create_standard_model(\n",
    "    model_cls=ExampleModel,\n",
    "    environment=Python([]),\n",
    "    model_api=model_api,\n",
    "    check_model_dependencies=True\n",
    ")"
   ],
   "metadata": {
    "collapsed": false
   }
  },
  {
   "cell_type": "code",
   "execution_count": null,
   "outputs": [],
   "source": [],
   "metadata": {
    "collapsed": false
   }
  }
 ],
 "metadata": {
  "kernelspec": {
   "display_name": "Python 3",
   "language": "python",
   "name": "python3"
  },
  "language_info": {
   "codemirror_mode": {
    "name": "ipython",
    "version": 2
   },
   "file_extension": ".py",
   "mimetype": "text/x-python",
   "name": "python",
   "nbconvert_exporter": "python",
   "pygments_lexer": "ipython2",
   "version": "2.7.6"
  }
 },
 "nbformat": 4,
 "nbformat_minor": 0
}
