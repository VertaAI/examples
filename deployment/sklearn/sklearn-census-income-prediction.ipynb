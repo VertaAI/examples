{
  "cells": [
    {
      "cell_type": "markdown",
      "metadata": {
        "id": "8lCXP3A__nPN"
      },
      "source": [
        "# Census Income Prediction (scikit-learn)"
      ]
    },
    {
      "cell_type": "markdown",
      "metadata": {},
      "source": [
        "<a href=\"https://colab.research.google.com/github/VertaAI/examples/blob/main/deployment/sklearn/sklearn-census-income-prediction.ipynb\" target=\"_parent\"><img src=\"https://colab.research.google.com/assets/colab-badge.svg\" alt=\"Open In Colab\"/></a>"
      ]
    },
    {
      "cell_type": "markdown",
      "metadata": {
        "id": "rjbaCPG4_vjE"
      },
      "source": [
        "## 1. Dependencies"
      ]
    },
    {
      "cell_type": "markdown",
      "metadata": {
        "id": "EFsTgnMe_w9i"
      },
      "source": [
        "This notebook has been tested with **Python 3.8.16** and the following package versions:"
      ]
    },
    {
      "cell_type": "code",
      "execution_count": null,
      "metadata": {
        "id": "YYZpIDPcky8c"
      },
      "outputs": [],
      "source": [
        "%%capture\n",
        "!pip install scikit-learn==1.0.2\n",
        "!pip install verta==0.21.1\n",
        "!pip install wget==3.2"
      ]
    },
    {
      "cell_type": "markdown",
      "metadata": {
        "id": "Eh2rzxWZ_9L0"
      },
      "source": [
        "## 2. Imports"
      ]
    },
    {
      "cell_type": "code",
      "execution_count": null,
      "metadata": {
        "id": "PZ9Gbbn-lfxv"
      },
      "outputs": [],
      "source": [
        "import cloudpickle\n",
        "import itertools\n",
        "import os\n",
        "import pandas as pd\n",
        "import warnings\n",
        "import wget\n",
        "\n",
        "from sklearn import linear_model\n",
        "from sklearn.exceptions import ConvergenceWarning\n",
        "from sklearn.model_selection import train_test_split\n",
        "from sklearn.preprocessing import LabelEncoder\n",
        "from verta import Client\n",
        "from verta.dataset import Path\n",
        "from verta.environment import Python\n",
        "from verta.registry import VertaModelBase, verify_io\n",
        "from verta.utils import ModelAPI\n",
        "\n",
        "warnings.filterwarnings('ignore', category=ConvergenceWarning, module='sklearn')\n",
        "warnings.filterwarnings('ignore', category=FutureWarning, module='sklearn')\n",
        "warnings.filterwarnings('ignore', category=UserWarning, module='sklearn')"
      ]
    },
    {
      "cell_type": "markdown",
      "metadata": {
        "id": "GFJlaOwyAJw2"
      },
      "source": [
        "## 3. Verta Set Up"
      ]
    },
    {
      "cell_type": "code",
      "execution_count": null,
      "metadata": {
        "id": "TNbSRvSjAMv5"
      },
      "outputs": [],
      "source": [
        "# Use local env vars or uncomment and fill out the lines below:\n",
        "# os.environ['VERTA_EMAIL'] = ''\n",
        "# os.environ['VERTA_DEV_KEY'] = ''\n",
        "# os.environ['VERTA_HOST'] = ''"
      ]
    },
    {
      "cell_type": "code",
      "execution_count": null,
      "metadata": {},
      "outputs": [],
      "source": [
        "client = Client()"
      ]
    },
    {
      "cell_type": "code",
      "execution_count": null,
      "metadata": {},
      "outputs": [],
      "source": [
        "MODEL_NAME = 'Census Income Prediction (Example)'\n",
        "VERSION = 'v0'\n",
        "ENDPOINT_NAME = 'census-income-prediction'"
      ]
    },
    {
      "cell_type": "code",
      "execution_count": null,
      "metadata": {
        "id": "Twn7sVWrAn4e"
      },
      "outputs": [],
      "source": [
        "proj = client.set_project(MODEL_NAME)\n",
        "expt = client.set_experiment(MODEL_NAME)"
      ]
    },
    {
      "cell_type": "markdown",
      "metadata": {
        "id": "-h9EE8OeA4Rm"
      },
      "source": [
        "## 4. Model Training"
      ]
    },
    {
      "cell_type": "markdown",
      "metadata": {
        "id": "16zXq0jlA966"
      },
      "source": [
        "### 4.1 Training Data"
      ]
    },
    {
      "cell_type": "code",
      "execution_count": null,
      "metadata": {
        "id": "OQF_yc2Wp2ot"
      },
      "outputs": [],
      "source": [
        "file_name = 'adult.data'"
      ]
    },
    {
      "cell_type": "code",
      "execution_count": null,
      "metadata": {
        "id": "tH972SK4E2MS"
      },
      "outputs": [],
      "source": [
        "if not os.path.isfile(file_name):\n",
        "    wget.download(f\"https://archive.ics.uci.edu/ml/machine-learning-databases/adult/{file_name}\")"
      ]
    },
    {
      "cell_type": "code",
      "execution_count": null,
      "metadata": {
        "id": "M3wizqfPEGv5"
      },
      "outputs": [],
      "source": [
        "dataset = client.set_dataset(name=f\"{MODEL_NAME} - Dataset\")"
      ]
    },
    {
      "cell_type": "code",
      "execution_count": null,
      "metadata": {
        "id": "n7RuaQ6mEzUY"
      },
      "outputs": [],
      "source": [
        "dataset_version = dataset.create_version(Path(file_name))"
      ]
    },
    {
      "cell_type": "code",
      "execution_count": null,
      "metadata": {
        "id": "rFFZAGDwlXg6"
      },
      "outputs": [],
      "source": [
        "df = pd.read_csv(file_name)"
      ]
    },
    {
      "cell_type": "code",
      "execution_count": null,
      "metadata": {
        "id": "X5REGZSQle-_"
      },
      "outputs": [],
      "source": [
        "df.columns = [\n",
        "    'age',\n",
        "    'workclass',\n",
        "    'fnlwgt',\n",
        "    'education',\n",
        "    'education-num',\n",
        "    'marital-status',\n",
        "    'occupation',\n",
        "    'relationship',\n",
        "    'race',\n",
        "    'sex',\n",
        "    'capital-gain',\n",
        "    'capital-loss',\n",
        "    'hours-per-week',\n",
        "    'native-country',\n",
        "    '<=50K'\n",
        "]"
      ]
    },
    {
      "cell_type": "code",
      "execution_count": null,
      "metadata": {
        "id": "z9aIRO1QllxZ"
      },
      "outputs": [],
      "source": [
        "df = df.dropna(axis=0)"
      ]
    },
    {
      "cell_type": "code",
      "execution_count": null,
      "metadata": {
        "id": "a6kbaxCp3iej"
      },
      "outputs": [],
      "source": [
        "obj_cols = ['workclass', 'education', 'marital-status', 'occupation', 'relationship', 'race', 'sex', 'native-country']"
      ]
    },
    {
      "cell_type": "code",
      "execution_count": null,
      "metadata": {
        "id": "vYG6O0KH9GUW"
      },
      "outputs": [],
      "source": [
        "df[obj_cols] = df[obj_cols].apply(LabelEncoder().fit_transform)"
      ]
    },
    {
      "cell_type": "code",
      "execution_count": null,
      "metadata": {
        "id": "ou76j8-BtQtj"
      },
      "outputs": [],
      "source": [
        "feature_cols = list(df.columns[:-1])\n",
        "target_col = df.columns[-1]"
      ]
    },
    {
      "cell_type": "code",
      "execution_count": null,
      "metadata": {
        "id": "LrYr3dLpvBbS"
      },
      "outputs": [],
      "source": [
        "X = df.loc[:,feature_cols]\n",
        "y = df.loc[:,target_col]"
      ]
    },
    {
      "cell_type": "markdown",
      "metadata": {
        "id": "BoSxpt9gBKXX"
      },
      "source": [
        "### 4.2 Train/Test Code"
      ]
    },
    {
      "cell_type": "code",
      "execution_count": null,
      "metadata": {
        "id": "YCBo3KXOsN3c"
      },
      "outputs": [],
      "source": [
        "def run_experiment(X, y, hyperparams):\n",
        "    run = client.set_experiment_run()\n",
        "    (X_val_train, X_val_test, y_val_train, y_val_test) = train_test_split(X, y, test_size=0.2, shuffle=True)\n",
        "\n",
        "    run.log_hyperparameters(hyperparams)\n",
        "    print(hyperparams, end=' ')\n",
        "    \n",
        "    model = linear_model.LogisticRegression(**hyperparams)\n",
        "    model.fit(X, y)\n",
        "    \n",
        "    val_acc = model.score(X_val_test, y_val_test)\n",
        "    run.log_metric('val_acc', val_acc)\n",
        "    print(f\"Validation accuracy: {round(val_acc, 4)}\")\n",
        "    \n",
        "    run.log_dataset_version('train', dataset_version)\n",
        "    \n",
        "    run.log_code(autocapture=False)"
      ]
    },
    {
      "cell_type": "code",
      "execution_count": null,
      "metadata": {
        "id": "ESzbtVOowmDX"
      },
      "outputs": [],
      "source": [
        "hyperparam_candidates = {\n",
        "    'C': [1e-6, 1e-4],\n",
        "    'solver': ['lbfgs'],\n",
        "    'max_iter': [15, 28],\n",
        "}"
      ]
    },
    {
      "cell_type": "code",
      "execution_count": null,
      "metadata": {
        "id": "g-f9Frg9BRFz"
      },
      "outputs": [],
      "source": [
        "hyperparam_sets = [\n",
        "    dict(zip(hyperparam_candidates.keys(), values))\n",
        "    for values in itertools.product(*hyperparam_candidates.values())\n",
        "]"
      ]
    },
    {
      "cell_type": "code",
      "execution_count": null,
      "metadata": {
        "id": "5EmBZ3JDDrMq"
      },
      "outputs": [],
      "source": [
        "for hyperparams in hyperparam_sets:\n",
        "    run_experiment(X, y, hyperparams)"
      ]
    },
    {
      "cell_type": "code",
      "execution_count": null,
      "metadata": {
        "id": "JoVTzAufx6jR"
      },
      "outputs": [],
      "source": [
        "best_run = expt.expt_runs.sort('metrics.val_acc', descending=True)[0]\n",
        "best_hyperparams = best_run.get_hyperparameters()"
      ]
    },
    {
      "cell_type": "code",
      "execution_count": null,
      "metadata": {
        "id": "iekieKIBCbiA"
      },
      "outputs": [],
      "source": [
        "print(f\"Validation Accuracy: {round(best_run.get_metric('val_acc'), 4)}\")\n",
        "print(f\"Hyperparameters: {best_hyperparams}\")"
      ]
    },
    {
      "cell_type": "code",
      "execution_count": null,
      "metadata": {
        "id": "s3UU5eMnCfGX"
      },
      "outputs": [],
      "source": [
        "model = linear_model.LogisticRegression(multi_class='auto', **best_hyperparams)"
      ]
    },
    {
      "cell_type": "code",
      "execution_count": null,
      "metadata": {
        "id": "Ad4pWiXaH16Z"
      },
      "outputs": [],
      "source": [
        "model.fit(X, y)"
      ]
    },
    {
      "cell_type": "code",
      "execution_count": null,
      "metadata": {
        "id": "wqq0jVXgH3O2"
      },
      "outputs": [],
      "source": [
        "train_acc = model.score(X, y)"
      ]
    },
    {
      "cell_type": "code",
      "execution_count": null,
      "metadata": {
        "id": "C_bYCiwRHxKU"
      },
      "outputs": [],
      "source": [
        "print(f\"Training accuracy: {round(train_acc, 4)}\")"
      ]
    },
    {
      "cell_type": "markdown",
      "metadata": {},
      "source": [
        "## 5. Model Class"
      ]
    },
    {
      "cell_type": "code",
      "execution_count": null,
      "metadata": {
        "id": "uHIKatKcsPsB"
      },
      "outputs": [],
      "source": [
        "class Predictor(VertaModelBase):\n",
        "    def __init__(self, artifacts):\n",
        "        self.model = cloudpickle.load(open(artifacts['serialized_model'], 'rb'))\n",
        "        \n",
        "    @verify_io\n",
        "    def predict(self, data):\n",
        "        results = []\n",
        "\n",
        "        for item in data:\n",
        "            results.append(self.model.predict(item).tolist())\n",
        "        \n",
        "        return results\n",
        "\n",
        "    def describe(self):\n",
        "        return {\n",
        "            'method': 'predict',\n",
        "            'args': 'age,workclass,fnlwgt,education,education-num,marital-status,occupation,relationship,race,sex,capital-gain,capital-loss,hours-per-week,native-country',\n",
        "            'returns': 'income_label',\n",
        "            'description': 'Predicts whether a person has >50k income based on census data.',\n",
        "            'input_description': 'Batch of census information, one sample per entry.',\n",
        "            'output_description': 'String indicating whether the person earns more than 50k a year.'\n",
        "        }\n",
        "        \n",
        "    def example(self):\n",
        "        return [[\n",
        "            [49, 4, 160187, 6, 5, 3, 8, 1, 2, 0, 0, 0, 16, 23],\n",
        "            [52, 6, 209642, 11, 9, 2, 4, 0, 4, 1, 0, 0, 45, 39],\n",
        "            [31, 4, 45781, 12, 14, 4, 10, 1, 4, 0, 14084, 0, 50, 39],\n",
        "            [42, 4, 159449, 9, 13, 2, 4, 0, 4, 1, 5178, 0, 40, 39],\n",
        "            [37, 4, 280464, 15, 10, 2, 4, 0, 2, 1, 0, 0, 80, 39]\n",
        "        ]]"
      ]
    },
    {
      "attachments": {},
      "cell_type": "markdown",
      "metadata": {},
      "source": [
        "## 6. Model Test"
      ]
    },
    {
      "cell_type": "code",
      "execution_count": null,
      "metadata": {
        "id": "OHT7Or4ksPeI"
      },
      "outputs": [],
      "source": [
        "artifacts = {'serialized_model': 'model.pkl'}"
      ]
    },
    {
      "cell_type": "code",
      "execution_count": null,
      "metadata": {},
      "outputs": [],
      "source": [
        "predictor = Predictor(artifacts)"
      ]
    },
    {
      "cell_type": "code",
      "execution_count": null,
      "metadata": {},
      "outputs": [],
      "source": [
        "predictor.predict(predictor.example())"
      ]
    },
    {
      "attachments": {},
      "cell_type": "markdown",
      "metadata": {
        "id": "o3dUJdBjITaF"
      },
      "source": [
        "## 7. Model Register"
      ]
    },
    {
      "cell_type": "code",
      "execution_count": null,
      "metadata": {
        "id": "VM0tJgXNxjLS"
      },
      "outputs": [],
      "source": [
        "with open('model.pkl', 'wb') as f:\n",
        "    cloudpickle.dump(model, f)"
      ]
    },
    {
      "cell_type": "code",
      "execution_count": null,
      "metadata": {
        "id": "jkCfc2QmsUgI"
      },
      "outputs": [],
      "source": [
        "registered_model = client.get_or_create_registered_model(name=MODEL_NAME)"
      ]
    },
    {
      "cell_type": "code",
      "execution_count": null,
      "metadata": {
        "id": "ZdwZn9yksX-2"
      },
      "outputs": [],
      "source": [
        "model = registered_model.create_standard_model(\n",
        "    name = VERSION,\n",
        "    model_cls = Predictor,\n",
        "    environment = Python(requirements=['scikit-learn']),\n",
        "    model_api = ModelAPI(X, y.to_frame(name = 'income_label')),\n",
        "    artifacts = artifacts\n",
        ")"
      ]
    },
    {
      "attachments": {},
      "cell_type": "markdown",
      "metadata": {
        "id": "F1jzgmdoKqr7"
      },
      "source": [
        "## 8. Model Endpoint"
      ]
    },
    {
      "cell_type": "code",
      "execution_count": null,
      "metadata": {
        "id": "Hv95pmtHl80f"
      },
      "outputs": [],
      "source": [
        "endpoint = client.get_or_create_endpoint(ENDPOINT_NAME)"
      ]
    },
    {
      "cell_type": "code",
      "execution_count": null,
      "metadata": {
        "id": "yLDyMx65nzun"
      },
      "outputs": [],
      "source": [
        "endpoint.update(model, wait=True)"
      ]
    },
    {
      "attachments": {},
      "cell_type": "markdown",
      "metadata": {},
      "source": [
        "## 9. Predictions"
      ]
    },
    {
      "cell_type": "code",
      "execution_count": null,
      "metadata": {
        "id": "n8f2s_SamArz"
      },
      "outputs": [],
      "source": [
        "deployed_model = endpoint.get_deployed_model()"
      ]
    },
    {
      "cell_type": "code",
      "execution_count": null,
      "metadata": {
        "id": "b04rVWOqmBKS"
      },
      "outputs": [],
      "source": [
        "deployed_model.predict([X.values.tolist()[5:10]])"
      ]
    },
    {
      "cell_type": "code",
      "execution_count": null,
      "metadata": {},
      "outputs": [],
      "source": [
        "# Uncomment the line below if you want to delete the created endpoint:\n",
        "# endpoint.delete()"
      ]
    }
  ],
  "metadata": {
    "colab": {
      "collapsed_sections": [
        "rjbaCPG4_vjE",
        "Eh2rzxWZ_9L0",
        "16zXq0jlA966",
        "BoSxpt9gBKXX"
      ],
      "provenance": []
    },
    "kernelspec": {
      "display_name": "Python 3",
      "language": "python",
      "name": "python3"
    },
    "language_info": {
      "codemirror_mode": {
        "name": "ipython",
        "version": 3
      },
      "file_extension": ".py",
      "mimetype": "text/x-python",
      "name": "python",
      "nbconvert_exporter": "python",
      "pygments_lexer": "ipython3",
      "version": "3.10.6"
    },
    "vscode": {
      "interpreter": {
        "hash": "916dbcbb3f70747c44a77c7bcd40155683ae19c65e1c03b4aa3499c5328201f1"
      }
    }
  },
  "nbformat": 4,
  "nbformat_minor": 0
}
