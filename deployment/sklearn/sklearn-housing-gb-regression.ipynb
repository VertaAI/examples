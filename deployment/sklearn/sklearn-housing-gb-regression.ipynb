{
  "cells": [
    {
      "cell_type": "markdown",
      "metadata": {
        "id": "zcBqZpY8iVM4"
      },
      "source": [
        "# House Price Prediction with Gradient Boosting Regressor (scikit-learn)"
      ]
    },
    {
      "cell_type": "markdown",
      "metadata": {
        "id": "UOTR7ZcYio5l"
      },
      "source": [
        "## 1. Dependencies"
      ]
    },
    {
      "cell_type": "markdown",
      "metadata": {
        "id": "9mU1-XmEisMG"
      },
      "source": [
        "This notebook has been tested with **Python 3.8.16** and the following package versions:"
      ]
    },
    {
      "cell_type": "code",
      "execution_count": null,
      "metadata": {
        "id": "32gugJbhhzbm"
      },
      "outputs": [],
      "source": [
        "%%capture\n",
        "!pip install verta==0.21.1\n",
        "!pip install wget==3.2"
      ]
    },
    {
      "cell_type": "markdown",
      "metadata": {
        "id": "rWE7Lzr_iRwk"
      },
      "source": [
        "## 2. Imports"
      ]
    },
    {
      "cell_type": "code",
      "execution_count": null,
      "metadata": {
        "id": "NS1Wga32h7bO"
      },
      "outputs": [],
      "source": [
        "import cloudpickle\n",
        "import os\n",
        "import pandas as pd\n",
        "import wget\n",
        "\n",
        "from sklearn.model_selection import train_test_split\n",
        "from sklearn.ensemble import GradientBoostingRegressor\n",
        "from sklearn.metrics import mean_absolute_error, mean_squared_error\n",
        "from verta import Client\n",
        "from verta.environment import Python\n",
        "from verta.registry import VertaModelBase, verify_io\n",
        "from verta.utils import ModelAPI"
      ]
    },
    {
      "cell_type": "markdown",
      "metadata": {
        "id": "Ia15cyZdjzBl"
      },
      "source": [
        "## 3. Model Training"
      ]
    },
    {
      "cell_type": "markdown",
      "metadata": {
        "id": "3mD_GvI2kNV-"
      },
      "source": [
        "### 3.1 Load Training Data"
      ]
    },
    {
      "cell_type": "code",
      "execution_count": null,
      "metadata": {
        "id": "IRgsLOatjyNs"
      },
      "outputs": [],
      "source": [
        "file_name = 'melb-data.csv'\n",
        "\n",
        "if not os.path.isfile(file_name):\n",
        "    wget.download(f\"http://s3.amazonaws.com/verta-starter/{file_name}\")\n",
        "\n",
        "df = pd.read_csv(file_name)"
      ]
    },
    {
      "cell_type": "code",
      "execution_count": null,
      "metadata": {
        "id": "m9tMHeT1j7S8"
      },
      "outputs": [],
      "source": [
        "df = df.dropna(axis=0)"
      ]
    },
    {
      "cell_type": "code",
      "execution_count": null,
      "metadata": {
        "id": "fg2tG3pLj7kV"
      },
      "outputs": [],
      "source": [
        "target_col = 'Price'\n",
        "feature_cols = ['Rooms', 'Bathroom', 'Landsize', 'BuildingArea', 'Distance', 'YearBuilt', 'Car', 'Propertycount']"
      ]
    },
    {
      "cell_type": "code",
      "execution_count": null,
      "metadata": {
        "id": "y9tVu_d_j7tn"
      },
      "outputs": [],
      "source": [
        "X = df.loc[:,feature_cols]\n",
        "y = df.loc[:,target_col]"
      ]
    },
    {
      "cell_type": "code",
      "execution_count": null,
      "metadata": {
        "id": "nnoL1TjEj72H"
      },
      "outputs": [],
      "source": [
        "X_train, X_test, y_train, y_test = train_test_split(X, y, random_state=0)"
      ]
    },
    {
      "cell_type": "markdown",
      "metadata": {
        "id": "eeayiCGckdEU"
      },
      "source": [
        "### 3.2 Train/Test Code"
      ]
    },
    {
      "cell_type": "code",
      "execution_count": null,
      "metadata": {
        "id": "GYe65vKij8AR"
      },
      "outputs": [],
      "source": [
        "model = GradientBoostingRegressor(n_estimators=5000, learning_rate=0.25, max_depth=5, loss='squared_error')"
      ]
    },
    {
      "cell_type": "code",
      "execution_count": null,
      "metadata": {
        "colab": {
          "base_uri": "https://localhost:8080/"
        },
        "id": "4XlxQcgjj8JZ",
        "outputId": "0e64a9a3-9842-476a-f3cf-cb9f97c54302"
      },
      "outputs": [],
      "source": [
        "model.fit(X_train, y_train)"
      ]
    },
    {
      "cell_type": "code",
      "execution_count": null,
      "metadata": {
        "id": "QcqASC7VkFwv"
      },
      "outputs": [],
      "source": [
        "predictions = model.predict(X_test)"
      ]
    },
    {
      "cell_type": "code",
      "execution_count": null,
      "metadata": {
        "id": "NdgxciUI-Ak_"
      },
      "outputs": [],
      "source": [
        "MAE = mean_absolute_error(y_test, predictions)\n",
        "MSE = mean_squared_error(y_test, predictions)\n",
        "RMSE = mean_squared_error(y_test, predictions, squared=False) "
      ]
    },
    {
      "cell_type": "code",
      "execution_count": null,
      "metadata": {
        "colab": {
          "base_uri": "https://localhost:8080/"
        },
        "id": "UvntJmfckF9V",
        "outputId": "565750b8-1ba3-4f99-aabe-524736d82a76"
      },
      "outputs": [],
      "source": [
        "print(f\"MAE: {round(MAE, 3)}\")\n",
        "print(f\"MSE: {round(MSE, 3)}\")\n",
        "print(f\"RMSE: {round(RMSE, 3)}\")"
      ]
    },
    {
      "cell_type": "markdown",
      "metadata": {
        "id": "PQFxkzLijliO"
      },
      "source": [
        "## 4. Verta Set Up"
      ]
    },
    {
      "cell_type": "code",
      "execution_count": null,
      "metadata": {
        "id": "EIPPcopriB0G"
      },
      "outputs": [],
      "source": [
        "os.environ['VERTA_HOST'] = ''\n",
        "os.environ['VERTA_EMAIL'] = ''\n",
        "os.environ['VERTA_DEV_KEY'] = ''"
      ]
    },
    {
      "cell_type": "code",
      "execution_count": null,
      "metadata": {
        "colab": {
          "base_uri": "https://localhost:8080/"
        },
        "id": "bHgtbAo_6O82",
        "outputId": "d452c390-d68f-411a-f56f-89b63a8f5393"
      },
      "outputs": [],
      "source": [
        "client = Client(os.environ['VERTA_HOST'])"
      ]
    },
    {
      "cell_type": "markdown",
      "metadata": {
        "id": "vO9dZdFCkyc6"
      },
      "source": [
        "## 5. Model Register"
      ]
    },
    {
      "cell_type": "code",
      "execution_count": null,
      "metadata": {
        "id": "NaUrxGIkkxMV"
      },
      "outputs": [],
      "source": [
        "with open('model.pkl', 'wb') as f:\n",
        "    cloudpickle.dump(model, f)"
      ]
    },
    {
      "cell_type": "code",
      "execution_count": null,
      "metadata": {
        "id": "3aZfYGUnlJ1p"
      },
      "outputs": [],
      "source": [
        "class HousePricePredictor(VertaModelBase):\n",
        "    def __init__(self, artifacts):\n",
        "        self.model = cloudpickle.load(open(artifacts['serialized_model'], 'rb'))\n",
        "        \n",
        "    @verify_io\n",
        "    def predict(self, data):\n",
        "        results = []\n",
        "\n",
        "        for item in data:\n",
        "            results.append(self.model.predict(item).tolist())\n",
        "        \n",
        "        return results"
      ]
    },
    {
      "cell_type": "code",
      "execution_count": null,
      "metadata": {
        "id": "IjEeggm6lmgb"
      },
      "outputs": [],
      "source": [
        "artifacts = {'serialized_model': 'model.pkl'}"
      ]
    },
    {
      "cell_type": "code",
      "execution_count": null,
      "metadata": {
        "colab": {
          "base_uri": "https://localhost:8080/"
        },
        "id": "NAcK09NzmddI",
        "outputId": "75e6ecda-4cdb-41f4-fd79-01244850f3b9"
      },
      "outputs": [],
      "source": [
        "registered_model = client.get_or_create_registered_model(name='House Price Prediction', labels=['GB Regression'])"
      ]
    },
    {
      "cell_type": "code",
      "execution_count": null,
      "metadata": {
        "colab": {
          "base_uri": "https://localhost:8080/"
        },
        "id": "KiXnB4XCmSRW",
        "outputId": "44b8a995-3b18-4dd5-82bf-a8d5449df61e"
      },
      "outputs": [],
      "source": [
        "model = registered_model.create_standard_model(\n",
        "    name = 'v0',\n",
        "    model_cls = HousePricePredictor,\n",
        "    environment = Python(requirements=['scikit-learn']),\n",
        "    model_api = ModelAPI(X_train, y_train),\n",
        "    artifacts = artifacts\n",
        ")"
      ]
    },
    {
      "cell_type": "markdown",
      "metadata": {
        "id": "g5svsy82oNcW"
      },
      "source": [
        "## Model Endpoint"
      ]
    },
    {
      "cell_type": "code",
      "execution_count": null,
      "metadata": {
        "id": "_IJAriGJm6Ip"
      },
      "outputs": [],
      "source": [
        "endpoint = client.get_or_create_endpoint('house-price-prediction')"
      ]
    },
    {
      "cell_type": "code",
      "execution_count": null,
      "metadata": {
        "colab": {
          "base_uri": "https://localhost:8080/"
        },
        "id": "ZSdMpp5ro_IZ",
        "outputId": "85fd0181-56d2-40da-84e6-16331339056f"
      },
      "outputs": [],
      "source": [
        "endpoint.update(model, wait=True)"
      ]
    },
    {
      "cell_type": "code",
      "execution_count": null,
      "metadata": {
        "id": "fl30rJiXoYtn"
      },
      "outputs": [],
      "source": [
        "deployed_model = endpoint.get_deployed_model()"
      ]
    },
    {
      "cell_type": "code",
      "execution_count": null,
      "metadata": {
        "colab": {
          "base_uri": "https://localhost:8080/"
        },
        "id": "dqGPqltGo7Pd",
        "outputId": "07a7533e-4068-48e3-8312-e1a2e0772e5e"
      },
      "outputs": [],
      "source": [
        "deployed_model.predict([X_train.values.tolist()[:5]])"
      ]
    }
  ],
  "metadata": {
    "colab": {
      "provenance": []
    },
    "kernelspec": {
      "display_name": ".env",
      "language": "python",
      "name": "python3"
    },
    "language_info": {
      "codemirror_mode": {
        "name": "ipython",
        "version": 3
      },
      "file_extension": ".py",
      "mimetype": "text/x-python",
      "name": "python",
      "nbconvert_exporter": "python",
      "pygments_lexer": "ipython3",
      "version": "3.10.6"
    },
    "vscode": {
      "interpreter": {
        "hash": "1824bf78cb4d5ce060f068653b54ea5fee5fe6af4f2dc1edcc3316aa7c0b03e4"
      }
    }
  },
  "nbformat": 4,
  "nbformat_minor": 0
}
