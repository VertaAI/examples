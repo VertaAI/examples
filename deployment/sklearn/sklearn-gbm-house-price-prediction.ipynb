{
  "cells": [
    {
      "cell_type": "markdown",
      "metadata": {
        "id": "zcBqZpY8iVM4"
      },
      "source": [
        "# House Price Prediction with Gradient Boosting Regressor (scikit-learn)"
      ]
    },
    {
      "cell_type": "markdown",
      "metadata": {
        "id": "rxaUaQzG_1M7"
      },
      "source": [
        "<a href=\"https://colab.research.google.com/github/VertaAI/examples/blob/main/deployment/sklearn/sklearn-housing-regression-gbr.ipynb\" target=\"_parent\"><img src=\"https://colab.research.google.com/assets/colab-badge.svg\" alt=\"Open In Colab\"/></a>"
      ]
    },
    {
      "cell_type": "markdown",
      "metadata": {
        "id": "UOTR7ZcYio5l"
      },
      "source": [
        "## 1. Dependencies"
      ]
    },
    {
      "cell_type": "markdown",
      "metadata": {
        "id": "9mU1-XmEisMG"
      },
      "source": [
        "This notebook has been tested with **Python 3.8.16** and the following package versions:"
      ]
    },
    {
      "cell_type": "code",
      "execution_count": null,
      "metadata": {
        "id": "32gugJbhhzbm"
      },
      "outputs": [],
      "source": [
        "%%capture\n",
        "!pip install verta==0.21.1\n",
        "!pip install wget==3.2"
      ]
    },
    {
      "cell_type": "markdown",
      "metadata": {
        "id": "rWE7Lzr_iRwk"
      },
      "source": [
        "## 2. Imports"
      ]
    },
    {
      "cell_type": "code",
      "execution_count": null,
      "metadata": {
        "id": "NS1Wga32h7bO"
      },
      "outputs": [],
      "source": [
        "import cloudpickle\n",
        "import os\n",
        "import pandas as pd\n",
        "import wget\n",
        "\n",
        "from sklearn.model_selection import train_test_split\n",
        "from sklearn.ensemble import GradientBoostingRegressor\n",
        "from sklearn.metrics import mean_absolute_error, mean_squared_error\n",
        "from verta import Client\n",
        "from verta.environment import Python\n",
        "from verta.registry import VertaModelBase, verify_io\n",
        "from verta.utils import ModelAPI"
      ]
    },
    {
      "cell_type": "markdown",
      "metadata": {
        "id": "Ia15cyZdjzBl"
      },
      "source": [
        "## 3. Model Training"
      ]
    },
    {
      "cell_type": "markdown",
      "metadata": {
        "id": "3mD_GvI2kNV-"
      },
      "source": [
        "### 3.1 Load Training Data"
      ]
    },
    {
      "cell_type": "code",
      "execution_count": null,
      "metadata": {
        "id": "IRgsLOatjyNs"
      },
      "outputs": [],
      "source": [
        "file_name = 'melb-data.csv'\n",
        "\n",
        "if not os.path.isfile(file_name):\n",
        "    wget.download(f\"http://s3.amazonaws.com/verta-starter/{file_name}\")\n",
        "\n",
        "df = pd.read_csv(file_name)"
      ]
    },
    {
      "cell_type": "code",
      "execution_count": null,
      "metadata": {
        "id": "m9tMHeT1j7S8"
      },
      "outputs": [],
      "source": [
        "df = df.dropna(axis=0)"
      ]
    },
    {
      "cell_type": "code",
      "execution_count": null,
      "metadata": {
        "id": "fg2tG3pLj7kV"
      },
      "outputs": [],
      "source": [
        "target_col = 'Price'\n",
        "feature_cols = ['Rooms', 'Bathroom', 'Landsize', 'BuildingArea', 'Distance', 'YearBuilt', 'Car', 'Propertycount']"
      ]
    },
    {
      "cell_type": "code",
      "execution_count": null,
      "metadata": {
        "id": "y9tVu_d_j7tn"
      },
      "outputs": [],
      "source": [
        "X = df.loc[:,feature_cols]\n",
        "y = df.loc[:,target_col]"
      ]
    },
    {
      "cell_type": "code",
      "execution_count": null,
      "metadata": {
        "id": "nnoL1TjEj72H"
      },
      "outputs": [],
      "source": [
        "X_train, X_test, y_train, y_test = train_test_split(X, y, random_state=0)"
      ]
    },
    {
      "cell_type": "markdown",
      "metadata": {
        "id": "eeayiCGckdEU"
      },
      "source": [
        "### 3.2 Train/Test Code"
      ]
    },
    {
      "cell_type": "code",
      "execution_count": null,
      "metadata": {
        "id": "GYe65vKij8AR"
      },
      "outputs": [],
      "source": [
        "model = GradientBoostingRegressor(n_estimators=5000, learning_rate=0.25, max_depth=5, loss='squared_error')"
      ]
    },
    {
      "cell_type": "code",
      "execution_count": null,
      "metadata": {
        "colab": {
          "base_uri": "https://localhost:8080/"
        },
        "id": "4XlxQcgjj8JZ",
        "outputId": "40bc0881-2a50-45b5-c164-856179c6b846"
      },
      "outputs": [],
      "source": [
        "model.fit(X_train, y_train)"
      ]
    },
    {
      "cell_type": "code",
      "execution_count": null,
      "metadata": {
        "id": "QcqASC7VkFwv"
      },
      "outputs": [],
      "source": [
        "predictions = model.predict(X_test)"
      ]
    },
    {
      "cell_type": "code",
      "execution_count": null,
      "metadata": {
        "id": "NdgxciUI-Ak_"
      },
      "outputs": [],
      "source": [
        "MAE = mean_absolute_error(y_test, predictions)\n",
        "MSE = mean_squared_error(y_test, predictions)\n",
        "RMSE = mean_squared_error(y_test, predictions, squared=False) "
      ]
    },
    {
      "cell_type": "code",
      "execution_count": null,
      "metadata": {
        "colab": {
          "base_uri": "https://localhost:8080/"
        },
        "id": "UvntJmfckF9V",
        "outputId": "5ebd1d73-3dec-4bd0-b200-312c188b58ad"
      },
      "outputs": [],
      "source": [
        "print(f\"MAE: {round(MAE, 3)}\")\n",
        "print(f\"MSE: {round(MSE, 3)}\")\n",
        "print(f\"RMSE: {round(RMSE, 3)}\")"
      ]
    },
    {
      "cell_type": "markdown",
      "metadata": {
        "id": "PQFxkzLijliO"
      },
      "source": [
        "## 4. Verta Set Up"
      ]
    },
    {
      "cell_type": "code",
      "execution_count": null,
      "metadata": {
        "id": "EIPPcopriB0G"
      },
      "outputs": [],
      "source": [
        "# Use local env vars or uncomment and fill out the lines below:\n",
        "# os.environ['VERTA_EMAIL'] = ''\n",
        "# os.environ['VERTA_DEV_KEY'] = ''\n",
        "# os.environ['VERTA_HOST'] = ''"
      ]
    },
    {
      "cell_type": "code",
      "execution_count": null,
      "metadata": {
        "colab": {
          "base_uri": "https://localhost:8080/"
        },
        "id": "bHgtbAo_6O82",
        "outputId": "9c8cf36b-76a9-49e3-d08c-b88703446794"
      },
      "outputs": [],
      "source": [
        "client = Client()"
      ]
    },
    {
      "cell_type": "code",
      "execution_count": null,
      "metadata": {},
      "outputs": [],
      "source": [
        "MODEL_NAME = 'House Price Prediction (Example)'\n",
        "VERSION = 'sklearn-gbm'\n",
        "ENDPOINT_NAME = 'house-price-prediction-sklearn-gbm'"
      ]
    },
    {
      "cell_type": "markdown",
      "metadata": {},
      "source": [
        "## 5. Model Class"
      ]
    },
    {
      "cell_type": "code",
      "execution_count": null,
      "metadata": {
        "id": "3aZfYGUnlJ1p"
      },
      "outputs": [],
      "source": [
        "class HousePricePredictor(VertaModelBase):\n",
        "    def __init__(self, artifacts):\n",
        "        self.model = cloudpickle.load(open(artifacts['serialized_model'], 'rb'))\n",
        "        \n",
        "    @verify_io\n",
        "    def predict(self, data):\n",
        "        return self.model.predict(data).tolist()\n",
        "\n",
        "    def describe(self):\n",
        "        return {\n",
        "            'method': 'predict',\n",
        "            'args': f\"{self.example()}\",\n",
        "            'returns': '[0]',\n",
        "            'description': \"Predicts house prices based on scikit-learn's GradientBoostingRegressor trained model.\",\n",
        "            'input_description': 'List of house information, such as number of rooms, building area, land size, etc.',\n",
        "            'output_description': 'House price prediction.'\n",
        "        }\n",
        "        \n",
        "    def example(self):\n",
        "        return [[3.0, 1.0, 206.0, 110.0, 8.4, 1980.0, 1.0, 8801.0]]"
      ]
    },
    {
      "attachments": {},
      "cell_type": "markdown",
      "metadata": {
        "id": "vO9dZdFCkyc6"
      },
      "source": [
        "## 6. Model Register"
      ]
    },
    {
      "cell_type": "code",
      "execution_count": null,
      "metadata": {
        "id": "NaUrxGIkkxMV"
      },
      "outputs": [],
      "source": [
        "with open('model.pkl', 'wb') as f:\n",
        "    cloudpickle.dump(model, f)"
      ]
    },
    {
      "cell_type": "code",
      "execution_count": null,
      "metadata": {
        "id": "IjEeggm6lmgb"
      },
      "outputs": [],
      "source": [
        "artifacts = {'serialized_model': 'model.pkl'}"
      ]
    },
    {
      "cell_type": "code",
      "execution_count": null,
      "metadata": {
        "colab": {
          "base_uri": "https://localhost:8080/"
        },
        "id": "NAcK09NzmddI",
        "outputId": "192e6538-c11e-4bdb-d175-e342eb7b1a9e"
      },
      "outputs": [],
      "source": [
        "registered_model = client.get_or_create_registered_model(name=MODEL_NAME)"
      ]
    },
    {
      "cell_type": "code",
      "execution_count": null,
      "metadata": {
        "colab": {
          "base_uri": "https://localhost:8080/"
        },
        "id": "KiXnB4XCmSRW",
        "outputId": "1bdd7c7b-0f5c-488a-d826-ce8309aad7ef"
      },
      "outputs": [],
      "source": [
        "model = registered_model.create_standard_model(\n",
        "    name = VERSION,\n",
        "    model_cls = HousePricePredictor,\n",
        "    environment = Python(requirements=['scikit-learn']),\n",
        "    model_api = ModelAPI(X_train, y_train),\n",
        "    artifacts = artifacts\n",
        ")"
      ]
    },
    {
      "attachments": {},
      "cell_type": "markdown",
      "metadata": {
        "id": "g5svsy82oNcW"
      },
      "source": [
        "## 7. Model Endpoint"
      ]
    },
    {
      "cell_type": "code",
      "execution_count": null,
      "metadata": {
        "id": "_IJAriGJm6Ip"
      },
      "outputs": [],
      "source": [
        "endpoint = client.get_or_create_endpoint(ENDPOINT_NAME)"
      ]
    },
    {
      "cell_type": "code",
      "execution_count": null,
      "metadata": {
        "colab": {
          "base_uri": "https://localhost:8080/"
        },
        "id": "ZSdMpp5ro_IZ",
        "outputId": "ab60ce66-b4ad-429d-e73f-f9b08cca6e1e"
      },
      "outputs": [],
      "source": [
        "endpoint.update(model, wait=True)"
      ]
    },
    {
      "cell_type": "code",
      "execution_count": null,
      "metadata": {
        "id": "fl30rJiXoYtn"
      },
      "outputs": [],
      "source": [
        "deployed_model = endpoint.get_deployed_model()"
      ]
    },
    {
      "attachments": {},
      "cell_type": "markdown",
      "metadata": {
        "id": "2V5vQ0NAj32d"
      },
      "source": [
        "## 8. Predictions"
      ]
    },
    {
      "cell_type": "code",
      "execution_count": null,
      "metadata": {
        "id": "dqGPqltGo7Pd"
      },
      "outputs": [],
      "source": [
        "sample_data = X_test.values.tolist()[:5]"
      ]
    },
    {
      "cell_type": "code",
      "execution_count": null,
      "metadata": {
        "id": "Ja4pfGZFj9Kf"
      },
      "outputs": [],
      "source": [
        "results = deployed_model.predict(sample_data)"
      ]
    },
    {
      "cell_type": "code",
      "execution_count": null,
      "metadata": {
        "id": "U40-ouGfj9PD"
      },
      "outputs": [],
      "source": [
        "df = pd.DataFrame(data=sample_data, columns=feature_cols)"
      ]
    },
    {
      "cell_type": "code",
      "execution_count": null,
      "metadata": {
        "id": "MyiJ3IYJj9VY"
      },
      "outputs": [],
      "source": [
        "df['PricePrediction'] = [round(i, 2) for i in results]"
      ]
    },
    {
      "cell_type": "code",
      "execution_count": null,
      "metadata": {
        "colab": {
          "base_uri": "https://localhost:8080/",
          "height": 206
        },
        "id": "8bCE_hnEj9aB",
        "outputId": "92820173-bd9d-4b21-c8b5-4cbc555298e9"
      },
      "outputs": [],
      "source": [
        "df"
      ]
    },
    {
      "cell_type": "code",
      "execution_count": null,
      "metadata": {
        "id": "S4cIIt7FijiX"
      },
      "outputs": [],
      "source": [
        "# Uncomment the line below if you want to delete the created endpoint:\n",
        "# endpoint.delete()"
      ]
    }
  ],
  "metadata": {
    "colab": {
      "provenance": []
    },
    "kernelspec": {
      "display_name": "Python 3",
      "language": "python",
      "name": "python3"
    },
    "language_info": {
      "name": "python",
      "version": "3.10.6 (main, Nov 14 2022, 16:10:14) [GCC 11.3.0]"
    },
    "vscode": {
      "interpreter": {
        "hash": "916dbcbb3f70747c44a77c7bcd40155683ae19c65e1c03b4aa3499c5328201f1"
      }
    }
  },
  "nbformat": 4,
  "nbformat_minor": 0
}
