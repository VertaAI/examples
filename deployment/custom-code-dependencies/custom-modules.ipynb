{
 "cells": [
  {
   "cell_type": "markdown",
   "metadata": {},
   "source": [
    "# Deploying models with local dependencies on Verta\n",
    "\n",
    "Within Verta, a \"Model\" can be any arbitrary function: a traditional ML model (e.g., sklearn, PyTorch, TF, etc); a function (e.g., squaring a number, making a DB function etc.); or a mixture of the above (e.g., pre-processing code, a DB call, and then a model application.) See more [here](https://docs.verta.ai/verta/registry/concepts).\n",
    "\n",
    "This notebook provides an example of how to deploy a PyTorch model with local dependencies on Verta."
   ]
  },
  {
   "cell_type": "markdown",
   "metadata": {},
   "source": [
    "This example features:\n",
    "- **PyTorch** fully-connected neural network implemented in a separate module (`models/nets.py`)\n",
    "- **verta**'s Python client logging training results\n",
    "- **verta**'s Python client logging user-defined modules (`models/nets.py` and `utils/preprocess.py`) for deployment"
   ]
  },
  {
   "cell_type": "markdown",
   "metadata": {},
   "source": [
    "## 0. Imports"
   ]
  },
  {
   "cell_type": "code",
   "execution_count": 1,
   "metadata": {},
   "outputs": [],
   "source": [
    "from __future__ import print_function\n",
    "\n",
    "import warnings\n",
    "warnings.filterwarnings(\"ignore\", category=FutureWarning)\n",
    "\n",
    "import itertools\n",
    "import os\n",
    "import time\n",
    "\n",
    "import six\n",
    "\n",
    "import numpy as np\n",
    "import pandas as pd\n",
    "\n",
    "import torch\n",
    "import torch.optim as optim\n",
    "import torch.utils.data as data_utils"
   ]
  },
  {
   "cell_type": "markdown",
   "metadata": {},
   "source": [
    "### 0.1 Verta import and setup"
   ]
  },
  {
   "cell_type": "code",
   "execution_count": 2,
   "metadata": {},
   "outputs": [],
   "source": [
    "try:\n",
    "    import verta\n",
    "except ImportError:\n",
    "    !pip install verta"
   ]
  },
  {
   "cell_type": "code",
   "execution_count": 3,
   "metadata": {},
   "outputs": [],
   "source": [
    "import os\n",
    "\n",
    "# Ensure credentials are set up, if not, use below\n",
    "# os.environ['VERTA_EMAIL'] = \n",
    "# os.environ['VERTA_DEV_KEY'] = \n",
    "# os.environ['VERTA_HOST'] =\n",
    "\n",
    "from verta import Client\n",
    "\n",
    "client = Client(os.environ['VERTA_HOST'])"
   ]
  },
  {
   "cell_type": "markdown",
   "metadata": {},
   "source": [
    "---"
   ]
  },
  {
   "cell_type": "markdown",
   "metadata": {},
   "source": [
    "## 1. Model Training"
   ]
  },
  {
   "cell_type": "markdown",
   "metadata": {},
   "source": [
    "### 1.1 Load Training data"
   ]
  },
  {
   "cell_type": "code",
   "execution_count": 4,
   "metadata": {},
   "outputs": [],
   "source": [
    "from utils.data import load_mnist\n",
    "\n",
    "X, y = load_mnist()"
   ]
  },
  {
   "cell_type": "code",
   "execution_count": 5,
   "metadata": {},
   "outputs": [],
   "source": [
    "# gather indices to split training data into training and validation sets\n",
    "shuffled_idxs = np.random.permutation(len(y))\n",
    "idxs_train = shuffled_idxs[int(len(shuffled_idxs)/10):]  # last 90%\n",
    "idxs_val = shuffled_idxs[:int(len(shuffled_idxs)/10)]  # first 10%\n",
    "\n",
    "X_train, y_train = X[idxs_train], y[idxs_train]\n",
    "X_val, y_val = X[idxs_val], y[idxs_val]"
   ]
  },
  {
   "cell_type": "code",
   "execution_count": 6,
   "metadata": {},
   "outputs": [],
   "source": [
    "# create Dataset object to support batch training\n",
    "class TrainingDataset(data_utils.Dataset):\n",
    "    def __init__(self, features, labels):\n",
    "        self.features = features\n",
    "        self.labels = labels\n",
    "        \n",
    "    def __len__(self):\n",
    "        return len(self.labels)\n",
    "    \n",
    "    def __getitem__(self, idx):\n",
    "        return (self.features[idx], self.labels[idx])"
   ]
  },
  {
   "cell_type": "markdown",
   "metadata": {},
   "source": [
    "### 1.2 Define Model"
   ]
  },
  {
   "cell_type": "code",
   "execution_count": 7,
   "metadata": {},
   "outputs": [],
   "source": [
    "from models.nets import FullyConnected\n",
    "\n",
    "hidden_size = 512\n",
    "dropout = 0.2\n",
    "model = FullyConnected(num_features=X.shape[1], hidden_size=hidden_size, dropout=dropout)"
   ]
  },
  {
   "cell_type": "code",
   "execution_count": 8,
   "metadata": {},
   "outputs": [],
   "source": [
    "criterion = torch.nn.CrossEntropyLoss()\n",
    "optimizer = torch.optim.Adam(model.parameters())\n",
    "num_epochs = 5\n",
    "batch_size = 32"
   ]
  },
  {
   "cell_type": "markdown",
   "metadata": {},
   "source": [
    "### 1.3 Train model"
   ]
  },
  {
   "cell_type": "code",
   "execution_count": 9,
   "metadata": {},
   "outputs": [],
   "source": [
    "# enable batching of training data\n",
    "dataset = TrainingDataset(X_train, y_train)\n",
    "dataloader = data_utils.DataLoader(dataset,\n",
    "                                   batch_size=batch_size,\n",
    "                                   shuffle=True)"
   ]
  },
  {
   "cell_type": "code",
   "execution_count": 10,
   "metadata": {},
   "outputs": [],
   "source": [
    "for i_epoch in range(num_epochs):\n",
    "    for i_batch, (X_batch, y_batch) in enumerate(dataloader):\n",
    "        model.zero_grad()  # reset model gradients\n",
    "\n",
    "        output = model(X_batch)  # conduct forward pass\n",
    "\n",
    "        loss = criterion(output, y_batch)  # compare model output w/ ground truth\n",
    "        \n",
    "        print(\"\\repoch {}/{} | \".format(i_epoch+1, num_epochs), end='')\n",
    "        print(\"iteration {}/{} | \".format(i_batch+1, len(dataloader)), end='')\n",
    "        print(\"epoch loss avg: {}\".format(loss.item()), end='')\n",
    "\n",
    "        loss.backward()  # backpropogate loss to calculate gradients\n",
    "        optimizer.step()  # update model weights\n",
    "    with torch.no_grad():  # no need to calculate gradients when assessing accuracy\n",
    "        print()\n",
    "        \n",
    "        pred_train = model(X_train).numpy().argmax(axis=1)\n",
    "        train_acc = (pred_train == y_train.numpy()).mean()\n",
    "        print(\"Training accuracy: {}\".format(train_acc))\n",
    "        \n",
    "        pred_val = model(X_val).numpy().argmax(axis=1)\n",
    "        val_acc = (pred_val == y_val.numpy()).mean()\n",
    "        print(\"Validation accuracy: {}\".format(val_acc))"
   ]
  },
  {
   "cell_type": "markdown",
   "metadata": {},
   "source": [
    "## Calculate and Log Accuracy on Full Training Set"
   ]
  },
  {
   "cell_type": "code",
   "execution_count": 11,
   "metadata": {},
   "outputs": [],
   "source": [
    "with torch.no_grad():  # no need to calculate gradients when assessing accuracy\n",
    "    pred_train = model(X_train).numpy().argmax(axis=1)\n",
    "    train_acc = (pred_train == y_train.numpy()).mean()\n",
    "    print(\"Training accuracy: {}\".format(train_acc))"
   ]
  },
  {
   "cell_type": "code",
   "execution_count": 12,
   "metadata": {},
   "outputs": [],
   "source": [
    "torch.save(model, \"model.pth\")\n",
    "print(\"Saved PyTorch Model State to model.pth\")"
   ]
  },
  {
   "cell_type": "code",
   "execution_count": 13,
   "metadata": {},
   "outputs": [],
   "source": [
    "from verta.registry import VertaModelBase\n",
    "\n",
    "class MNISTClassifier(VertaModelBase):\n",
    "    def __init__(self, artifacts):\n",
    "        from models.nets import FullyConnected\n",
    "        self.model = torch.load(artifacts[\"model.pth\"])\n",
    "        self.model.eval()\n",
    "        \n",
    "    def predict(self, batch_input):\n",
    "        as_tensor = torch.FloatTensor(batch_input)\n",
    "        return self.model(as_tensor).detach().numpy()"
   ]
  },
  {
   "cell_type": "code",
   "execution_count": 14,
   "metadata": {},
   "outputs": [],
   "source": [
    "mnist_clf = MNISTClassifier(artifacts={\"model.pth\" : \"model.pth\"})\n",
    "mnist_clf.predict(X.tolist())"
   ]
  },
  {
   "cell_type": "markdown",
   "metadata": {},
   "source": [
    "---"
   ]
  },
  {
   "cell_type": "markdown",
   "metadata": {},
   "source": [
    "## 2. Register Model for deployment"
   ]
  },
  {
   "cell_type": "code",
   "execution_count": 15,
   "metadata": {},
   "outputs": [],
   "source": [
    "registered_model = client.get_or_create_registered_model(\n",
    "    name=\"mnist-custom-modules\", labels=[\"computer-vision\", \"pytorch\"])"
   ]
  },
  {
   "cell_type": "markdown",
   "metadata": {},
   "source": [
    "### `utils/preprocess.py` is used in `models/nets.py`, so it must be supplied as custom modules"
   ]
  },
  {
   "cell_type": "code",
   "execution_count": 16,
   "metadata": {},
   "outputs": [],
   "source": [
    "from verta.environment import Python\n",
    "\n",
    "model_version = registered_model.create_standard_model(\n",
    "    model_cls=MNISTClassifier,\n",
    "    environment=Python(requirements=[\"torch\"]),\n",
    "    artifacts={\"model.pth\" : \"model.pth\"},\n",
    "    name=\"v-2\",\n",
    "    code_dependencies=[\"models/nets.py\", \"utils/preprocess.py\"]\n",
    ")"
   ]
  },
  {
   "cell_type": "markdown",
   "metadata": {},
   "source": [
    "---"
   ]
  },
  {
   "cell_type": "markdown",
   "metadata": {},
   "source": [
    "## 3. Deploy model to endpoint"
   ]
  },
  {
   "cell_type": "code",
   "execution_count": 17,
   "metadata": {},
   "outputs": [],
   "source": [
    "mnist_endpoint = client.get_or_create_endpoint(\"mnist-custom-modules\")\n",
    "mnist_endpoint.update(model_version, wait=True)"
   ]
  },
  {
   "cell_type": "code",
   "execution_count": 18,
   "metadata": {},
   "outputs": [],
   "source": [
    "deployed_model = mnist_endpoint.get_deployed_model()\n",
    "deployed_model.predict(X)"
   ]
  },
  {
   "cell_type": "markdown",
   "metadata": {},
   "source": [
    "---"
   ]
  }
 ],
 "metadata": {
  "kernelspec": {
   "display_name": "Python 3",
   "language": "python",
   "name": "python3"
  },
  "language_info": {
   "codemirror_mode": {
    "name": "ipython",
    "version": 3
   },
   "file_extension": ".py",
   "mimetype": "text/x-python",
   "name": "python",
   "nbconvert_exporter": "python",
   "pygments_lexer": "ipython3",
   "version": "3.6.8"
  }
 },
 "nbformat": 4,
 "nbformat_minor": 2
}
