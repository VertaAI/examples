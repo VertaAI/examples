{
  "cells": [
    {
      "cell_type": "markdown",
      "metadata": {
        "id": "rKn_w61SNijN"
      },
      "source": [
        "# Object Detection - YOLOv5 (PyTorch)"
      ]
    },
    {
      "cell_type": "markdown",
      "metadata": {
        "id": "wvqC2djzNijQ"
      },
      "source": [
        "## 1. Dependencies"
      ]
    },
    {
      "cell_type": "markdown",
      "metadata": {
        "id": "0flMWU41BY2W"
      },
      "source": [
        "This notebook has been tested with **Python 3.8.15** and the following package versions:"
      ]
    },
    {
      "cell_type": "code",
      "execution_count": null,
      "metadata": {
        "id": "2T-GZ3zUNijQ"
      },
      "outputs": [],
      "source": [
        "%%capture\n",
        "!pip install GitPython==3.1.29\n",
        "!pip install ipython==7.9.0\n",
        "!pip install verta==0.21.1"
      ]
    },
    {
      "cell_type": "markdown",
      "metadata": {
        "id": "CtIgsA4aB2ga"
      },
      "source": [
        "## 2. Imports"
      ]
    },
    {
      "cell_type": "code",
      "execution_count": null,
      "metadata": {
        "id": "7SuugL_lOuaN"
      },
      "outputs": [],
      "source": [
        "import cloudpickle\n",
        "import concurrent.futures\n",
        "import json\n",
        "import os\n",
        "import pandas as pd\n",
        "import time\n",
        "import torch\n",
        "\n",
        "from verta import Client\n",
        "from verta.endpoint.autoscaling import Autoscaling\n",
        "from verta.endpoint.autoscaling.metrics import CpuUtilizationTarget, MemoryUtilizationTarget, RequestsPerWorkerTarget\n",
        "from verta.endpoint.resources import Resources\n",
        "from verta.environment import Python\n",
        "from verta.registry import VertaModelBase, verify_io"
      ]
    },
    {
      "cell_type": "markdown",
      "metadata": {
        "id": "LB20pSYuXcCD"
      },
      "source": [
        "## 3. Verta Set Up"
      ]
    },
    {
      "cell_type": "code",
      "execution_count": null,
      "metadata": {
        "id": "hGwbnFGlXgJh"
      },
      "outputs": [],
      "source": [
        "# Use local env vars or uncomment and fill out the lines below:\n",
        "# os.environ['VERTA_EMAIL'] = ''\n",
        "# os.environ['VERTA_DEV_KEY'] = ''\n",
        "# os.environ['VERTA_HOST'] = ''"
      ]
    },
    {
      "cell_type": "code",
      "execution_count": null,
      "metadata": {
        "colab": {
          "base_uri": "https://localhost:8080/"
        },
        "id": "wVcbn1_3Xhtm",
        "outputId": "690f7584-b7cf-45fd-b2db-e0306573c0d5"
      },
      "outputs": [],
      "source": [
        "client = Client()"
      ]
    },
    {
      "cell_type": "code",
      "execution_count": null,
      "metadata": {},
      "outputs": [],
      "source": [
        "MODEL_NAME = 'Object Detection - PyTorch (Example)'\n",
        "VERSION = 'v0'\n",
        "ENDPOINT_NAME = 'object-detection-pytorch'"
      ]
    },
    {
      "cell_type": "markdown",
      "metadata": {
        "id": "5bBHXvKnX_Je"
      },
      "source": [
        "## 4. Model Class"
      ]
    },
    {
      "cell_type": "code",
      "execution_count": null,
      "metadata": {
        "id": "o3YNlqVMEi6c"
      },
      "outputs": [],
      "source": [
        "class Predictor(VertaModelBase):\n",
        "    def __init__(self, artifacts=None):\n",
        "        self.model = torch.hub.load('ultralytics/yolov5', 'yolov5s', pretrained=True, trust_repo=True)\n",
        "    \n",
        "    @verify_io\n",
        "    def predict(self, urls):\n",
        "        result = self.model(urls)\n",
        "        file_names, img_data = result.files, result.pandas().xyxy\n",
        "        img_data = [boxes_df.to_dict('records') for boxes_df in img_data]\n",
        "\n",
        "        return list(zip(file_names, img_data))\n",
        "\n",
        "    def describe(self):\n",
        "        return {\n",
        "            'method': 'predict',\n",
        "            'args': f\"{self.example()}\",\n",
        "            'returns': '[0]',\n",
        "            'description': 'Identifies objects present in the images.',\n",
        "            'input_description': 'List of image URLs.',\n",
        "            'output_description': 'List with identified objects information.'\n",
        "        }\n",
        "        \n",
        "    def example(self):\n",
        "        return [\n",
        "            'http://www.cs.ucf.edu/~aroshan/index_files/Dataset_PitOrlManh/images/000001_0.jpg',\n",
        "            'http://www.cs.ucf.edu/~aroshan/index_files/Dataset_PitOrlManh/images/000001_1.jpg'\n",
        "        ]"
      ]
    },
    {
      "cell_type": "markdown",
      "metadata": {
        "id": "fVQiC8lddaHG"
      },
      "source": [
        "## 5. Model Test"
      ]
    },
    {
      "cell_type": "code",
      "execution_count": null,
      "metadata": {
        "colab": {
          "base_uri": "https://localhost:8080/",
          "height": 188,
          "referenced_widgets": [
            "42bf39898c054de1806a72099b545701",
            "14e7d2631cf649a89f2a9c8450047b35",
            "9427cc2d394442029ee7048c2ae0a3f1",
            "c79b2bb0b57d44d6b71fab0e6e64bd17",
            "5063ff0602d84402928fbf4c293231bb",
            "e29732b00446408ab92afe6ee38275e8",
            "27e4eed35af841df89c17c43a335eeed",
            "36c46603a6b345a0bca0dca0e20dd7c4",
            "2a70c21ab52a4e9790665f9122b41c07",
            "c998a1171d1c450787bdf6f65ee64a32",
            "fe7ad8a88213430aacd82e23a6e50e66"
          ]
        },
        "id": "r4NsgWONdZSd",
        "outputId": "3921e9a6-04ff-4b7f-c30b-76e1400d4a72"
      },
      "outputs": [],
      "source": [
        "model = Predictor()"
      ]
    },
    {
      "cell_type": "code",
      "execution_count": null,
      "metadata": {
        "id": "-SqcmVPVeJHk"
      },
      "outputs": [],
      "source": [
        "results = model.predict(model.example())"
      ]
    },
    {
      "cell_type": "code",
      "execution_count": null,
      "metadata": {
        "id": "7rDcSh-adTJO"
      },
      "outputs": [],
      "source": [
        "df_results = []\n",
        "\n",
        "for item in results:\n",
        "    file_name, img_data = item[0], item[1]\n",
        "    df = pd.DataFrame.from_dict(img_data)\n",
        "    df['file'] = file_name\n",
        "    df_results.append(df)"
      ]
    },
    {
      "cell_type": "code",
      "execution_count": null,
      "metadata": {
        "colab": {
          "base_uri": "https://localhost:8080/",
          "height": 363
        },
        "id": "wbM7Hpx3al1t",
        "outputId": "317b8131-2d67-4e86-bd31-f824b37619c5"
      },
      "outputs": [],
      "source": [
        "pd.DataFrame(pd.concat(df_results)).head()"
      ]
    },
    {
      "cell_type": "markdown",
      "metadata": {
        "id": "5SvthV9gd4lk"
      },
      "source": [
        "## 6. Model Register"
      ]
    },
    {
      "cell_type": "code",
      "execution_count": null,
      "metadata": {
        "colab": {
          "base_uri": "https://localhost:8080/"
        },
        "id": "UR7XtPNOHTgO",
        "outputId": "d159fc5c-0fa7-4293-805b-1a0e7ca4fe0a"
      },
      "outputs": [],
      "source": [
        "registered_model = client.get_or_create_registered_model(name=MODEL_NAME)"
      ]
    },
    {
      "cell_type": "code",
      "execution_count": null,
      "metadata": {
        "colab": {
          "base_uri": "https://localhost:8080/"
        },
        "id": "-RctZHJ8MMi5",
        "outputId": "c2213fc9-d1fc-4b1c-f5aa-1286c094a9a7"
      },
      "outputs": [],
      "source": [
        "model = registered_model.create_standard_model(\n",
        "    name = VERSION,\n",
        "    model_cls = Predictor,\n",
        "    environment = Python(requirements=[\n",
        "        \"Pillow == 9.3.0\",\n",
        "        \"cloudpickle == 2.2.0\",\n",
        "        \"ipython == 8.7.0\",\n",
        "        \"matplotlib == 3.6.2\",\n",
        "        \"opencv-python-headless == 4.6.0.66\",\n",
        "        \"psutil == 5.9.4\",\n",
        "        \"seaborn == 0.12.1\",\n",
        "        \"torch == 1.13.0\",\n",
        "        \"torchvision == 0.14.0\",\n",
        "        \"transformers == 4.25.1\",\n",
        "        \"verta == 0.21.1\",\n",
        "    ])\n",
        ")"
      ]
    },
    {
      "cell_type": "markdown",
      "metadata": {
        "id": "60NCs0j8KHvg"
      },
      "source": [
        "## 7. Auto Scaling and Resources"
      ]
    },
    {
      "cell_type": "code",
      "execution_count": null,
      "metadata": {
        "id": "LBLEtVauKBNP"
      },
      "outputs": [],
      "source": [
        "autoscaling = Autoscaling(min_replicas=1, max_replicas=20, min_scale=0.1, max_scale=10)\n",
        "autoscaling.add_metric(CpuUtilizationTarget(0.6))\n",
        "autoscaling.add_metric(MemoryUtilizationTarget(0.7))\n",
        "autoscaling.add_metric(RequestsPerWorkerTarget(1))\n",
        "resources = Resources(cpu=2., memory='12Gi')     "
      ]
    },
    {
      "cell_type": "markdown",
      "metadata": {
        "id": "Y0gm6fOse6BP"
      },
      "source": [
        "## 8. Model Endpoint"
      ]
    },
    {
      "cell_type": "code",
      "execution_count": null,
      "metadata": {
        "id": "wZi8X-LoCORa"
      },
      "outputs": [],
      "source": [
        "endpoint = client.get_or_create_endpoint(ENDPOINT_NAME)"
      ]
    },
    {
      "cell_type": "code",
      "execution_count": null,
      "metadata": {
        "id": "F4-9M2_xKF7R"
      },
      "outputs": [],
      "source": [
        "torch_cache_env = {'TORCH_HOME': '/tmp'}"
      ]
    },
    {
      "cell_type": "code",
      "execution_count": null,
      "metadata": {
        "colab": {
          "base_uri": "https://localhost:8080/"
        },
        "id": "OHLC3QefHeFw",
        "outputId": "c8af5b4d-621b-4cd3-f8bb-aa46a9d9b653"
      },
      "outputs": [],
      "source": [
        "%%time\n",
        "endpoint.update(\n",
        "    model,\n",
        "    autoscaling = autoscaling,\n",
        "    resources = resources,\n",
        "    env_vars = torch_cache_env,\n",
        "    wait = True\n",
        ")"
      ]
    },
    {
      "cell_type": "code",
      "execution_count": null,
      "metadata": {
        "id": "p7x7dfWoCNxK"
      },
      "outputs": [],
      "source": [
        "deployed_model = endpoint.get_deployed_model()"
      ]
    },
    {
      "attachments": {},
      "cell_type": "markdown",
      "metadata": {},
      "source": [
        "## 9. Predictions"
      ]
    },
    {
      "cell_type": "code",
      "execution_count": null,
      "metadata": {
        "id": "4nS6rzzyK58c"
      },
      "outputs": [],
      "source": [
        "def process_image(url):\n",
        "    return deployed_model.predict([url])"
      ]
    },
    {
      "cell_type": "code",
      "execution_count": null,
      "metadata": {
        "id": "gH_5iPC84jmu"
      },
      "outputs": [],
      "source": [
        "urls = [\n",
        "    'http://www.cs.ucf.edu/~aroshan/index_files/Dataset_PitOrlManh/images/000001_0.jpg',\n",
        "    'http://www.cs.ucf.edu/~aroshan/index_files/Dataset_PitOrlManh/images/000001_1.jpg',\n",
        "    'http://www.cs.ucf.edu/~aroshan/index_files/Dataset_PitOrlManh/images/000001_2.jpg',\n",
        "    'http://www.cs.ucf.edu/~aroshan/index_files/Dataset_PitOrlManh/images/000001_3.jpg',\n",
        "    'http://www.cs.ucf.edu/~aroshan/index_files/Dataset_PitOrlManh/images/000001_4.jpg',\n",
        "    'http://www.cs.ucf.edu/~aroshan/index_files/Dataset_PitOrlManh/images/000001_5.jpg'\n",
        "]"
      ]
    },
    {
      "cell_type": "code",
      "execution_count": null,
      "metadata": {
        "id": "XOKZr5qBJqup"
      },
      "outputs": [],
      "source": [
        "results = []\n",
        "start_time = time.time()\n",
        "\n",
        "with concurrent.futures.ThreadPoolExecutor() as executor:\n",
        "    for result in executor.map(process_image, urls):\n",
        "        results.append(result)\n",
        "        \n",
        "end_time = time.time()"
      ]
    },
    {
      "cell_type": "code",
      "execution_count": null,
      "metadata": {
        "id": "pi546PBJJqj9"
      },
      "outputs": [],
      "source": [
        "total_time = end_time - start_time\n",
        "total_time = time.strftime('%Hh %Mm %Ss', time.gmtime(total_time))"
      ]
    },
    {
      "cell_type": "code",
      "execution_count": null,
      "metadata": {
        "colab": {
          "base_uri": "https://localhost:8080/"
        },
        "id": "WSIMswsbW5Ic",
        "outputId": "eb5c1585-64ae-45b6-d279-9575f12dfe90"
      },
      "outputs": [],
      "source": [
        "print(f\"Processing Time: {total_time} for {len(urls)} URLs.\")"
      ]
    },
    {
      "cell_type": "code",
      "execution_count": null,
      "metadata": {
        "id": "VeV_oVzddA0m"
      },
      "outputs": [],
      "source": [
        "df_results = []\n",
        "\n",
        "for item in results:\n",
        "    file_name, img_data = item[0][0], item[0][1]\n",
        "    df = pd.DataFrame.from_dict(img_data)\n",
        "    df['file'] = file_name\n",
        "    df_results.append(df)"
      ]
    },
    {
      "cell_type": "code",
      "execution_count": null,
      "metadata": {
        "id": "GT8N1NXskgwh"
      },
      "outputs": [],
      "source": [
        "df_result = pd.concat(df_results)"
      ]
    },
    {
      "cell_type": "code",
      "execution_count": null,
      "metadata": {
        "colab": {
          "base_uri": "https://localhost:8080/",
          "height": 424
        },
        "id": "eKrN1Sp_kVJ9",
        "outputId": "2942719d-5c17-4660-a60f-36261bc4372d"
      },
      "outputs": [],
      "source": [
        "df_result"
      ]
    },
    {
      "cell_type": "code",
      "execution_count": null,
      "metadata": {
        "id": "ax1y4fEdLlLJ"
      },
      "outputs": [],
      "source": [
        "endpoint.delete()"
      ]
    }
  ],
  "metadata": {
    "colab": {
      "provenance": []
    },
    "kernelspec": {
      "display_name": "Python 3",
      "language": "python",
      "name": "python3"
    },
    "language_info": {
      "codemirror_mode": {
        "name": "ipython",
        "version": 3
      },
      "file_extension": ".py",
      "mimetype": "text/x-python",
      "name": "python",
      "nbconvert_exporter": "python",
      "pygments_lexer": "ipython3",
      "version": "3.10.6 (main, Nov 14 2022, 16:10:14) [GCC 11.3.0]"
    },
    "vscode": {
      "interpreter": {
        "hash": "916dbcbb3f70747c44a77c7bcd40155683ae19c65e1c03b4aa3499c5328201f1"
      }
    },
    "widgets": {
      "application/vnd.jupyter.widget-state+json": {
        "14e7d2631cf649a89f2a9c8450047b35": {
          "model_module": "@jupyter-widgets/controls",
          "model_module_version": "1.5.0",
          "model_name": "HTMLModel",
          "state": {
            "_dom_classes": [],
            "_model_module": "@jupyter-widgets/controls",
            "_model_module_version": "1.5.0",
            "_model_name": "HTMLModel",
            "_view_count": null,
            "_view_module": "@jupyter-widgets/controls",
            "_view_module_version": "1.5.0",
            "_view_name": "HTMLView",
            "description": "",
            "description_tooltip": null,
            "layout": "IPY_MODEL_e29732b00446408ab92afe6ee38275e8",
            "placeholder": "​",
            "style": "IPY_MODEL_27e4eed35af841df89c17c43a335eeed",
            "value": "100%"
          }
        },
        "27e4eed35af841df89c17c43a335eeed": {
          "model_module": "@jupyter-widgets/controls",
          "model_module_version": "1.5.0",
          "model_name": "DescriptionStyleModel",
          "state": {
            "_model_module": "@jupyter-widgets/controls",
            "_model_module_version": "1.5.0",
            "_model_name": "DescriptionStyleModel",
            "_view_count": null,
            "_view_module": "@jupyter-widgets/base",
            "_view_module_version": "1.2.0",
            "_view_name": "StyleView",
            "description_width": ""
          }
        },
        "2a70c21ab52a4e9790665f9122b41c07": {
          "model_module": "@jupyter-widgets/controls",
          "model_module_version": "1.5.0",
          "model_name": "ProgressStyleModel",
          "state": {
            "_model_module": "@jupyter-widgets/controls",
            "_model_module_version": "1.5.0",
            "_model_name": "ProgressStyleModel",
            "_view_count": null,
            "_view_module": "@jupyter-widgets/base",
            "_view_module_version": "1.2.0",
            "_view_name": "StyleView",
            "bar_color": null,
            "description_width": ""
          }
        },
        "36c46603a6b345a0bca0dca0e20dd7c4": {
          "model_module": "@jupyter-widgets/base",
          "model_module_version": "1.2.0",
          "model_name": "LayoutModel",
          "state": {
            "_model_module": "@jupyter-widgets/base",
            "_model_module_version": "1.2.0",
            "_model_name": "LayoutModel",
            "_view_count": null,
            "_view_module": "@jupyter-widgets/base",
            "_view_module_version": "1.2.0",
            "_view_name": "LayoutView",
            "align_content": null,
            "align_items": null,
            "align_self": null,
            "border": null,
            "bottom": null,
            "display": null,
            "flex": null,
            "flex_flow": null,
            "grid_area": null,
            "grid_auto_columns": null,
            "grid_auto_flow": null,
            "grid_auto_rows": null,
            "grid_column": null,
            "grid_gap": null,
            "grid_row": null,
            "grid_template_areas": null,
            "grid_template_columns": null,
            "grid_template_rows": null,
            "height": null,
            "justify_content": null,
            "justify_items": null,
            "left": null,
            "margin": null,
            "max_height": null,
            "max_width": null,
            "min_height": null,
            "min_width": null,
            "object_fit": null,
            "object_position": null,
            "order": null,
            "overflow": null,
            "overflow_x": null,
            "overflow_y": null,
            "padding": null,
            "right": null,
            "top": null,
            "visibility": null,
            "width": null
          }
        },
        "42bf39898c054de1806a72099b545701": {
          "model_module": "@jupyter-widgets/controls",
          "model_module_version": "1.5.0",
          "model_name": "HBoxModel",
          "state": {
            "_dom_classes": [],
            "_model_module": "@jupyter-widgets/controls",
            "_model_module_version": "1.5.0",
            "_model_name": "HBoxModel",
            "_view_count": null,
            "_view_module": "@jupyter-widgets/controls",
            "_view_module_version": "1.5.0",
            "_view_name": "HBoxView",
            "box_style": "",
            "children": [
              "IPY_MODEL_14e7d2631cf649a89f2a9c8450047b35",
              "IPY_MODEL_9427cc2d394442029ee7048c2ae0a3f1",
              "IPY_MODEL_c79b2bb0b57d44d6b71fab0e6e64bd17"
            ],
            "layout": "IPY_MODEL_5063ff0602d84402928fbf4c293231bb"
          }
        },
        "5063ff0602d84402928fbf4c293231bb": {
          "model_module": "@jupyter-widgets/base",
          "model_module_version": "1.2.0",
          "model_name": "LayoutModel",
          "state": {
            "_model_module": "@jupyter-widgets/base",
            "_model_module_version": "1.2.0",
            "_model_name": "LayoutModel",
            "_view_count": null,
            "_view_module": "@jupyter-widgets/base",
            "_view_module_version": "1.2.0",
            "_view_name": "LayoutView",
            "align_content": null,
            "align_items": null,
            "align_self": null,
            "border": null,
            "bottom": null,
            "display": null,
            "flex": null,
            "flex_flow": null,
            "grid_area": null,
            "grid_auto_columns": null,
            "grid_auto_flow": null,
            "grid_auto_rows": null,
            "grid_column": null,
            "grid_gap": null,
            "grid_row": null,
            "grid_template_areas": null,
            "grid_template_columns": null,
            "grid_template_rows": null,
            "height": null,
            "justify_content": null,
            "justify_items": null,
            "left": null,
            "margin": null,
            "max_height": null,
            "max_width": null,
            "min_height": null,
            "min_width": null,
            "object_fit": null,
            "object_position": null,
            "order": null,
            "overflow": null,
            "overflow_x": null,
            "overflow_y": null,
            "padding": null,
            "right": null,
            "top": null,
            "visibility": null,
            "width": null
          }
        },
        "9427cc2d394442029ee7048c2ae0a3f1": {
          "model_module": "@jupyter-widgets/controls",
          "model_module_version": "1.5.0",
          "model_name": "FloatProgressModel",
          "state": {
            "_dom_classes": [],
            "_model_module": "@jupyter-widgets/controls",
            "_model_module_version": "1.5.0",
            "_model_name": "FloatProgressModel",
            "_view_count": null,
            "_view_module": "@jupyter-widgets/controls",
            "_view_module_version": "1.5.0",
            "_view_name": "ProgressView",
            "bar_style": "success",
            "description": "",
            "description_tooltip": null,
            "layout": "IPY_MODEL_36c46603a6b345a0bca0dca0e20dd7c4",
            "max": 14808437,
            "min": 0,
            "orientation": "horizontal",
            "style": "IPY_MODEL_2a70c21ab52a4e9790665f9122b41c07",
            "value": 14808437
          }
        },
        "c79b2bb0b57d44d6b71fab0e6e64bd17": {
          "model_module": "@jupyter-widgets/controls",
          "model_module_version": "1.5.0",
          "model_name": "HTMLModel",
          "state": {
            "_dom_classes": [],
            "_model_module": "@jupyter-widgets/controls",
            "_model_module_version": "1.5.0",
            "_model_name": "HTMLModel",
            "_view_count": null,
            "_view_module": "@jupyter-widgets/controls",
            "_view_module_version": "1.5.0",
            "_view_name": "HTMLView",
            "description": "",
            "description_tooltip": null,
            "layout": "IPY_MODEL_c998a1171d1c450787bdf6f65ee64a32",
            "placeholder": "​",
            "style": "IPY_MODEL_fe7ad8a88213430aacd82e23a6e50e66",
            "value": " 14.1M/14.1M [00:00&lt;00:00, 74.4MB/s]"
          }
        },
        "c998a1171d1c450787bdf6f65ee64a32": {
          "model_module": "@jupyter-widgets/base",
          "model_module_version": "1.2.0",
          "model_name": "LayoutModel",
          "state": {
            "_model_module": "@jupyter-widgets/base",
            "_model_module_version": "1.2.0",
            "_model_name": "LayoutModel",
            "_view_count": null,
            "_view_module": "@jupyter-widgets/base",
            "_view_module_version": "1.2.0",
            "_view_name": "LayoutView",
            "align_content": null,
            "align_items": null,
            "align_self": null,
            "border": null,
            "bottom": null,
            "display": null,
            "flex": null,
            "flex_flow": null,
            "grid_area": null,
            "grid_auto_columns": null,
            "grid_auto_flow": null,
            "grid_auto_rows": null,
            "grid_column": null,
            "grid_gap": null,
            "grid_row": null,
            "grid_template_areas": null,
            "grid_template_columns": null,
            "grid_template_rows": null,
            "height": null,
            "justify_content": null,
            "justify_items": null,
            "left": null,
            "margin": null,
            "max_height": null,
            "max_width": null,
            "min_height": null,
            "min_width": null,
            "object_fit": null,
            "object_position": null,
            "order": null,
            "overflow": null,
            "overflow_x": null,
            "overflow_y": null,
            "padding": null,
            "right": null,
            "top": null,
            "visibility": null,
            "width": null
          }
        },
        "e29732b00446408ab92afe6ee38275e8": {
          "model_module": "@jupyter-widgets/base",
          "model_module_version": "1.2.0",
          "model_name": "LayoutModel",
          "state": {
            "_model_module": "@jupyter-widgets/base",
            "_model_module_version": "1.2.0",
            "_model_name": "LayoutModel",
            "_view_count": null,
            "_view_module": "@jupyter-widgets/base",
            "_view_module_version": "1.2.0",
            "_view_name": "LayoutView",
            "align_content": null,
            "align_items": null,
            "align_self": null,
            "border": null,
            "bottom": null,
            "display": null,
            "flex": null,
            "flex_flow": null,
            "grid_area": null,
            "grid_auto_columns": null,
            "grid_auto_flow": null,
            "grid_auto_rows": null,
            "grid_column": null,
            "grid_gap": null,
            "grid_row": null,
            "grid_template_areas": null,
            "grid_template_columns": null,
            "grid_template_rows": null,
            "height": null,
            "justify_content": null,
            "justify_items": null,
            "left": null,
            "margin": null,
            "max_height": null,
            "max_width": null,
            "min_height": null,
            "min_width": null,
            "object_fit": null,
            "object_position": null,
            "order": null,
            "overflow": null,
            "overflow_x": null,
            "overflow_y": null,
            "padding": null,
            "right": null,
            "top": null,
            "visibility": null,
            "width": null
          }
        },
        "fe7ad8a88213430aacd82e23a6e50e66": {
          "model_module": "@jupyter-widgets/controls",
          "model_module_version": "1.5.0",
          "model_name": "DescriptionStyleModel",
          "state": {
            "_model_module": "@jupyter-widgets/controls",
            "_model_module_version": "1.5.0",
            "_model_name": "DescriptionStyleModel",
            "_view_count": null,
            "_view_module": "@jupyter-widgets/base",
            "_view_module_version": "1.2.0",
            "_view_name": "StyleView",
            "description_width": ""
          }
        }
      }
    }
  },
  "nbformat": 4,
  "nbformat_minor": 0
}
