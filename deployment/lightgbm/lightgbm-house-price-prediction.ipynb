{
  "cells": [
    {
      "cell_type": "markdown",
      "metadata": {
        "id": "OYeOOHxzLloH"
      },
      "source": [
        "# House Price Prediction with LightGBM"
      ]
    },
    {
      "cell_type": "markdown",
      "metadata": {
        "id": "1UsA7bpn__yG"
      },
      "source": [
        "<a href=\"https://colab.research.google.com/github/VertaAI/examples/blob/main/deployment/lightgbm/lightgbm-house-price-prediction.ipynb\" target=\"_parent\"><img src=\"https://colab.research.google.com/assets/colab-badge.svg\" alt=\"Open In Colab\"/></a>"
      ]
    },
    {
      "cell_type": "markdown",
      "metadata": {
        "id": "ZbTdoU43LuKl"
      },
      "source": [
        "## 1. Dependencies"
      ]
    },
    {
      "cell_type": "markdown",
      "metadata": {
        "id": "2W5agEEKLxXF"
      },
      "source": [
        "This notebook has been tested with **Python 3.8.16** and the following package versions:"
      ]
    },
    {
      "cell_type": "code",
      "execution_count": null,
      "metadata": {
        "id": "xLL2_0YwD8Di"
      },
      "outputs": [],
      "source": [
        "%%capture\n",
        "!pip install lightgbm==2.2.3\n",
        "!pip install scikit-learn==1.0.2\n",
        "!pip install verta==0.21.1\n",
        "!pip install wget==3.2"
      ]
    },
    {
      "cell_type": "markdown",
      "metadata": {
        "id": "ii4WV2goMTUd"
      },
      "source": [
        "## 2. Imports"
      ]
    },
    {
      "cell_type": "code",
      "execution_count": null,
      "metadata": {
        "id": "4s_HPzndBl27"
      },
      "outputs": [],
      "source": [
        "import cloudpickle\n",
        "import lightgbm as lgb\n",
        "import os\n",
        "import pandas as pd\n",
        "import wget\n",
        "\n",
        "from sklearn.metrics import mean_absolute_error, mean_squared_error\n",
        "from sklearn.model_selection import train_test_split\n",
        "from verta import Client\n",
        "from verta.environment import Python\n",
        "from verta.registry import VertaModelBase, verify_io\n",
        "from verta.utils import ModelAPI"
      ]
    },
    {
      "cell_type": "markdown",
      "metadata": {
        "id": "eDFR4ydkGpFZ"
      },
      "source": [
        "## 3. Model Training"
      ]
    },
    {
      "cell_type": "markdown",
      "metadata": {
        "id": "tt6bgqPwMaFU"
      },
      "source": [
        "### 3.1 Load Training Data"
      ]
    },
    {
      "cell_type": "code",
      "execution_count": null,
      "metadata": {
        "id": "lAu7KJtPGHIV"
      },
      "outputs": [],
      "source": [
        "file_name = 'melb-data.csv'\n",
        "\n",
        "if not os.path.isfile(file_name):\n",
        "    wget.download(f\"http://s3.amazonaws.com/verta-starter/{file_name}\")\n",
        "\n",
        "df = pd.read_csv(file_name)"
      ]
    },
    {
      "cell_type": "code",
      "execution_count": null,
      "metadata": {
        "id": "Gun_fV6eGsd4"
      },
      "outputs": [],
      "source": [
        "df = df.dropna(axis=0)"
      ]
    },
    {
      "cell_type": "code",
      "execution_count": null,
      "metadata": {
        "id": "e1IYdDyoGtwS"
      },
      "outputs": [],
      "source": [
        "target_col = 'Price'\n",
        "feature_cols = ['Rooms', 'Bathroom', 'Landsize', 'BuildingArea', 'Distance', 'YearBuilt', 'Car', 'Propertycount']"
      ]
    },
    {
      "cell_type": "code",
      "execution_count": null,
      "metadata": {
        "id": "RIWwSDAZGvMy"
      },
      "outputs": [],
      "source": [
        "X = df.loc[:,feature_cols]\n",
        "y = df.loc[:,target_col]"
      ]
    },
    {
      "cell_type": "code",
      "execution_count": null,
      "metadata": {
        "id": "C0h7Vw-PGwcD"
      },
      "outputs": [],
      "source": [
        "X_train, X_test, y_train, y_test = train_test_split(X, y, random_state=0)"
      ]
    },
    {
      "cell_type": "code",
      "execution_count": null,
      "metadata": {
        "id": "LdH7-gFEIYLF"
      },
      "outputs": [],
      "source": [
        "lgb_train = lgb.Dataset(X_train, y_train)"
      ]
    },
    {
      "cell_type": "code",
      "execution_count": null,
      "metadata": {
        "id": "sqm0isC2NZyD"
      },
      "outputs": [],
      "source": [
        "lgb_eval = lgb.Dataset(X_test, y_test, reference=lgb_train)"
      ]
    },
    {
      "cell_type": "markdown",
      "metadata": {
        "id": "gNeuhIKSMeUY"
      },
      "source": [
        "### 3.2 Train/Test Code"
      ]
    },
    {
      "cell_type": "code",
      "execution_count": null,
      "metadata": {
        "id": "wmgbsh7sJrA3"
      },
      "outputs": [],
      "source": [
        "params = {\n",
        "    'boosting_type': 'gbdt',\n",
        "    'objective': 'regression',\n",
        "    'metric': {'l2', 'l1'},\n",
        "    'num_leaves': 31,\n",
        "    'learning_rate': 0.05,\n",
        "    'feature_fraction': 0.9,\n",
        "    'bagging_fraction': 0.8,\n",
        "    'bagging_freq': 5,\n",
        "    'verbose': 0\n",
        "}"
      ]
    },
    {
      "cell_type": "code",
      "execution_count": null,
      "metadata": {
        "colab": {
          "base_uri": "https://localhost:8080/"
        },
        "id": "7TIE5fwEJ7OJ",
        "outputId": "d721d7e7-cb99-4952-cafa-2a1f45fd391d"
      },
      "outputs": [],
      "source": [
        "gbm = lgb.train(\n",
        "    params,\n",
        "    lgb_train,\n",
        "    num_boost_round = 200,\n",
        "    valid_sets = lgb_eval,\n",
        "    callbacks = [lgb.early_stopping(stopping_rounds = 5)]\n",
        ")"
      ]
    },
    {
      "cell_type": "code",
      "execution_count": null,
      "metadata": {
        "id": "Gj8pVhlFKBRr"
      },
      "outputs": [],
      "source": [
        "y_pred = gbm.predict(X_test)"
      ]
    },
    {
      "cell_type": "code",
      "execution_count": null,
      "metadata": {
        "id": "qoI0lnidLF9Z"
      },
      "outputs": [],
      "source": [
        "MAE = mean_absolute_error(y_test, y_pred)\n",
        "MSE = mean_squared_error(y_test, y_pred)\n",
        "RMSE = mean_squared_error(y_test, y_pred, squared=False) "
      ]
    },
    {
      "cell_type": "code",
      "execution_count": null,
      "metadata": {
        "colab": {
          "base_uri": "https://localhost:8080/"
        },
        "id": "I56DHbNWKO6f",
        "outputId": "f9e6a07c-f043-4d65-d771-c2ddb73efbf6"
      },
      "outputs": [],
      "source": [
        "print(f\"MAE: {round(MAE, 3)}\")\n",
        "print(f\"MSE: {round(MSE, 3)}\")\n",
        "print(f\"RMSE: {round(RMSE, 3)}\")"
      ]
    },
    {
      "cell_type": "markdown",
      "metadata": {
        "id": "mgHTMvw4QlAq"
      },
      "source": [
        "## 4. Verta Set Up"
      ]
    },
    {
      "cell_type": "code",
      "execution_count": null,
      "metadata": {
        "id": "S0IjH5jEQCIs"
      },
      "outputs": [],
      "source": [
        "os.environ['VERTA_HOST'] = ''\n",
        "os.environ['VERTA_EMAIL'] = ''\n",
        "os.environ['VERTA_DEV_KEY'] = ''"
      ]
    },
    {
      "cell_type": "code",
      "execution_count": null,
      "metadata": {
        "colab": {
          "base_uri": "https://localhost:8080/"
        },
        "id": "CnIEpTSwQGd1",
        "outputId": "7a3775cc-361f-4f9b-d37e-254d6697c51e"
      },
      "outputs": [],
      "source": [
        "client = Client(os.environ['VERTA_HOST'])"
      ]
    },
    {
      "cell_type": "markdown",
      "metadata": {
        "id": "eNAUDlQmQovE"
      },
      "source": [
        "## 5. Model Register"
      ]
    },
    {
      "cell_type": "code",
      "execution_count": null,
      "metadata": {
        "id": "Y8Uvjv_bQqhm"
      },
      "outputs": [],
      "source": [
        "with open('model.pkl', 'wb') as f:\n",
        "    cloudpickle.dump(gbm, f)"
      ]
    },
    {
      "cell_type": "code",
      "execution_count": null,
      "metadata": {
        "id": "V9dhdR25QuuQ"
      },
      "outputs": [],
      "source": [
        "class Predictor(VertaModelBase):\n",
        "    def __init__(self, artifacts):\n",
        "        self.model = cloudpickle.load(open(artifacts['serialized_model'], 'rb'))\n",
        "    \n",
        "    @verify_io\n",
        "    def predict(self, data):\n",
        "        return self.model.predict(data).tolist()\n",
        "\n",
        "    def describe(self):\n",
        "        return {\n",
        "            'method': 'predict',\n",
        "            'args': f\"{self.example()}\",\n",
        "            'returns': '[0]',\n",
        "            'description': 'Predicts house prices based on LightGBM trained model.',\n",
        "            'input_description': 'List of house information, such as number of rooms, building area, land size, etc.',\n",
        "            'output_description': 'House price prediction.'\n",
        "        }\n",
        "        \n",
        "    def example(self):\n",
        "        return [[3.0, 1.0, 206.0, 110.0, 8.4, 1980.0, 1.0, 8801.0]]"
      ]
    },
    {
      "cell_type": "code",
      "execution_count": null,
      "metadata": {
        "id": "6T8uAo2fQy9J"
      },
      "outputs": [],
      "source": [
        "artifacts = {'serialized_model': 'model.pkl'}"
      ]
    },
    {
      "cell_type": "code",
      "execution_count": null,
      "metadata": {
        "colab": {
          "base_uri": "https://localhost:8080/"
        },
        "id": "-e9vkQILQ1H2",
        "outputId": "d8ebc1de-9ede-4ed4-99e8-4821658eb2ba"
      },
      "outputs": [],
      "source": [
        "registered_model = client.get_or_create_registered_model(name='House Price Prediction')"
      ]
    },
    {
      "cell_type": "code",
      "execution_count": null,
      "metadata": {
        "colab": {
          "base_uri": "https://localhost:8080/"
        },
        "id": "85cbJc3VRAkU",
        "outputId": "30801f82-35ba-4f3a-9ef6-788dbf248c05"
      },
      "outputs": [],
      "source": [
        "model = registered_model.create_standard_model(\n",
        "    name = 'lightgbm',\n",
        "    model_cls = Predictor,\n",
        "    environment = Python(requirements=['scikit-learn', 'lightgbm']),\n",
        "    model_api = ModelAPI(X_train, y_train),\n",
        "    artifacts = artifacts\n",
        ")"
      ]
    },
    {
      "cell_type": "markdown",
      "metadata": {
        "id": "f4jpOPlqQouG"
      },
      "source": [
        "## 6. Model Endpoint"
      ]
    },
    {
      "cell_type": "code",
      "execution_count": null,
      "metadata": {
        "id": "hixy1I8uRGI6"
      },
      "outputs": [],
      "source": [
        "endpoint = client.get_or_create_endpoint('house-price-prediction-lightgbm')"
      ]
    },
    {
      "cell_type": "code",
      "execution_count": null,
      "metadata": {
        "colab": {
          "base_uri": "https://localhost:8080/"
        },
        "id": "HPWWwP1jRJ4M",
        "outputId": "270c50f0-b3f0-455b-af8d-7093db1ee57f"
      },
      "outputs": [],
      "source": [
        "endpoint.update(model, wait=True)"
      ]
    },
    {
      "cell_type": "code",
      "execution_count": null,
      "metadata": {
        "id": "7nvkzyzTRMVX"
      },
      "outputs": [],
      "source": [
        "deployed_model = endpoint.get_deployed_model()"
      ]
    },
    {
      "cell_type": "markdown",
      "metadata": {
        "id": "tISSQrzFWbA2"
      },
      "source": [
        "## 7. Predictions"
      ]
    },
    {
      "cell_type": "code",
      "execution_count": null,
      "metadata": {
        "id": "N4GOi5ucWywL"
      },
      "outputs": [],
      "source": [
        "sample_data = X_test.values.tolist()[:5]"
      ]
    },
    {
      "cell_type": "code",
      "execution_count": null,
      "metadata": {
        "id": "zU-crWXWRMw-"
      },
      "outputs": [],
      "source": [
        "results = deployed_model.predict(sample_data)"
      ]
    },
    {
      "cell_type": "code",
      "execution_count": null,
      "metadata": {
        "id": "0VWgCDzwWQxe"
      },
      "outputs": [],
      "source": [
        "df = pd.DataFrame(data=sample_data, columns=X_test.columns)"
      ]
    },
    {
      "cell_type": "code",
      "execution_count": null,
      "metadata": {
        "id": "DDLK3GecWFUL"
      },
      "outputs": [],
      "source": [
        "df['PricePrediction'] = [round(i, 2) for i in results]"
      ]
    },
    {
      "cell_type": "code",
      "execution_count": null,
      "metadata": {
        "colab": {
          "base_uri": "https://localhost:8080/",
          "height": 206
        },
        "id": "MP1-KNEBVxrJ",
        "outputId": "af3fef5d-4ed6-4775-b29e-1478418671e5"
      },
      "outputs": [],
      "source": [
        "df"
      ]
    },
    {
      "cell_type": "code",
      "execution_count": null,
      "metadata": {
        "id": "jgA_lZsTWAi0"
      },
      "outputs": [],
      "source": [
        "endpoint.delete()"
      ]
    }
  ],
  "metadata": {
    "colab": {
      "provenance": []
    },
    "kernelspec": {
      "display_name": "Python 3",
      "language": "python",
      "name": "python3"
    },
    "language_info": {
      "name": "python",
      "version": "3.10.6 (main, Nov 14 2022, 16:10:14) [GCC 11.3.0]"
    },
    "vscode": {
      "interpreter": {
        "hash": "916dbcbb3f70747c44a77c7bcd40155683ae19c65e1c03b4aa3499c5328201f1"
      }
    }
  },
  "nbformat": 4,
  "nbformat_minor": 0
}
