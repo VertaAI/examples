{
  "cells": [
    {
      "cell_type": "markdown",
      "metadata": {
        "id": "XFSnMllC7VsZ"
      },
      "source": [
        "# Object Detection - YOLOS from Hugging Face"
      ]
    },
    {
      "cell_type": "markdown",
      "metadata": {
        "id": "FY3YQ9I77bcv"
      },
      "source": [
        "This model identifies objects present in images, returning its scores, labels and bounding boxes.\n",
        "\n",
        "\n",
        "We are using a dataset from [UCF](https://www.crcv.ucf.edu/data/GMCP_Geolocalization/#Dataset) and the model [YOLOS](https://huggingface.co/hustvl/yolos-base) from [Hugging Face](https://huggingface.co/)."
      ]
    },
    {
      "cell_type": "markdown",
      "metadata": {
        "id": "JH-ryaLO7gWL"
      },
      "source": [
        "<a href=\"https://colab.research.google.com/github/VertaAI/examples/blob/main/deployment/huggingface/yolo-object-detection/yolo-predict.ipynb\" target=\"_parent\"><img src=\"https://colab.research.google.com/assets/colab-badge.svg\" alt=\"Open In Colab\"/></a>"
      ]
    },
    {
      "cell_type": "markdown",
      "metadata": {
        "id": "jqnrKwmD71xt"
      },
      "source": [
        "## Dependencies"
      ]
    },
    {
      "cell_type": "markdown",
      "metadata": {
        "id": "eB7xkRCm79Us"
      },
      "source": [
        "This notebook has been tested with **Python 3.8.15** and the following package versions:"
      ]
    },
    {
      "cell_type": "code",
      "execution_count": null,
      "metadata": {
        "id": "V2I-v9Xn74K-"
      },
      "outputs": [],
      "source": [
        "%%capture\n",
        "!pip install beautifulsoup4==4.6.3\n",
        "!pip install verta==0.21.1"
      ]
    },
    {
      "cell_type": "markdown",
      "metadata": {
        "id": "vXhV4WFQ8B9q"
      },
      "source": [
        "## Imports"
      ]
    },
    {
      "cell_type": "code",
      "execution_count": null,
      "metadata": {
        "id": "PYVwDz4N8FHC"
      },
      "outputs": [],
      "source": [
        "import concurrent.futures\n",
        "import multiprocessing\n",
        "import os\n",
        "import requests\n",
        "import time\n",
        "\n",
        "from bs4 import BeautifulSoup\n",
        "from verta import Client"
      ]
    },
    {
      "cell_type": "markdown",
      "metadata": {
        "id": "7BptjnN27NsB"
      },
      "source": [
        "## Verta Set Up"
      ]
    },
    {
      "cell_type": "code",
      "execution_count": null,
      "metadata": {
        "id": "x1lsDNiH7KWG"
      },
      "outputs": [],
      "source": [
        "os.environ['VERTA_HOST'] = ''\n",
        "os.environ['VERTA_EMAIL'] = ''\n",
        "os.environ['VERTA_DEV_KEY'] = ''"
      ]
    },
    {
      "cell_type": "code",
      "execution_count": null,
      "metadata": {
        "id": "2hblVTPy8Z9r"
      },
      "outputs": [],
      "source": [
        "client = Client(os.environ['VERTA_HOST'] , debug=True)"
      ]
    },
    {
      "cell_type": "code",
      "execution_count": null,
      "metadata": {
        "id": "VrHd5TKN8aa4"
      },
      "outputs": [],
      "source": [
        "endpoint = client.get_or_create_endpoint('yolos')"
      ]
    },
    {
      "cell_type": "code",
      "execution_count": null,
      "metadata": {
        "id": "PTRbZGNv80Bm"
      },
      "outputs": [],
      "source": [
        "model = endpoint.get_deployed_model()"
      ]
    },
    {
      "cell_type": "markdown",
      "metadata": {
        "id": "MZylTO9m86w8"
      },
      "source": [
        "## Get URLs"
      ]
    },
    {
      "cell_type": "code",
      "execution_count": null,
      "metadata": {
        "id": "rsCdLoyk_ZQK"
      },
      "outputs": [],
      "source": [
        "url = 'http://www.cs.ucf.edu/~aroshan/index_files/Dataset_PitOrlManh/images/'"
      ]
    },
    {
      "cell_type": "code",
      "execution_count": null,
      "metadata": {
        "id": "aluZOt2bDd9Z"
      },
      "outputs": [],
      "source": [
        "req = requests.get(url)"
      ]
    },
    {
      "cell_type": "code",
      "execution_count": null,
      "metadata": {
        "id": "fwuysZma_bcN"
      },
      "outputs": [],
      "source": [
        "soup = BeautifulSoup(req.text, 'lxml')"
      ]
    },
    {
      "cell_type": "code",
      "execution_count": null,
      "metadata": {
        "id": "eoS0D9Wm_pxs"
      },
      "outputs": [],
      "source": [
        "urls = []\n",
        "\n",
        "for link in soup.find_all('a'):\n",
        "    href = link.get('href')\n",
        "  \n",
        "    if href.endswith('.jpg'):\n",
        "      url = f\"http://www.cs.ucf.edu/~aroshan/index_files/Dataset_PitOrlManh/images/{href}\"\n",
        "      urls.append(url)"
      ]
    },
    {
      "cell_type": "code",
      "execution_count": null,
      "metadata": {
        "id": "gPpdXR_NBVKg"
      },
      "outputs": [],
      "source": [
        "len(urls)"
      ]
    },
    {
      "cell_type": "markdown",
      "metadata": {
        "id": "800RuETG9ISR"
      },
      "source": [
        "## Tests"
      ]
    },
    {
      "cell_type": "code",
      "execution_count": null,
      "metadata": {
        "id": "aq7Uc3aL-Ikj"
      },
      "outputs": [],
      "source": [
        "# n_urls = urls[:100]\n",
        "# n_urls = urls[:1000]\n",
        "n_urls = urls[:10000]"
      ]
    },
    {
      "cell_type": "code",
      "execution_count": null,
      "metadata": {
        "id": "ETcLN4gt66om"
      },
      "outputs": [],
      "source": [
        "def process_image(url):\n",
        "    return model.predict(url)"
      ]
    },
    {
      "cell_type": "code",
      "execution_count": null,
      "metadata": {
        "id": "tF2wA7PGca6i"
      },
      "outputs": [],
      "source": [
        "def show_metrics(version, n_urls, start_time, end_time):\n",
        "    total_time = end_time - start_time\n",
        "    total_time = time.strftime('%Hh %Mm %Ss', time.gmtime(total_time))\n",
        "    \n",
        "    print(f\"Processing Time (v{version}): {total_time} for {len(n_urls)} URLs.\")"
      ]
    },
    {
      "cell_type": "markdown",
      "metadata": {
        "id": "6AShs0JqeZVd"
      },
      "source": [
        "### v0 - Single Process"
      ]
    },
    {
      "cell_type": "code",
      "execution_count": null,
      "metadata": {
        "id": "mbdtGxGrehKI"
      },
      "outputs": [],
      "source": [
        "results = []\n",
        "start_time = time.time()\n",
        "\n",
        "for url in n_urls:\n",
        "    result = model.predict(url)\n",
        "    results.append([url, result])\n",
        "\n",
        "end_time = time.time()\n",
        "show_metrics(0, n_urls, start_time, end_time)"
      ]
    },
    {
      "cell_type": "markdown",
      "metadata": {
        "id": "vYhtIrrdmHZM"
      },
      "source": [
        "**Results:**\n",
        "\n",
        "- Processing Time: 00h 01m 31s for 100 URLs."
      ]
    },
    {
      "cell_type": "markdown",
      "metadata": {
        "id": "ZlO_Y2PDV_Hb"
      },
      "source": [
        "### v1 - ThreadPoolExecutor (concurrent.futures)"
      ]
    },
    {
      "cell_type": "code",
      "execution_count": null,
      "metadata": {
        "id": "kHcG-HVlVeIs"
      },
      "outputs": [],
      "source": [
        "results = []\n",
        "start_time = time.time()\n",
        "\n",
        "with concurrent.futures.ThreadPoolExecutor() as executor:\n",
        "    for url, result in zip(n_urls, executor.map(process_image, n_urls)):\n",
        "        results.append([url, result])\n",
        "\n",
        "end_time = time.time()\n",
        "show_metrics(1, n_urls, start_time, end_time)"
      ]
    },
    {
      "cell_type": "markdown",
      "metadata": {
        "id": "4Wkfnkuglecq"
      },
      "source": [
        "**Results:**\n",
        "\n",
        "- Processing Time: 00h 00m 39s for 100 URLs.\n",
        "- Processing Time: 00h 05m 17s for 1000 URLs.\n",
        "- Processing Time: 00h 38m 18s for 10000 URLs."
      ]
    },
    {
      "cell_type": "markdown",
      "metadata": {
        "id": "KZJLX8hqVDrs"
      },
      "source": [
        "### v2 - ProcessPoolExecutor (concurrent.futures)"
      ]
    },
    {
      "cell_type": "code",
      "execution_count": null,
      "metadata": {
        "id": "qwbMY2l-66yh"
      },
      "outputs": [],
      "source": [
        "results = []\n",
        "start_time = time.time()\n",
        "\n",
        "with concurrent.futures.ProcessPoolExecutor() as executor:\n",
        "    for url, result in zip(n_urls, executor.map(process_image, n_urls)):\n",
        "        results.append([url, result])\n",
        "\n",
        "end_time = time.time()\n",
        "show_metrics(2, n_urls, start_time, end_time)"
      ]
    },
    {
      "cell_type": "markdown",
      "metadata": {
        "id": "a2EAfpZElRjq"
      },
      "source": [
        "**Results:**\n",
        "\n",
        "- Processing Time: 00h 00m 47s for 100 URLs.\n",
        "- Processing Time: 00h 08m 27s for 1000 URLs.\n",
        "- Processing Time: 01h 31m 47s for 10000 URLs."
      ]
    },
    {
      "cell_type": "markdown",
      "metadata": {
        "id": "ust5uOyIWWWl"
      },
      "source": [
        "### v3 - Pool (multiprocessing)"
      ]
    },
    {
      "cell_type": "code",
      "execution_count": null,
      "metadata": {
        "id": "qT3H07OkJa5b"
      },
      "outputs": [],
      "source": [
        "results = []\n",
        "n_cpu = multiprocessing.cpu_count()\n",
        "start_time = time.time()\n",
        "\n",
        "try:\n",
        "    pool = multiprocessing.Pool(processes = n_cpu)\n",
        "\n",
        "    for url, result in zip(n_urls, pool.map(process_image, n_urls)):\n",
        "        results.append([url, result])\n",
        "finally:\n",
        "    pool.close()\n",
        "    pool.join()\n",
        "    end_time = time.time()\n",
        "\n",
        "show_metrics(3, n_urls, start_time, end_time)"
      ]
    },
    {
      "cell_type": "markdown",
      "metadata": {
        "id": "kLt9EgP2k9OK"
      },
      "source": [
        "**Results:**\n",
        "\n",
        "- Processing Time: 00h 00m 48s for 100 URLs.\n",
        "- Processing Time: 00h 08m 48s for 1000 URLs.\n",
        "- Processing Time: 01h 38m 02s for 10000 URLs."
      ]
    }
  ],
  "metadata": {
    "colab": {
      "provenance": []
    },
    "kernelspec": {
      "display_name": "Python 3.8.15 ('.env': venv)",
      "language": "python",
      "name": "python3"
    },
    "language_info": {
      "name": "python",
      "version": "3.8.15"
    },
    "vscode": {
      "interpreter": {
        "hash": "8fcee05e428355ba9289075b405db6efadfd667fc0be61680b205b2b303cc40a"
      }
    }
  },
  "nbformat": 4,
  "nbformat_minor": 0
}
