{
 "cells": [
  {
   "cell_type": "markdown",
   "metadata": {
    "id": "mNecgWsygTmh"
   },
   "source": [
    "# Logistic Regression (scikit-learn) Experiment Versioning & Registry"
   ]
  },
  {
   "cell_type": "markdown",
   "metadata": {
    "id": "9Uq5MGSGgTmm"
   },
   "source": [
    "<a href=\"https://colab.research.google.com/github/VertaAI/modeldb/blob/master/client/workflows/demos/census-experiment-versioning-registry.ipynb\" target=\"_parent\"><img src=\"https://colab.research.google.com/assets/colab-badge.svg\" alt=\"Open In Colab\"/></a>"
   ]
  },
  {
   "cell_type": "markdown",
   "metadata": {
    "id": "5Qj07inLgTmm"
   },
   "source": [
    "# Basic Verta Setup"
   ]
  },
  {
   "cell_type": "code",
   "execution_count": 1,
   "metadata": {
    "id": "5RbOkANUgTmm",
    "scrolled": true
   },
   "outputs": [],
   "source": [
    "# restart your notebook if prompted on Colab\n",
    "try:\n",
    "    import verta\n",
    "except ImportError:\n",
    "    !pip install verta"
   ]
  },
  {
   "cell_type": "code",
   "execution_count": 2,
   "metadata": {},
   "outputs": [],
   "source": [
    "#!pip install -e ~/modeldb/client/verta"
   ]
  },
  {
   "cell_type": "markdown",
   "metadata": {
    "id": "q4-6qC96gTmn"
   },
   "source": [
    "This example features:\n",
    "- **scikit-learn**'s `LinearRegression` model\n",
    "- **verta** model versioning and experiment tracking\n",
    "- **verta** model staging and registry"
   ]
  },
  {
   "cell_type": "code",
   "execution_count": 3,
   "metadata": {
    "id": "a6uns9cXgTmn"
   },
   "outputs": [],
   "source": [
    "HOST = \"demo.dev.verta.ai\"\n",
    "PROJECT_NAME = \"Census Income Classification\"\n",
    "EXPERIMENT_NAME = \"Logistic Regression\"\n",
    "#WORKSPACE = \"stage-testing\""
   ]
  },
  {
   "cell_type": "code",
   "execution_count": 4,
   "metadata": {
    "id": "v8lMdNUygTmn"
   },
   "outputs": [],
   "source": [
    "import os\n",
    "os.environ['VERTA_EMAIL'] = 'meeta@verta.ai'\n",
    "os.environ['VERTA_DEV_KEY'] = 'XXXXXX'"
   ]
  },
  {
   "cell_type": "code",
   "execution_count": 5,
   "metadata": {
    "id": "iDIJj7Y-gTmo"
   },
   "outputs": [],
   "source": [
    "from __future__ import print_function\n",
    "\n",
    "import warnings\n",
    "from sklearn.exceptions import ConvergenceWarning\n",
    "warnings.filterwarnings(\"ignore\", category=ConvergenceWarning)\n",
    "warnings.filterwarnings(\"ignore\", category=FutureWarning)\n",
    "\n",
    "import itertools\n",
    "import os\n",
    "import time\n",
    "\n",
    "import six\n",
    "\n",
    "import numpy as np\n",
    "import pandas as pd\n",
    "\n",
    "import sklearn\n",
    "from sklearn import model_selection\n",
    "from sklearn import linear_model\n",
    "from sklearn import metrics"
   ]
  },
  {
   "cell_type": "code",
   "execution_count": 6,
   "metadata": {
    "id": "Mwn7pcNkgTmp"
   },
   "outputs": [],
   "source": [
    "try:\n",
    "    import wget\n",
    "except ImportError:\n",
    "    !pip install wget  # you may need pip3\n",
    "    import wget"
   ]
  },
  {
   "cell_type": "markdown",
   "metadata": {
    "id": "jy2hcrWigTmp"
   },
   "source": [
    "---"
   ]
  },
  {
   "cell_type": "markdown",
   "metadata": {
    "id": "ZrFYGCnvgTmp"
   },
   "source": [
    "# Phase 1: Model Development"
   ]
  },
  {
   "cell_type": "markdown",
   "metadata": {
    "id": "Z8GH81a5gTmq"
   },
   "source": [
    "This section demonstrates logging model metadata and training artifacts to ModelDB."
   ]
  },
  {
   "cell_type": "markdown",
   "metadata": {
    "id": "D4uI0CdngTmr"
   },
   "source": [
    "## Instantiate client"
   ]
  },
  {
   "cell_type": "code",
   "execution_count": 7,
   "metadata": {
    "id": "58tmcsTbgTmr",
    "scrolled": true
   },
   "outputs": [],
   "source": [
    "from verta import Client\n",
    "from verta.utils import ModelAPI\n",
    "\n",
    "client = Client(HOST)\n",
    "proj = client.set_project(PROJECT_NAME, public_within_org=True)\n",
    "expt = client.set_experiment(EXPERIMENT_NAME)"
   ]
  },
  {
   "cell_type": "markdown",
   "metadata": {
    "id": "O0osTw4wgTmq"
   },
   "source": [
    "## Prepare data"
   ]
  },
  {
   "cell_type": "code",
   "execution_count": 8,
   "metadata": {
    "id": "douCkHRbgTmq"
   },
   "outputs": [],
   "source": [
    "train_data_url = \"http://s3.amazonaws.com/verta-starter/census-train.csv\"\n",
    "train_data_filename = wget.detect_filename(train_data_url)\n",
    "if not os.path.isfile(train_data_filename):\n",
    "    wget.download(train_data_url)\n",
    "\n",
    "test_data_url = \"http://s3.amazonaws.com/verta-starter/census-test.csv\"\n",
    "test_data_filename = wget.detect_filename(test_data_url)\n",
    "if not os.path.isfile(test_data_filename):\n",
    "    wget.download(test_data_url)"
   ]
  },
  {
   "cell_type": "code",
   "execution_count": 9,
   "metadata": {
    "id": "6aDdEHPhOM7E",
    "scrolled": true
   },
   "outputs": [],
   "source": [
    "from verta.dataset import Path\n",
    "\n",
    "dataset = client.set_dataset(name=\"Census Income Local-new\", public_within_org=True)\n",
    "dataset_version = dataset.create_version(Path(train_data_filename))"
   ]
  },
  {
   "cell_type": "code",
   "execution_count": 10,
   "metadata": {
    "id": "W5g6RtqAgTmr"
   },
   "outputs": [],
   "source": [
    "df_train = pd.read_csv(train_data_filename)\n",
    "X_train = df_train.iloc[:,:-1]\n",
    "y_train = df_train.iloc[:, -1]\n",
    "\n",
    "df_train.head()"
   ]
  },
  {
   "cell_type": "markdown",
   "metadata": {
    "id": "9xzFvmP7gTmr"
   },
   "source": [
    "## Prepare hyperparameters"
   ]
  },
  {
   "cell_type": "code",
   "execution_count": 11,
   "metadata": {
    "id": "LkqUoK66gTmr"
   },
   "outputs": [],
   "source": [
    "hyperparam_candidates = {\n",
    "    'C': [1e-6, 1e-4],\n",
    "    'solver': ['lbfgs'],\n",
    "    'max_iter': [115, 228],\n",
    "}\n",
    "hyperparam_sets = [dict(zip(hyperparam_candidates.keys(), values))\n",
    "                   for values\n",
    "                   in itertools.product(*hyperparam_candidates.values())]"
   ]
  },
  {
   "cell_type": "markdown",
   "metadata": {
    "id": "CtTFb0xFgTms"
   },
   "source": [
    "## Train models"
   ]
  },
  {
   "cell_type": "code",
   "execution_count": 12,
   "metadata": {
    "id": "vM5KBuI4gTms",
    "scrolled": true
   },
   "outputs": [],
   "source": [
    "def run_experiment(hyperparams):\n",
    "    # create object to track experiment run\n",
    "    run = client.set_experiment_run()\n",
    "    \n",
    "    # log attributes\n",
    "    run.log_attributes({\n",
    "        'library': \"scikit-learn\",\n",
    "        'model_type': \"logistic regression\",\n",
    "    })\n",
    "    \n",
    "    # log confusion matrix\n",
    "\n",
    "    from verta.data_types import ConfusionMatrix\n",
    "    data = ConfusionMatrix(\n",
    "    value=[\n",
    "        [650000, 100000],\n",
    "        [24000, 3330000],\n",
    "    ],\n",
    "    labels=[\"spam\", \"not spam\"],\n",
    "    )\n",
    "    run.log_attribute(\"Spam_Confusion_Matrix\", data)\n",
    "    \n",
    "    # log discrete histogram\n",
    " \n",
    "    from verta.data_types import DiscreteHistogram\n",
    "    data = DiscreteHistogram(\n",
    "    buckets=[\"yes\", \"no\", \"dont know\"],\n",
    "    data=[1100, 22200,15000],\n",
    "    )\n",
    "    run.log_attribute(\"Response_Histogram\", data)\n",
    "    \n",
    "    # log float histogram\n",
    "\n",
    "    from verta.data_types import FloatHistogram\n",
    "    data = FloatHistogram(\n",
    "    bucket_limits=[1, 13, 25, 37, 49, 61,72,89],\n",
    "    data=[15, 53, 91, 34, 7, 17, 27],\n",
    "    )\n",
    "    run.log_attribute(\"Age_Histogram\", data)\n",
    "    \n",
    "    # log line chart\n",
    "    \n",
    "    from verta.data_types import Line\n",
    "    data = Line(\n",
    "    x=[1, 2, 3,17,18,24,33,44,58,67],\n",
    "    y=[1, 4, 9,90,45,34,34,78,14,45],\n",
    "    )\n",
    "    run.log_attribute(\"Price_Over_Time\", data) \n",
    "        \n",
    "    # log tupple line chart\n",
    "\n",
    "    from verta.data_types import Line\n",
    "    data = Line.from_tuples(\n",
    "    [(1, 1), (2, 4), (3, 9),(7,10),(40,10),(500,20)],\n",
    "    )\n",
    "    run.log_attribute(\"Custom_Price_Chart\", data)\n",
    "\n",
    "    # log confusion matrix\n",
    "\n",
    "    from verta.data_types import Matrix\n",
    "    data = Matrix([\n",
    "    [1000, 200, 35],\n",
    "    [4400, 550, 60],\n",
    "    [7890, 85, 9000],\n",
    "    ])\n",
    "    run.log_attribute(\"Confusion_Matrix\", data)\n",
    "    \n",
    "    # log table\n",
    "\n",
    "    from verta.data_types import Table\n",
    "    data = Table(\n",
    "    data=[[1, 24, \"blue\"], [2, 36, \"red\"]],\n",
    "    columns=[\"id\", \"height\", \"color\"],\n",
    "    )\n",
    "    run.log_attribute(\"Measurements\", data)\n",
    "    \n",
    "    # create validation split\n",
    "    (X_val_train, X_val_test,\n",
    "     y_val_train, y_val_test) = model_selection.train_test_split(X_train, y_train,\n",
    "                                                                 test_size=0.2,\n",
    "                                                                 shuffle=True)\n",
    "\n",
    "    # log hyperparameters\n",
    "    run.log_hyperparameters(hyperparams)\n",
    "    print(hyperparams, end=' ')\n",
    "    \n",
    "    # create and train model\n",
    "    model = linear_model.LogisticRegression(**hyperparams)\n",
    "    model.fit(X_train, y_train)\n",
    "    \n",
    "    # calculate and log validation accuracy\n",
    "    val_acc = model.score(X_val_test, y_val_test)\n",
    "    run.log_metric(\"val_acc\", val_acc)\n",
    "    print(\"Validation accuracy: {:.4f}\".format(val_acc))\n",
    "    \n",
    "    # create deployment artifacts\n",
    "    model_api = ModelAPI(X_train, model.predict(X_train))\n",
    "    requirements = [\"scikit-learn\"]\n",
    "    \n",
    "    # save and log model\n",
    "    run.log_model(model, model_api=model_api, custom_modules=[])\n",
    "    run.log_requirements(requirements)\n",
    "    \n",
    "    # log training data\n",
    "    run.log_dataset_version(\"census_data\", dataset_version)  # log dataset metadata\n",
    "    \n",
    "    # log git information\n",
    "    run.log_code(\n",
    "        repo_url=\"git@github.com:VertaAI/modeldb.git\",\n",
    "        commit_hash=\"d412a0d9\",\n",
    "        autocapture=False,\n",
    "    )\n",
    "    \n",
    "# NOTE: run_experiment() could also be defined in a module, and executed in parallel\n",
    "for hyperparams in hyperparam_sets:\n",
    "    run_experiment(hyperparams)"
   ]
  },
  {
   "cell_type": "markdown",
   "metadata": {
    "id": "nFHREug-gTms"
   },
   "source": [
    "---"
   ]
  },
  {
   "cell_type": "markdown",
   "metadata": {
    "id": "C8qnaFi3gTms"
   },
   "source": [
    "# Revisit Workflow"
   ]
  },
  {
   "cell_type": "markdown",
   "metadata": {
    "id": "0kD9C4QSgTmt"
   },
   "source": [
    "This section demonstrates querying and retrieving runs via the Client."
   ]
  },
  {
   "cell_type": "markdown",
   "metadata": {
    "id": "AQu5SeoQgTmt"
   },
   "source": [
    "## Retrieve best run"
   ]
  },
  {
   "cell_type": "code",
   "execution_count": 13,
   "metadata": {
    "id": "6QeJZrPegTmt"
   },
   "outputs": [],
   "source": [
    "best_run = expt.expt_runs.sort(\"metrics.val_acc\", descending=True)[0]\n",
    "print(\"Validation Accuracy: {:.4f}\".format(best_run.get_metric(\"val_acc\")))\n",
    "\n",
    "best_hyperparams = best_run.get_hyperparameters()\n",
    "print(\"Hyperparameters: {}\".format(best_hyperparams))"
   ]
  },
  {
   "cell_type": "markdown",
   "metadata": {
    "id": "GGYBLbTLgTmt"
   },
   "source": [
    "## Train on full dataset"
   ]
  },
  {
   "cell_type": "code",
   "execution_count": 14,
   "metadata": {
    "id": "OhXZsXUbgTmu"
   },
   "outputs": [],
   "source": [
    "model = linear_model.LogisticRegression(multi_class='auto', **best_hyperparams)\n",
    "model.fit(X_train, y_train)"
   ]
  },
  {
   "cell_type": "markdown",
   "metadata": {
    "id": "7TwgLLg7gTmu"
   },
   "source": [
    "## Calculate accuracy on full training set"
   ]
  },
  {
   "cell_type": "code",
   "execution_count": 15,
   "metadata": {
    "id": "NrWDoILFgTmu"
   },
   "outputs": [],
   "source": [
    "train_acc = model.score(X_train, y_train)\n",
    "print(\"Training accuracy: {:.4f}\".format(train_acc))"
   ]
  },
  {
   "cell_type": "markdown",
   "metadata": {
    "id": "Id1Oq-wIgTmu"
   },
   "source": [
    "---"
   ]
  },
  {
   "cell_type": "markdown",
   "metadata": {
    "id": "E2gk4-yTgTmu"
   },
   "source": [
    "# Phase 2: Staging"
   ]
  },
  {
   "cell_type": "markdown",
   "metadata": {
    "id": "bgYQAwydgTmv"
   },
   "source": [
    "## Register the best perfoming model, for use downstream"
   ]
  },
  {
   "cell_type": "code",
   "execution_count": 16,
   "metadata": {
    "id": "S1Ch14KBgTmw",
    "scrolled": false
   },
   "outputs": [],
   "source": [
    "registered_model = client.get_or_create_registered_model(name=\"Regsitry-demo-model-1\", public_within_org=True)\n",
    "model_version = registered_model.create_version_from_run(best_run.id, name=\"v3\")"
   ]
  },
  {
   "cell_type": "markdown",
   "metadata": {
    "id": "2dGVIEBEgTmw"
   },
   "source": [
    "Fetch the latest model version ready for staging"
   ]
  },
  {
   "cell_type": "code",
   "execution_count": 17,
   "metadata": {
    "scrolled": true
   },
   "outputs": [],
   "source": [
    "latest_model_version = registered_model.versions.sort(\"time_updated\", descending=True)[0]\n",
    "print(latest_model_version)"
   ]
  },
  {
   "cell_type": "markdown",
   "metadata": {
    "id": "2dGVIEBEgTmw"
   },
   "source": [
    "Get artifacts of the specific version"
   ]
  },
  {
   "cell_type": "code",
   "execution_count": 18,
   "metadata": {
    "scrolled": true
   },
   "outputs": [],
   "source": [
    "#dev_model_version = registered_model.versions.sort(\"time_updated\", descending=True)[0]\n",
    "#dev_model_version = registered_model.versions.find(\"stage == development\").sort(\"time_created\")\n",
    "#dev_model_version = registered_model.versions.find(\"stage == Staging\")[0]\n",
    "dev_model_version = registered_model.versions.find(\"stage == production\")[0]\n",
    "#dev_model_version = registered_model.versions.find(\"stage == Archived\")[0]\n",
    "print(dev_model_version)"
   ]
  },
  {
   "cell_type": "code",
   "execution_count": 19,
   "metadata": {},
   "outputs": [],
   "source": [
    "model_artifact = latest_model_version.get_artifact_keys()\n",
    "print(model_artifact)"
   ]
  },
  {
   "cell_type": "code",
   "execution_count": 20,
   "metadata": {},
   "outputs": [],
   "source": []
  }
 ],
 "metadata": {
  "colab": {
   "name": "census-with-new-endpoints.ipynb",
   "provenance": []
  },
  "kernelspec": {
   "display_name": "Python 3",
   "language": "python",
   "name": "python3"
  },
  "language_info": {
   "codemirror_mode": {
    "name": "ipython",
    "version": 3
   },
   "file_extension": ".py",
   "mimetype": "text/x-python",
   "name": "python",
   "nbconvert_exporter": "python",
   "pygments_lexer": "ipython3",
   "version": "3.6.8"
  }
 },
 "nbformat": 4,
 "nbformat_minor": 1
}
