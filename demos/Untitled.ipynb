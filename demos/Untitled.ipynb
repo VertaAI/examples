{
 "cells": [
  {
   "cell_type": "code",
   "execution_count": 1,
   "metadata": {},
   "outputs": [],
   "source": [
    "import wget, os\n",
    "import pandas as pd\n",
    "train_data_url = \"http://s3.amazonaws.com/verta-starter/census-train.csv\"\n",
    "train_data_filename = wget.detect_filename(train_data_url)\n",
    "if not os.path.isfile(train_data_filename):\n",
    "    wget.download(train_data_url)\n",
    "\n",
    "test_data_url = \"http://s3.amazonaws.com/verta-starter/census-test.csv\"\n",
    "test_data_filename = wget.detect_filename(test_data_url)\n",
    "if not os.path.isfile(test_data_filename):\n",
    "    wget.download(test_data_url)"
   ]
  },
  {
   "cell_type": "code",
   "execution_count": 2,
   "metadata": {},
   "outputs": [],
   "source": [
    "df_train = pd.read_csv(train_data_filename)\n",
    "X_train = df_train.iloc[:,:-1]\n",
    "y_train = df_train.iloc[:, -1]\n",
    "\n",
    "df_train.head()"
   ]
  },
  {
   "cell_type": "code",
   "execution_count": 3,
   "metadata": {},
   "outputs": [],
   "source": [
    "from verta import Client\n",
    "from verta.environment import Python\n",
    "import pandas as pd\n",
    "df = pd.read_csv(\"census-train.csv\")\n",
    "in_df = df.iloc[:, :-1]\n",
    "out_df = df.iloc[:, [-1]]\n",
    "from sklearn import linear_model\n",
    "model = linear_model.LogisticRegression()\n",
    "model.fit(in_df, out_df)\n",
    "client = Client(\"https://allstate.dev.verta.ai\", email=\"manasi@verta.ai\", dev_key=\"b1695b7c-2c1a-4076-8a9b-06e105f8b738\")\n",
    "model = client.set_registered_model(\"monitoring - test\")\n",
    "version = model.create_version(\"v10\")\n",
    "class Model(object):\n",
    "    def __init__(self, **kwargs):\n",
    "        pass\n",
    "    def predict(self, x):\n",
    "        return model.predict(x)\n",
    "version.log_model(Model)\n",
    "version.log_environment(Python([\"scikit-learn\"]))\n",
    "version.log_training_data_profile(in_df, out_df)"
   ]
  },
  {
   "cell_type": "code",
   "execution_count": 4,
   "metadata": {},
   "outputs": [],
   "source": []
  }
 ],
 "metadata": {
  "kernelspec": {
   "display_name": "Python 3",
   "language": "python",
   "name": "python3"
  },
  "language_info": {
   "codemirror_mode": {
    "name": "ipython",
    "version": 3
   },
   "file_extension": ".py",
   "mimetype": "text/x-python",
   "name": "python",
   "nbconvert_exporter": "python",
   "pygments_lexer": "ipython3",
   "version": "3.6.8"
  }
 },
 "nbformat": 4,
 "nbformat_minor": 2
}
