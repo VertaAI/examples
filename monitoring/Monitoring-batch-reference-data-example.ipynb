{
 "cells": [
  {
   "cell_type": "markdown",
   "id": "6c0cd3c0",
   "metadata": {},
   "source": [
    "# 0. Setup"
   ]
  },
  {
   "cell_type": "markdown",
   "id": "859e247f",
   "metadata": {},
   "source": [
    "### 0.1 Imports"
   ]
  },
  {
   "cell_type": "code",
   "execution_count": null,
   "id": "2d94c533",
   "metadata": {
    "jupyter": {
     "outputs_hidden": false
    }
   },
   "outputs": [],
   "source": [
    "import os\n",
    "from datetime import datetime\n",
    "from random import randint, uniform\n",
    "from time import sleep\n",
    "from typing import List\n",
    "\n",
    "try:\n",
    "    import numpy as np\n",
    "except ImportError:\n",
    "    !pip install numpy\n",
    "    import numpy as np\n",
    "\n",
    "try:\n",
    "    import pandas as pd\n",
    "except ImportError:\n",
    "    !pip install pandas\n",
    "    import pandas as pd\n",
    "\n",
    "try:\n",
    "    from verta import Client, environment\n",
    "    from verta.dataset import Path\n",
    "    from verta.dataset.entities import Dataset\n",
    "    from verta.deployment._deployedmodel import DeployedModel\n",
    "    from verta.endpoint import Endpoint\n",
    "    from verta.registry import VertaModelBase\n",
    "    from verta.registry import lock\n",
    "    from verta.registry.entities import RegisteredModel, RegisteredModelVersion\n",
    "    from verta.tracking.entities import ExperimentRun\n",
    "    from verta.utils import ModelAPI\n",
    "except ImportError:\n",
    "    !pip install verta\n",
    "    from verta.dataset import Path\n",
    "    from verta.dataset.entities import Dataset\n",
    "    from verta.deployment._deployedmodel import DeployedModel\n",
    "    from verta.endpoint import Endpoint\n",
    "    from verta.registry import VertaModelBase\n",
    "    from verta.registry import lock\n",
    "    from verta.registry.entities import RegisteredModel, RegisteredModelVersion\n",
    "    from verta.tracking.entities import ExperimentRun\n",
    "    from verta.utils import ModelAPI"
   ]
  },
  {
   "cell_type": "markdown",
   "id": "d780235d",
   "metadata": {},
   "source": [
    "### 0.2 Verta Client Setup"
   ]
  },
  {
   "cell_type": "code",
   "execution_count": null,
   "id": "8f518ee8",
   "metadata": {
    "jupyter": {
     "outputs_hidden": false
    }
   },
   "outputs": [],
   "source": [
    "# Use local env vars or uncomment and fill out the lines below:\n",
    "# os.environ['VERTA_EMAIL'] = ''\n",
    "# os.environ['VERTA_DEV_KEY'] = ''\n",
    "# os.environ['VERTA_HOST'] = ''\n",
    "\n",
    "NAME: str = \"batch_reference_data_example-old\"\n",
    "MODEL_VERSION: str = \"v1\"\n",
    "client: Client = Client()"
   ]
  },
  {
   "cell_type": "markdown",
   "id": "1e7ba26b",
   "metadata": {},
   "source": [
    "# 1. Sample Data"
   ]
  },
  {
   "cell_type": "markdown",
   "id": "1a487f05",
   "metadata": {},
   "source": [
    "### 1.1 Generate sample reference data"
   ]
  },
  {
   "cell_type": "code",
   "execution_count": null,
   "id": "2c9253a5",
   "metadata": {
    "jupyter": {
     "outputs_hidden": false
    }
   },
   "outputs": [],
   "source": [
    "def generate_day_data(batch_size: int) -> pd.DataFrame:\n",
    "    data = list()\n",
    "    for _ in range(0, batch_size):\n",
    "        num: int = randint(1,100)\n",
    "        is_odd: float = 0. if num % 2 == 0 else 1.\n",
    "        data.append(\n",
    "            {\n",
    "                \"id\": num,\n",
    "                \"isOdd\": is_odd,\n",
    "                \"isOdd.confidence\": 1.0,\n",
    "            }\n",
    "        )\n",
    "    return pd.DataFrame(data)\n",
    "\n",
    "\n",
    "df_reference = generate_day_data(batch_size=1000)\n",
    "X_reference = df_reference[[\"id\"]]\n",
    "y_reference = df_reference[\"isOdd\"]"
   ]
  },
  {
   "cell_type": "markdown",
   "id": "d5e487af",
   "metadata": {},
   "source": [
    "# 2.0 Create and register a model"
   ]
  },
  {
   "cell_type": "code",
   "execution_count": null,
   "id": "1e54ea9d",
   "metadata": {},
   "outputs": [],
   "source": [
    "odd_model_api: ModelAPI = ModelAPI(\n",
    "    pd.DataFrame.from_records(\n",
    "        [{\"id\": 1}, {\"id\": 2}]),\n",
    "        pd.DataFrame.from_records([{\"isOdd\": 1, \"isOdd.confidence\": 1}, {\"isOdd\": 0, \"isOdd.confidence\": 1}]),\n",
    "        )\n",
    "\n",
    "class IsOdd(VertaModelBase):\n",
    "    def __init__(self, artifacts):\n",
    "        \"ok\"\n",
    "\n",
    "    def predict(self, data):\n",
    "        id: int = data['id']\n",
    "        is_odd: float = 0. if id % 2 == 0 else 1.\n",
    "        # Non-uniform flip\n",
    "        if is_odd:\n",
    "            if uniform(0,1) < 0.1:\n",
    "                is_odd = 1-is_odd\n",
    "        else:\n",
    "            if uniform(0,1) < 0.3:\n",
    "                is_odd = 1-is_odd\n",
    "        # Non-uniform confidence\n",
    "        if is_odd:\n",
    "            confidence = uniform(0.8, 1)\n",
    "        else:\n",
    "            confidence = uniform(0.5, 1)\n",
    "        return {\"isOdd\": is_odd, \"isOdd.confidence\": confidence}"
   ]
  },
  {
   "cell_type": "markdown",
   "id": "d97f378d",
   "metadata": {},
   "source": [
    "### 2.1 Register the model version with Verta"
   ]
  },
  {
   "cell_type": "code",
   "execution_count": null,
   "id": "e730bd83",
   "metadata": {
    "tags": []
   },
   "outputs": [],
   "source": [
    "rm: RegisteredModel = client.get_or_create_registered_model(NAME)\n",
    "rmv: RegisteredModelVersion = rm.create_version(\n",
    "    name=MODEL_VERSION,\n",
    ")\n",
    "rmv.set_lock_level(lock.Redact())"
   ]
  },
  {
   "cell_type": "markdown",
   "id": "f5e1cd1b",
   "metadata": {},
   "source": [
    "### 2.2 Associate model with the model version"
   ]
  },
  {
   "cell_type": "code",
   "execution_count": null,
   "id": "78aa78cb",
   "metadata": {},
   "outputs": [],
   "source": [
    "rmv.log_model(IsOdd, model_api=odd_model_api)\n",
    "rmv.log_environment(environment.Python(requirements=[]))"
   ]
  },
  {
   "cell_type": "markdown",
   "id": "98e8bed4",
   "metadata": {},
   "source": [
    "### 2.3 Associate dataset version to model version"
   ]
  },
  {
   "cell_type": "code",
   "execution_count": null,
   "id": "5578f639",
   "metadata": {},
   "outputs": [],
   "source": [
    "rmv.log_reference_data(X_reference, y_reference)"
   ]
  },
  {
   "cell_type": "markdown",
   "id": "d32af75d",
   "metadata": {},
   "source": [
    "### 2.5 Associate the registered model with an endpoint\n",
    "\n",
    "_Automatcially configures monitoring of the endpoint with default dashboards and drift alerts._"
   ]
  },
  {
   "cell_type": "code",
   "execution_count": null,
   "id": "84d8b845",
   "metadata": {},
   "outputs": [],
   "source": [
    "endpt: Endpoint = client.get_or_create_endpoint(NAME)\n",
    "endpt.update(rmv, wait=True)"
   ]
  },
  {
   "cell_type": "markdown",
   "id": "8156a77e",
   "metadata": {},
   "source": [
    "# 3.0 Use deployed model to make predictions\n",
    "\n",
    "_Also logs ground truth after predictions are run._"
   ]
  },
  {
   "cell_type": "code",
   "execution_count": null,
   "id": "d2414fa6",
   "metadata": {},
   "outputs": [],
   "source": [
    "deployed_model: DeployedModel = endpt.get_deployed_model()\n",
    "sample_df: pd.DataFrame = df_reference\n",
    "# read from existing sample data\n",
    "\n",
    "def simulate_predictions(\n",
    "        endpoint: Endpoint,\n",
    "        prediction_count: int,\n",
    "        ground_truth_df: pd.DataFrame,\n",
    "        ) -> None:\n",
    "    \"\"\" Fire a given number of predictions at the endpoint and update ground truth data. \"\"\"\n",
    "\n",
    "    ids: List[str] = list()\n",
    "    for i in range(prediction_count):\n",
    "        data = {\n",
    "            'id': ground_truth_df[\"id\"][i]\n",
    "        }\n",
    "        prediction_id, val = deployed_model.predict_with_id(data)\n",
    "        ids.append(prediction_id)\n",
    "\n",
    "    ids_and_gt = zip(ids, ground_truth_df.iloc[:prediction_count][\"isOdd\"].tolist())\n",
    "\n",
    "    for t in ids_and_gt:\n",
    "        endpoint.log_ground_truth(t[0], [t[1]], 'isOdd')"
   ]
  },
  {
   "cell_type": "code",
   "execution_count": null,
   "id": "fd822dfd",
   "metadata": {},
   "outputs": [],
   "source": [
    "simulate_predictions(\n",
    "    endpoint=endpt,\n",
    "    prediction_count=1000,\n",
    "    ground_truth_df=sample_df,\n",
    "    )"
   ]
  },
  {
   "cell_type": "markdown",
   "id": "dad9343b",
   "metadata": {},
   "source": [
    "### 3.1 Introduce drift into the data"
   ]
  },
  {
   "cell_type": "code",
   "execution_count": null,
   "id": "a5fe27bb",
   "metadata": {},
   "outputs": [],
   "source": [
    "drifted_data: pd.DataFrame = sample_df.copy()\n",
    "drifted_data['id'] = drifted_data['id'] + 25\n",
    "\n",
    "simulate_predictions(\n",
    "    endpoint=endpt,\n",
    "    prediction_count=500,\n",
    "    ground_truth_df=drifted_data\n",
    ")\n"
   ]
  }
 ],
 "metadata": {
  "kernelspec": {
   "display_name": "Python 3",
   "language": "python",
   "name": "python3"
  },
  "language_info": {
   "codemirror_mode": {
    "name": "ipython",
    "version": 3
   },
   "file_extension": ".py",
   "mimetype": "text/x-python",
   "name": "python",
   "nbconvert_exporter": "python",
   "pygments_lexer": "ipython3",
   "version": "3.7.10"
  }
 },
 "nbformat": 4,
 "nbformat_minor": 5
}
