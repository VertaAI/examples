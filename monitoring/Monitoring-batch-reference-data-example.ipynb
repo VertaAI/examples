{
 "cells": [
  {
   "cell_type": "markdown",
   "id": "6c0cd3c0",
   "metadata": {},
   "source": [
    "# 0. Setup"
   ]
  },
  {
   "cell_type": "markdown",
   "id": "859e247f",
   "metadata": {},
   "source": [
    "### 0.1 Imports"
   ]
  },
  {
   "cell_type": "code",
   "execution_count": null,
   "id": "bf9395b9",
   "metadata": {
    "jupyter": {
     "outputs_hidden": false
    }
   },
   "outputs": [],
   "source": [
    "import os\n",
    "from datetime import datetime\n",
    "from random import randint, uniform\n",
    "import time\n",
    "from typing import List\n",
    "\n",
    "try:\n",
    "    import numpy as np\n",
    "except ImportError:\n",
    "    !pip install numpy\n",
    "    import numpy as np\n",
    "\n",
    "try:\n",
    "    import pandas as pd\n",
    "except ImportError:\n",
    "    !pip install pandas\n",
    "    import pandas as pd\n",
    "\n",
    "try:\n",
    "    from verta import Client, environment\n",
    "    from verta.dataset import Path\n",
    "    from verta.dataset.entities import Dataset\n",
    "    from verta.deployment._deployedmodel import DeployedModel\n",
    "    from verta.endpoint import Endpoint\n",
    "    from verta.registry import VertaModelBase\n",
    "    from verta.registry.entities import RegisteredModel, RegisteredModelVersion\n",
    "    from verta.tracking.entities import ExperimentRun\n",
    "    from verta.utils import ModelAPI\n",
    "except ImportError:\n",
    "    !pip install verta\n",
    "    from verta.dataset import Path\n",
    "    from verta.dataset.entities import Dataset\n",
    "    from verta.deployment._deployedmodel import DeployedModel\n",
    "    from verta.endpoint import Endpoint\n",
    "    from verta.registry import VertaModelBase\n",
    "    from verta.registry.entities import RegisteredModel, RegisteredModelVersion\n",
    "    from verta.tracking.entities import ExperimentRun\n",
    "    from verta.utils import ModelAPI"
   ]
  },
  {
   "cell_type": "markdown",
   "id": "d780235d",
   "metadata": {},
   "source": [
    "### 0.2 Verta Client Setup"
   ]
  },
  {
   "cell_type": "code",
   "execution_count": null,
   "id": "ee583ea0",
   "metadata": {
    "jupyter": {
     "outputs_hidden": false
    }
   },
   "outputs": [],
   "source": [
    "# Use local env vars or uncomment and fill out the lines below:\n",
    "os.environ['VERTA_EMAIL'] = 'ewagner@verta.ai'\n",
    "os.environ['VERTA_DEV_KEY'] = 'fb0c7d6c-8f91-4f87-8730-febd36f74553'\n",
    "os.environ['VERTA_HOST'] = 'ewagner2.dev.verta.ai'\n",
    "\n",
    "NAME: str = \"batch_reference_data_example-11\"\n",
    "MODEL_VERSION: str = \"v1\"\n",
    "client: Client = Client()"
   ]
  },
  {
   "cell_type": "markdown",
   "id": "1e7ba26b",
   "metadata": {},
   "source": [
    "# 1. Sample Data"
   ]
  },
  {
   "cell_type": "markdown",
   "id": "1a487f05",
   "metadata": {},
   "source": [
    "### 1.1 Generate sample reference data"
   ]
  },
  {
   "cell_type": "code",
   "execution_count": null,
   "id": "2379c36e",
   "metadata": {
    "jupyter": {
     "outputs_hidden": false
    }
   },
   "outputs": [],
   "source": [
    "def generate_day_data(batch_size: int) -> pd.DataFrame:\n",
    "    data = list()\n",
    "    for _ in range(0, batch_size):\n",
    "        num: int = randint(1,100)\n",
    "        is_odd: float = 0. if num % 2 == 0 else 1.\n",
    "        data.append(\n",
    "            {\n",
    "                \"id\": num,\n",
    "                \"isOdd\": is_odd,\n",
    "                \"isOdd.confidence\": 1.0,\n",
    "            }\n",
    "        )\n",
    "    return pd.DataFrame(data)\n",
    "\n",
    "\n",
    "def generate_data(batch_size: int) -> None:\n",
    "    dest = f\"data/examples/reference_data/monitoring-batch-reference-example-data.csv\"\n",
    "    os.makedirs(\n",
    "        os.path.dirname(dest),\n",
    "        exist_ok=True,\n",
    "        )\n",
    "    generate_day_data(batch_size).to_csv(\n",
    "        dest,\n",
    "        index=False,\n",
    "        )\n",
    "\n",
    "generate_data(batch_size=1000)"
   ]
  },
  {
   "cell_type": "markdown",
   "id": "fe497c4b",
   "metadata": {},
   "source": [
    "### 1.2 Use generated sample data to create a new versioned dataset"
   ]
  },
  {
   "cell_type": "code",
   "execution_count": null,
   "id": "dc16c8df",
   "metadata": {
    "jupyter": {
     "outputs_hidden": false
    }
   },
   "outputs": [],
   "source": [
    "for root, subdirs, files in os.walk(\"./data\"):\n",
    "    root_dir: str = root\n",
    "\n",
    "dataset: Dataset = client.get_or_create_dataset(NAME)\n",
    "content: Path = Path([], enable_mdb_versioning=True)\n",
    "content.add(root_dir)\n",
    "dataset_version = dataset.create_version(content)"
   ]
  },
  {
   "cell_type": "markdown",
   "id": "d5e487af",
   "metadata": {},
   "source": [
    "# 2.0 Create and register a model"
   ]
  },
  {
   "cell_type": "code",
   "execution_count": null,
   "id": "b8a510ae",
   "metadata": {},
   "outputs": [],
   "source": [
    "odd_model_api: ModelAPI = ModelAPI(\n",
    "    pd.DataFrame.from_records(\n",
    "        [{\"id\": 1}, {\"id\": 2}]),\n",
    "        pd.DataFrame.from_records([{\"isOdd\": 1, \"isOdd.confidence\": 1}, {\"isOdd\": 0, \"isOdd.confidence\": 1}]),\n",
    "        )\n",
    "\n",
    "class IsOdd(VertaModelBase):\n",
    "    def __init__(self, artifacts):\n",
    "        \"ok\"\n",
    "\n",
    "    def predict(self, data):\n",
    "        id: int = data['id']\n",
    "        is_odd: float = 0. if id % 2 == 0 else 1.\n",
    "        # Non-uniform flip\n",
    "        if is_odd:\n",
    "            if uniform(0,1) < 0.1:\n",
    "                is_odd = 1-is_odd\n",
    "        else:\n",
    "            if uniform(0,1) < 0.3:\n",
    "                is_odd = 1-is_odd\n",
    "        # Non-uniform confidence\n",
    "        if is_odd:\n",
    "            confidence = uniform(0.8, 1)\n",
    "        else:\n",
    "            confidence = uniform(0.5, 1)\n",
    "        return {\"isOdd\": is_odd, \"isOdd.confidence\": confidence}"
   ]
  },
  {
   "cell_type": "markdown",
   "id": "8d4a3f26",
   "metadata": {},
   "source": [
    "### 2.1 Add a new project and start an experiment run"
   ]
  },
  {
   "cell_type": "code",
   "execution_count": null,
   "id": "82082b24",
   "metadata": {
    "jupyter": {
     "outputs_hidden": false
    }
   },
   "outputs": [],
   "source": [
    "client.set_project(NAME)\n",
    "client.set_experiment(NAME)\n",
    "er: ExperimentRun = client.set_experiment_run(datetime.now().isoformat())"
   ]
  },
  {
   "cell_type": "markdown",
   "id": "543e986d",
   "metadata": {},
   "source": [
    "### 2.2 Associate model with experiment run"
   ]
  },
  {
   "cell_type": "code",
   "execution_count": null,
   "id": "fb68671e-bcd9-4864-98f9-05d20747b4e6",
   "metadata": {
    "tags": []
   },
   "outputs": [],
   "source": [
    "er.log_model(IsOdd, model_api=odd_model_api)\n",
    "er.log_environment(environment.Python(requirements=[]))"
   ]
  },
  {
   "cell_type": "markdown",
   "id": "3292d482",
   "metadata": {},
   "source": [
    "### 2.3 Associate dataset version to experiment run"
   ]
  },
  {
   "cell_type": "code",
   "execution_count": null,
   "id": "328eab55-a111-4e4d-9b87-a4f79470cc40",
   "metadata": {
    "tags": []
   },
   "outputs": [],
   "source": [
    "er.log_dataset_version(key=\"reference\", dataset_version=dataset_version)"
   ]
  },
  {
   "cell_type": "markdown",
   "id": "d97f378d",
   "metadata": {},
   "source": [
    "### 2.4 Register the model version with Verta"
   ]
  },
  {
   "cell_type": "code",
   "execution_count": null,
   "id": "0072a4ec-8e8e-497f-b1da-7decf13feab3",
   "metadata": {
    "tags": []
   },
   "outputs": [],
   "source": [
    "rm: RegisteredModel = client.get_or_create_registered_model(NAME)\n",
    "rmv: RegisteredModelVersion = rm.create_version_from_run(\n",
    "    run_id=er.id,\n",
    "    name=MODEL_VERSION,\n",
    ")"
   ]
  },
  {
   "cell_type": "markdown",
   "id": "d32af75d",
   "metadata": {},
   "source": [
    "### 2.5 Associate the registered model with an endpoint\n",
    "\n",
    "_Automatcially configures monitoring of the endpoint with default dashboards and drift alerts._"
   ]
  },
  {
   "cell_type": "code",
   "execution_count": null,
   "id": "9afffb87-c722-4044-8e91-cabfcffd106a",
   "metadata": {},
   "outputs": [],
   "source": [
    "endpt: Endpoint = client.get_or_create_endpoint(NAME)\n",
    "endpt.update(rmv, wait=True)\n",
    "time.sleep(120)  # Give services on the new pod a moment to complete setup."
   ]
  },
  {
   "cell_type": "markdown",
   "id": "8156a77e",
   "metadata": {},
   "source": [
    "# 3.0 Use deployed model to make predictions\n",
    "\n",
    "_Also logs ground truth after predictions are run._"
   ]
  },
  {
   "cell_type": "code",
   "execution_count": null,
   "id": "882bf13a",
   "metadata": {},
   "outputs": [],
   "source": [
    "deployed_model: DeployedModel = endpt.get_deployed_model()\n",
    "sample_df: pd.DataFrame = pd.read_csv('data/examples/reference_data/monitoring-batch-reference-example-data.csv')\n",
    "# read from existing sample data\n",
    "\n",
    "def simulate_predictions(\n",
    "        endpoint: Endpoint,\n",
    "        prediction_count: int,\n",
    "        ground_truth_df: pd.DataFrame,\n",
    "        ) -> None:\n",
    "    \"\"\" Fire a given number of predictions at the endpoint and update ground truth data. \"\"\"\n",
    "\n",
    "    ids: List[str] = list()\n",
    "    %%time\n",
    "    for i in range(prediction_count):\n",
    "        data = {\n",
    "            'id': ground_truth_df[\"id\"][i]\n",
    "        }\n",
    "        prediction_id, val = deployed_model.predict_with_id(data)\n",
    "        ids.append(prediction_id)\n",
    "\n",
    "    ids_and_gt = zip(ids, ground_truth_df.iloc[:prediction_count][\"isOdd\"].tolist())\n",
    "\n",
    "    %%time\n",
    "    for t in ids_and_gt:\n",
    "        endpoint.log_ground_truth(t[0], [t[1]], 'isOdd')"
   ]
  },
  {
   "cell_type": "code",
   "execution_count": null,
   "id": "15885329",
   "metadata": {},
   "outputs": [],
   "source": [
    "simulate_predictions(\n",
    "    endpoint=endpt,\n",
    "    prediction_count=500,\n",
    "    ground_truth_df=sample_df,\n",
    "    )"
   ]
  },
  {
   "cell_type": "markdown",
   "id": "059b1aae",
   "metadata": {},
   "source": [
    "### 3.1 Introduce drift into the data"
   ]
  },
  {
   "cell_type": "code",
   "execution_count": null,
   "id": "ed083407",
   "metadata": {},
   "outputs": [],
   "source": [
    "drifted_data: pd.DataFrame = sample_df.copy()\n",
    "drifted_data['id']: int = drifted_data['id'] + 35\n",
    "\n",
    "simulate_predictions(\n",
    "    endpoint=endpt,\n",
    "    prediction_count=300,\n",
    "    ground_truth_df=drifted_data\n",
    ")\n"
   ]
  }
 ],
 "metadata": {
  "kernelspec": {
   "display_name": "Python 3",
   "language": "python",
   "name": "python3"
  },
  "language_info": {
   "codemirror_mode": {
    "name": "ipython",
    "version": 3
   },
   "file_extension": ".py",
   "mimetype": "text/x-python",
   "name": "python",
   "nbconvert_exporter": "python",
   "pygments_lexer": "ipython3",
   "version": "3.7.10"
  }
 },
 "nbformat": 4,
 "nbformat_minor": 5
}
